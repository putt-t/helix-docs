{
 "cells": [
  {
   "cell_type": "code",
   "execution_count": 1,
   "id": "aa8cdb81",
   "metadata": {},
   "outputs": [],
   "source": [
    "import helix\n",
    "from helix.client import Query\n",
    "from helix.types import Payload\n",
    "from typing import List\n",
    "from instance import Instance"
   ]
  },
  {
   "cell_type": "markdown",
   "id": "30e1cadb",
   "metadata": {},
   "source": [
    "## Check Configs"
   ]
  },
  {
   "cell_type": "code",
   "execution_count": 2,
   "id": "cb09f7d3",
   "metadata": {},
   "outputs": [
    {
     "name": "stdout",
     "output_type": "stream",
     "text": [
      "Config file loaded\n"
     ]
    }
   ],
   "source": [
    "import json\n",
    "import os\n",
    "from pathlib import Path\n",
    "\n",
    "CONFIG_PATH = \"helixdb-cfg\"\n",
    "CONFIG_FILE = \"config.hx.json\"\n",
    "QUERIES_FILE = \"queries.hx\"\n",
    "SCHEMA_FILE = \"schema.hx\"\n",
    "DEFAULT_CONFIG = {\n",
    "    \"vector_config\": {\n",
    "        \"m\": 16,\n",
    "        \"ef_construction\": 128,\n",
    "        \"ef_search\": 768\n",
    "    },\n",
    "    \"graph_config\": {\n",
    "        \"secondary_indices\": []\n",
    "    },\n",
    "    \"db_max_size_gb\": 10\n",
    "}\n",
    "\n",
    "helix_dir = Path(os.path.dirname(os.path.curdir)).resolve()\n",
    "os.makedirs(os.path.join(helix_dir, CONFIG_PATH), exist_ok=True)\n",
    "\n",
    "if not Path(os.path.join(helix_dir, CONFIG_PATH, CONFIG_FILE)).exists():\n",
    "    configs = DEFAULT_CONFIG\n",
    "    path = os.path.join(helix_dir, CONFIG_PATH, CONFIG_FILE)\n",
    "    with open(path, \"w\") as f:\n",
    "        json.dump(configs, f, indent=4)\n",
    "    print(\"Config file created\")\n",
    "else:\n",
    "    path = os.path.join(helix_dir, CONFIG_PATH, CONFIG_FILE)\n",
    "    with open(path, \"r\") as f:\n",
    "        configs = json.load(f)\n",
    "    print(\"Config file loaded\")"
   ]
  },
  {
   "cell_type": "markdown",
   "id": "0b422f18",
   "metadata": {},
   "source": [
    "## Create Schema"
   ]
  },
  {
   "cell_type": "code",
   "execution_count": 3,
   "id": "81ca6a13",
   "metadata": {},
   "outputs": [
    {
     "name": "stdout",
     "output_type": "stream",
     "text": [
      "N::User {\n",
      "    name: String\n",
      "    age: U32\n",
      "}\n",
      "\n"
     ]
    }
   ],
   "source": [
    "def create_node(node_type:str, properties:dict = {}) -> str:\n",
    "    output = \"\"\n",
    "    output += \"N::\" + node_type + \" {\\n\"\n",
    "    for key, value in properties.items():\n",
    "        output += \"    \" + str(key) + \": \" + str(value) + \"\\n\"\n",
    "    output += \"}\\n\"\n",
    "    return output\n",
    "\n",
    "print(create_node(\"User\", {\"name\": \"String\", \"age\": \"U32\"}))"
   ]
  },
  {
   "cell_type": "code",
   "execution_count": 4,
   "id": "c33f0178",
   "metadata": {},
   "outputs": [
    {
     "name": "stdout",
     "output_type": "stream",
     "text": [
      "E::Follows {\n",
      "    From: User\n",
      "    To: User\n",
      "    Properties: {\n",
      "        since: I32\n",
      "    }\n",
      "}\n",
      "\n"
     ]
    }
   ],
   "source": [
    "def create_edge(edge_type:str, from_node:str, to_node:str, properties:dict = {}) -> str:\n",
    "    output = \"\"\n",
    "    output += \"E::\" + edge_type + \" {\\n\"\n",
    "    output += \"    From: \" + from_node + \"\\n\"\n",
    "    output += \"    To: \" + to_node + \"\\n\"\n",
    "    output += \"    Properties: {\\n\"\n",
    "    for key, value in properties.items():\n",
    "        output += \"        \" + str(key) + \": \" + str(value) + \"\\n\"\n",
    "    output += \"    }\\n\"\n",
    "    output += \"}\\n\"\n",
    "    return output\n",
    "\n",
    "print(create_edge(\"Follows\", \"User\", \"User\", {\"since\": \"I32\"}))"
   ]
  },
  {
   "cell_type": "code",
   "execution_count": 5,
   "id": "e4de326e",
   "metadata": {},
   "outputs": [
    {
     "name": "stdout",
     "output_type": "stream",
     "text": [
      "V::User {\n",
      "    name: String\n",
      "    age: U32\n",
      "}\n",
      "\n"
     ]
    }
   ],
   "source": [
    "def create_vector(vector_type:str, properties:dict = {}) -> str:\n",
    "    output = \"\"\n",
    "    output += \"V::\" + vector_type + \" {\\n\"\n",
    "    for key, value in properties.items():\n",
    "        output += \"    \" + str(key) + \": \" + str(value) + \"\\n\"\n",
    "    output += \"}\\n\"\n",
    "    return output\n",
    "\n",
    "print(create_vector(\"User\", {\"name\": \"String\", \"age\": \"U32\"}))"
   ]
  },
  {
   "cell_type": "markdown",
   "id": "4f9376c1",
   "metadata": {},
   "source": [
    "## Helix CLI"
   ]
  },
  {
   "cell_type": "markdown",
   "id": "5eb30239",
   "metadata": {},
   "source": [
    "### Deploy"
   ]
  },
  {
   "cell_type": "code",
   "execution_count": 6,
   "id": "a4150a26",
   "metadata": {},
   "outputs": [
    {
     "name": "stderr",
     "output_type": "stream",
     "text": [
      "\u001b[1m\u001b[32mSuccessfully compiled\u001b[0m\u001b[0m 2 \u001b[1m\u001b[32mquery files\u001b[0m\u001b[0m\n",
      "⢺ Building Helix"
     ]
    },
    {
     "name": "stdout",
     "output_type": "stream",
     "text": [
      "Successfully transpiled queries\n",
      "Successfully wrote queries file\n"
     ]
    },
    {
     "name": "stderr",
     "output_type": "stream",
     "text": [
      "\u001b[1m\u001b[32mSuccessfully built Helix\u001b[0m\u001b[0m\n",
      "⢹ Starting Helix instance"
     ]
    },
    {
     "name": "stdout",
     "output_type": "stream",
     "text": [
      "Instance ID: 9198b99e-c28d-4bb1-ad27-1c739f78e8f2 (running)\n",
      "└── Label:\n",
      "└── Port: 6969\n",
      "└── Available endpoints:\n",
      "└── /get_users\n",
      "└── /get_followed_users_posts\n",
      "└── /get_followed_users\n",
      "└── /create_post\n",
      "└── /get_posts\n",
      "└── /get_posts_by_user\n",
      "└── /create_user\n",
      "└── /create_follow\n",
      "Instance ID: 9198b99e-c28d-4bb1-ad27-1c739f78e8f2\n"
     ]
    },
    {
     "name": "stderr",
     "output_type": "stream",
     "text": [
      "\u001b[1m\u001b[32mSuccessfully started Helix instance\u001b[0m\u001b[0m\n"
     ]
    }
   ],
   "source": [
    "import subprocess\n",
    "import re\n",
    "import pexpect\n",
    "\n",
    "# Run command in background\n",
    "deploy_db = subprocess.Popen(\n",
    "    ['helix', 'deploy', '--path', 'helixdb-cfg', '--port', '6969'],\n",
    "    stdout=subprocess.PIPE,\n",
    "    text=True\n",
    ")\n",
    "\n",
    "output = []\n",
    "\n",
    "# Read output line by line\n",
    "for line in deploy_db.stdout:\n",
    "    process_line = re.compile(r'\\x1B(?:[@-Z\\\\-_]|\\[[0-?]*[ -/]*[@-~])')\n",
    "    line = process_line.sub('', line)\n",
    "    output.append(line.strip())\n",
    "    print(line.strip())\n",
    "\n",
    "# Wait for process to complete\n",
    "deploy_db.wait()\n",
    "\n",
    "if \"error\" in \"\\n\".join(output).lower():\n",
    "    raise Exception(f\"Failed to deploy Helix instance\")\n",
    "\n",
    "instance_id = [out for out in output if out.startswith(\"Instance ID:\")][0].split(\"Instance ID: \")[1].split(\" (running)\")[0]\n",
    "# print('\\n'.join(output))\n",
    "print(f\"Instance ID: {instance_id}\")"
   ]
  },
  {
   "cell_type": "markdown",
   "id": "43fcdc45",
   "metadata": {},
   "source": [
    "### Redeploy"
   ]
  },
  {
   "cell_type": "code",
   "execution_count": 8,
   "id": "9ab1c9ad",
   "metadata": {},
   "outputs": [
    {
     "name": "stderr",
     "output_type": "stream",
     "text": [
      "\u001b[1m\u001b[32mSuccessfully compiled\u001b[0m\u001b[0m 2 \u001b[1m\u001b[32mquery files\u001b[0m\u001b[0m\n",
      "⢺ Building Helix"
     ]
    },
    {
     "name": "stdout",
     "output_type": "stream",
     "text": [
      "Helix instance found!\n",
      "Successfully wrote queries file\n"
     ]
    },
    {
     "name": "stderr",
     "output_type": "stream",
     "text": [
      "⢹ Building Helix"
     ]
    },
    {
     "name": "stdout",
     "output_type": "stream",
     "text": [
      "Instance ID: 9198b99e-c28d-4bb1-ad27-1c739f78e8f2 (running)\n",
      "└── Label:\n",
      "└── Port: 6969\n",
      "└── Available endpoints:\n",
      "└── /get_followed_users\n",
      "└── /get_posts\n",
      "└── /get_posts_by_user\n",
      "└── /get_users\n",
      "└── /create_follow\n",
      "└── /create_post\n",
      "└── /get_followed_users_posts\n",
      "└── /create_user\n"
     ]
    },
    {
     "name": "stderr",
     "output_type": "stream",
     "text": [
      "\u001b[1m\u001b[32mSuccessfully built Helix\u001b[0m\u001b[0m\n",
      "\u001b[1m\u001b[32mSuccessfully started Helix instance\u001b[0m\u001b[0m\n"
     ]
    }
   ],
   "source": [
    "redeploy_db = subprocess.Popen(\n",
    "    ['helix', 'redeploy', '--path', 'helixdb-cfg', instance_id],\n",
    "    stdout=subprocess.PIPE,\n",
    "    text=True\n",
    ")\n",
    "\n",
    "output = []\n",
    "\n",
    "# Read output line by line\n",
    "for line in redeploy_db.stdout:\n",
    "    process_line = re.compile(r'\\x1B(?:[@-Z\\\\-_]|\\[[0-?]*[ -/]*[@-~])')\n",
    "    line = process_line.sub('', line)\n",
    "    output.append(line.strip())\n",
    "    print(line.strip())\n",
    "\n",
    "# Wait for process to complete\n",
    "redeploy_db.wait()\n",
    "\n",
    "if \"error\" in \"\\n\".join(output).lower():\n",
    "    print('\\n'.join(output))\n",
    "    raise Exception(f\"Failed to redeploy Helix instance\")\n",
    "\n",
    "# instance_id = [out for out in output if out.startswith(\"Instance ID:\")][0].split(\"Instance ID: \")[1].split(\" (running)\")[0]\n",
    "# print('\\n'.join(output))\n",
    "# print(f\"Instance ID: {instance_id}\")"
   ]
  },
  {
   "cell_type": "markdown",
   "id": "b47d8792",
   "metadata": {},
   "source": [
    "### Stop"
   ]
  },
  {
   "cell_type": "code",
   "execution_count": 9,
   "id": "0afdf81a",
   "metadata": {},
   "outputs": [
    {
     "name": "stdout",
     "output_type": "stream",
     "text": [
      "Stopped instance 9198b99e-c28d-4bb1-ad27-1c739f78e8f2\n"
     ]
    }
   ],
   "source": [
    "stop_db = subprocess.Popen(\n",
    "    ['helix', 'stop', instance_id],\n",
    "    stdout=subprocess.PIPE,\n",
    "    text=True\n",
    ")\n",
    "\n",
    "output = []\n",
    "\n",
    "for line in stop_db.stdout:\n",
    "    process_line = re.compile(r'\\x1B(?:[@-Z\\\\-_]|\\[[0-?]*[ -/]*[@-~])')\n",
    "    line = process_line.sub('', line)\n",
    "    output.append(line.strip())\n",
    "\n",
    "stop_db.wait()\n",
    "\n",
    "print('\\n'.join(output))"
   ]
  },
  {
   "cell_type": "markdown",
   "id": "7a669e67",
   "metadata": {},
   "source": [
    "### Start"
   ]
  },
  {
   "cell_type": "code",
   "execution_count": 10,
   "id": "69e59dfc",
   "metadata": {},
   "outputs": [
    {
     "name": "stdout",
     "output_type": "stream",
     "text": [
      "Instance ID: 9198b99e-c28d-4bb1-ad27-1c739f78e8f2 (running)\n",
      "└── Label:\n",
      "└── Port: 6969\n",
      "└── Available endpoints:\n",
      "└── /get_followed_users\n",
      "└── /get_posts\n",
      "└── /get_posts_by_user\n",
      "└── /get_users\n",
      "└── /create_follow\n",
      "└── /create_post\n",
      "└── /get_followed_users_posts\n",
      "└── /create_user\n"
     ]
    },
    {
     "name": "stderr",
     "output_type": "stream",
     "text": [
      "\u001b[1m\u001b[32mSuccessfully started Helix instance\u001b[0m\u001b[0m\n"
     ]
    }
   ],
   "source": [
    "start_db = subprocess.Popen(\n",
    "    ['helix', 'start', instance_id],\n",
    "    stdout=subprocess.PIPE,\n",
    "    text=True\n",
    ")\n",
    "\n",
    "output = []\n",
    "\n",
    "# Read output line by line\n",
    "for line in start_db.stdout:\n",
    "    process_line = re.compile(r'\\x1B(?:[@-Z\\\\-_]|\\[[0-?]*[ -/]*[@-~])')\n",
    "    line = process_line.sub('', line)\n",
    "    output.append(line.strip())\n",
    "\n",
    "# Wait for process to complete\n",
    "start_db.wait()\n",
    "\n",
    "print('\\n'.join(output))"
   ]
  },
  {
   "cell_type": "markdown",
   "id": "263e2cbd",
   "metadata": {},
   "source": [
    "### Delete"
   ]
  },
  {
   "cell_type": "code",
   "execution_count": 11,
   "id": "59719a17",
   "metadata": {},
   "outputs": [
    {
     "name": "stdout",
     "output_type": "stream",
     "text": [
      " the instance and its data? (y/n): y\n",
      "Deleted Helix instance\n",
      "Deleted Helix instance data\n",
      "\n"
     ]
    }
   ],
   "source": [
    "delete_db = pexpect.spawn(\n",
    "    ' '.join(['helix', 'delete', instance_id]),\n",
    ")\n",
    "\n",
    "delete_db.expect(\"Are you sure you want to delete\", timeout=10)\n",
    "delete_db.sendline(\"y\")\n",
    "delete_db.expect(pexpect.EOF, timeout=10)\n",
    "\n",
    "del_out = delete_db.before.decode('utf-8').split('\\n')\n",
    "\n",
    "for line in del_out:\n",
    "    process_line = re.compile(r'\\x1B(?:[@-Z\\\\-_]|\\[[0-?]*[ -/]*[@-~])')\n",
    "    line = process_line.sub('', line)\n",
    "    print(line)"
   ]
  },
  {
   "cell_type": "markdown",
   "id": "d36bb5cb",
   "metadata": {},
   "source": [
    "### View Instances"
   ]
  },
  {
   "cell_type": "code",
   "execution_count": 12,
   "id": "1081ebd0",
   "metadata": {},
   "outputs": [
    {
     "name": "stdout",
     "output_type": "stream",
     "text": [
      "No running Helix instances\n"
     ]
    }
   ],
   "source": [
    "status_db = subprocess.Popen(\n",
    "    ['helix', 'instances'],\n",
    "    stdout=subprocess.PIPE,\n",
    "    text=True\n",
    ")\n",
    "\n",
    "output = []\n",
    "\n",
    "# Read output line by line\n",
    "for line in status_db.stdout:\n",
    "    process_line = re.compile(r'\\x1B(?:[@-Z\\\\-_]|\\[[0-?]*[ -/]*[@-~])')\n",
    "    line = process_line.sub('', line)\n",
    "    output.append(line.strip())\n",
    "\n",
    "# Wait for process to complete\n",
    "status_db.wait()\n",
    "\n",
    "print('\\n'.join(output))"
   ]
  },
  {
   "cell_type": "markdown",
   "id": "fbcee5a5",
   "metadata": {},
   "source": [
    "### Instance class"
   ]
  },
  {
   "cell_type": "code",
   "execution_count": 13,
   "id": "0c1e8072",
   "metadata": {},
   "outputs": [],
   "source": [
    "# import subprocess\n",
    "# import re\n",
    "# import pexpect\n",
    "# from helix.types import GHELIX, RHELIX\n",
    "\n",
    "# class Instance:\n",
    "#     def __init__(self, config_path=None, port=None, verbose=True):\n",
    "#         self.config_path = config_path\n",
    "#         self.port = port\n",
    "#         self.instance_id = None\n",
    "\n",
    "#         self.verbose = verbose\n",
    "#         self.process_line = re.compile(r'\\x1B(?:[@-Z\\\\-_]|\\[[0-?]*[ -/]*[@-~])')\n",
    "\n",
    "#     def deploy(self):\n",
    "#         if self.verbose: print(f\"{GHELIX} Deploying Helix instance\")\n",
    "#         cmd = ['helix', 'deploy']\n",
    "#         if self.config_path:\n",
    "#             cmd.extend(['--path', self.config_path])\n",
    "#         if self.port:\n",
    "#             cmd.extend(['--port', str(self.port)])\n",
    "\n",
    "#         process = subprocess.Popen(\n",
    "#             cmd,\n",
    "#             stdout=subprocess.PIPE,\n",
    "#             text=True\n",
    "#         )\n",
    "\n",
    "#         output = []\n",
    "\n",
    "#         for line in process.stdout:\n",
    "#             line = self.process_line.sub('', line)\n",
    "#             output.append(line.strip())\n",
    "#             if self.verbose: print(line.strip())\n",
    "\n",
    "#         process.wait()\n",
    "\n",
    "#         if \"error\" in \"\\n\".join(output).lower():\n",
    "#             raise Exception(f\"{RHELIX} Failed to deploy Helix instance\")\n",
    "\n",
    "#         self.instance_id = [out for out in output if out.startswith(\"Instance ID:\")][0].split(\"Instance ID: \")[1].split(\" (running)\")[0]\n",
    "\n",
    "#         if self.verbose: print(f\"{GHELIX} Deployed Helix instance: {self.instance_id}\")\n",
    "\n",
    "#         return output\n",
    "    \n",
    "#     def redeploy(self):\n",
    "#         if self.verbose: print(f\"{GHELIX} Redeploying Helix instance: {self.instance_id}\")\n",
    "#         cmd = ['helix', 'redeploy', '--path', self.config_path, self.instance_id]\n",
    "#         process = subprocess.Popen(\n",
    "#             cmd,\n",
    "#             stdout=subprocess.PIPE,\n",
    "#             text=True\n",
    "#         )\n",
    "\n",
    "#         output = []\n",
    "\n",
    "#         for line in process.stdout:\n",
    "#             line = self.process_line.sub('', line)\n",
    "#             output.append(line.strip())\n",
    "#             if self.verbose: print(line.strip())\n",
    "\n",
    "#         process.wait()\n",
    "\n",
    "#         if \"error\" in \"\\n\".join(output).lower():\n",
    "#             raise Exception(f\"Failed to redeploy Helix instance\")\n",
    "\n",
    "#         return output\n",
    "\n",
    "#     def start(self):\n",
    "#         if self.verbose: print(f\"{GHELIX} Starting Helix instance: {self.instance_id}\")\n",
    "#         cmd = ['helix', 'start', self.instance_id]\n",
    "#         process = subprocess.Popen(\n",
    "#             cmd,\n",
    "#             stdout=subprocess.PIPE,\n",
    "#             text=True\n",
    "#         )\n",
    "\n",
    "#         output = []\n",
    "\n",
    "#         for line in process.stdout:\n",
    "#             line = self.process_line.sub('', line)\n",
    "#             output.append(line.strip())\n",
    "#             if self.verbose: print(line.strip())\n",
    "\n",
    "#         process.wait()\n",
    "\n",
    "#         if \"error\" in \"\\n\".join(output).lower():\n",
    "#             raise Exception(f\"{RHELIX} Failed to start Helix instance\")\n",
    "\n",
    "#         return output\n",
    "\n",
    "#     def stop(self):\n",
    "#         if self.verbose: print(f\"{GHELIX} Stopping Helix instance: {self.instance_id}\")\n",
    "#         process = subprocess.Popen(\n",
    "#             ['helix', 'stop', self.instance_id],\n",
    "#             stdout=subprocess.PIPE,\n",
    "#             text=True\n",
    "#         )\n",
    "\n",
    "#         output = []\n",
    "\n",
    "#         for line in process.stdout:\n",
    "#             line = self.process_line.sub('', line)\n",
    "#             output.append(line.strip())\n",
    "#             if self.verbose: print(line.strip())\n",
    "\n",
    "#         process.wait()\n",
    "\n",
    "#         if \"error\" in \"\\n\".join(output).lower():\n",
    "#             raise Exception(f\"{RHELIX} Failed to stop Helix instance\")\n",
    "\n",
    "#         return output\n",
    "\n",
    "#     def delete(self):\n",
    "#         if self.verbose: print(f\"{GHELIX} Deleting Helix instance: {self.instance_id}\")\n",
    "#         process = pexpect.spawn(\n",
    "#             ' '.join(['helix', 'delete', self.instance_id]),\n",
    "#         )\n",
    "\n",
    "#         process.expect(\"Are you sure you want to delete\", timeout=10)\n",
    "#         process.sendline(\"y\")\n",
    "#         process.expect(pexpect.EOF, timeout=10)\n",
    "\n",
    "#         output = process.before.decode('utf-8').split('\\n')\n",
    "\n",
    "#         for line in output[1:]:\n",
    "#             line = self.process_line.sub('', line)\n",
    "#             if self.verbose: print(line)\n",
    "\n",
    "#         if \"error\" in \"\\n\".join(output).lower():\n",
    "#             raise Exception(f\"{RHELIX} Failed to delete Helix instance\")\n",
    "\n",
    "#         return output\n",
    "\n",
    "#     def status(self):\n",
    "#         if self.verbose: print(f\"{GHELIX} Helix instance status:\")\n",
    "#         cmd = ['helix', 'instances']\n",
    "#         process = subprocess.Popen(\n",
    "#             cmd,\n",
    "#             stdout=subprocess.PIPE,\n",
    "#             text=True\n",
    "#         )\n",
    "\n",
    "#         output = []\n",
    "\n",
    "#         for line in process.stdout:\n",
    "#             line = self.process_line.sub('', line)\n",
    "#             output.append(line.strip())\n",
    "#             if self.verbose: print(line.strip())\n",
    "\n",
    "#         process.wait()\n",
    "\n",
    "#         if \"error\" in \"\\n\".join(output).lower():\n",
    "#             raise Exception(f\"{RHELIX} Failed to get Helix instance status\")\n",
    "\n",
    "#         return output"
   ]
  },
  {
   "cell_type": "code",
   "execution_count": 14,
   "id": "f44ca624",
   "metadata": {},
   "outputs": [],
   "source": [
    "# helix_instance = Instance(\"helixdb-cfg\", \"6969\")\n",
    "# print(\"-\" * 50 + '\\n')\n",
    "# helix_instance.deploy()\n",
    "# print(\"-\" * 50 + '\\n')\n",
    "# helix_instance.status()\n",
    "# print(\"-\" * 50 + '\\n')\n",
    "# helix_instance.stop()\n",
    "# print(\"-\" * 50 + '\\n')\n",
    "# helix_instance.status()\n",
    "# print(\"-\" * 50 + '\\n')\n",
    "# helix_instance.start()\n",
    "# print(\"-\" * 50 + '\\n')\n",
    "# helix_instance.status()\n",
    "# print(\"-\" * 50 + '\\n')\n",
    "# helix_instance.delete()\n",
    "# print(\"-\" * 50 + '\\n')\n",
    "# helix_instance.status()\n",
    "# print(\"-\" * 50 + '\\n')"
   ]
  },
  {
   "cell_type": "code",
   "execution_count": 1,
   "id": "7dedde09",
   "metadata": {},
   "outputs": [
    {
     "name": "stdout",
     "output_type": "stream",
     "text": [
      "--------------------------------------------------\n",
      "\n",
      "\u001b[32m[HELIX]\u001b[0m Deploying Helix instance\n",
      "Successfully transpiled queries\n",
      "Successfully wrote queries file\n"
     ]
    },
    {
     "name": "stderr",
     "output_type": "stream",
     "text": [
      "\u001b[1m\u001b[32mSuccessfully compiled\u001b[0m\u001b[0m 2 \u001b[1m\u001b[32mquery files\u001b[0m\u001b[0m\n",
      "\u001b[1m\u001b[32mSuccessfully built Helix\u001b[0m\u001b[0m\n",
      "\u001b[1m\u001b[32mSuccessfully started Helix instance\u001b[0m\u001b[0m\n",
      "\u001b[1m\u001b[32mSuccessfully started Helix instance\u001b[0m\u001b[0m\n"
     ]
    },
    {
     "name": "stdout",
     "output_type": "stream",
     "text": [
      "Instance ID: b30ec204-086e-4a26-a9e2-0f4ccd255e45 (running)\n",
      "└── Label:\n",
      "└── Port: 6969\n",
      "└── Available endpoints:\n",
      "└── /create_follow\n",
      "└── /get_users\n",
      "└── /get_followed_users_posts\n",
      "└── /get_posts_by_user\n",
      "└── /create_post\n",
      "└── /get_posts\n",
      "└── /get_followed_users\n",
      "└── /create_user\n",
      "\u001b[32m[HELIX]\u001b[0m Deployed Helix instance: b30ec204-086e-4a26-a9e2-0f4ccd255e45\n",
      "--------------------------------------------------\n",
      "\n",
      "\u001b[32m[HELIX]\u001b[0m Helix instance status:\n",
      "Instance ID: b30ec204-086e-4a26-a9e2-0f4ccd255e45 (running)\n",
      "└── Label:\n",
      "└── Port: 6969\n",
      "└── Available endpoints:\n",
      "└── /create_follow\n",
      "└── /get_users\n",
      "└── /get_followed_users_posts\n",
      "└── /get_posts_by_user\n",
      "└── /create_post\n",
      "└── /get_posts\n",
      "└── /get_followed_users\n",
      "└── /create_user\n",
      "\n",
      "--------------------------------------------------\n",
      "\n",
      "\u001b[32m[HELIX]\u001b[0m Stopping Helix instance: b30ec204-086e-4a26-a9e2-0f4ccd255e45\n",
      "Stopped instance b30ec204-086e-4a26-a9e2-0f4ccd255e45\n",
      "--------------------------------------------------\n",
      "\n",
      "\u001b[32m[HELIX]\u001b[0m Helix instance status:\n",
      "Instance ID: b30ec204-086e-4a26-a9e2-0f4ccd255e45 (not running)\n",
      "└── Label:\n",
      "└── Port: 6969\n",
      "└── Available endpoints:\n",
      "└── /create_follow\n",
      "└── /get_users\n",
      "└── /get_followed_users_posts\n",
      "└── /get_posts_by_user\n",
      "└── /create_post\n",
      "└── /get_posts\n",
      "└── /get_followed_users\n",
      "└── /create_user\n",
      "\n",
      "--------------------------------------------------\n",
      "\n",
      "\u001b[32m[HELIX]\u001b[0m Starting Helix instance: b30ec204-086e-4a26-a9e2-0f4ccd255e45\n",
      "Instance ID: b30ec204-086e-4a26-a9e2-0f4ccd255e45 (running)\n",
      "└── Label:\n",
      "└── Port: 6969\n",
      "└── Available endpoints:\n",
      "└── /create_follow\n",
      "└── /get_users\n",
      "└── /get_followed_users_posts\n",
      "└── /get_posts_by_user\n",
      "└── /create_post\n",
      "└── /get_posts\n",
      "└── /get_followed_users\n",
      "└── /create_user\n",
      "--------------------------------------------------\n",
      "\n",
      "\u001b[32m[HELIX]\u001b[0m Helix instance status:\n",
      "Instance ID: b30ec204-086e-4a26-a9e2-0f4ccd255e45 (running)\n",
      "└── Label:\n",
      "└── Port: 6969\n",
      "└── Available endpoints:\n",
      "└── /create_follow\n",
      "└── /get_users\n",
      "└── /get_followed_users_posts\n",
      "└── /get_posts_by_user\n",
      "└── /create_post\n",
      "└── /get_posts\n",
      "└── /get_followed_users\n",
      "└── /create_user\n",
      "\n",
      "--------------------------------------------------\n",
      "\n",
      "\u001b[32m[HELIX]\u001b[0m Deleting Helix instance: b30ec204-086e-4a26-a9e2-0f4ccd255e45\n",
      "Deleted Helix instance\n",
      "Deleted Helix instance data\n",
      "\n",
      "--------------------------------------------------\n",
      "\n",
      "\u001b[32m[HELIX]\u001b[0m Helix instance status:\n",
      "No running Helix instances\n",
      "--------------------------------------------------\n",
      "\n"
     ]
    }
   ],
   "source": [
    "from instance import Instance\n",
    "helix_instance = Instance(\"helixdb-cfg\", \"6969\")\n",
    "print(\"-\" * 50 + '\\n')\n",
    "helix_instance.deploy()\n",
    "print(\"-\" * 50 + '\\n')\n",
    "helix_instance.status()\n",
    "print(\"-\" * 50 + '\\n')\n",
    "helix_instance.stop()\n",
    "print(\"-\" * 50 + '\\n')\n",
    "helix_instance.status()\n",
    "print(\"-\" * 50 + '\\n')\n",
    "helix_instance.start()\n",
    "print(\"-\" * 50 + '\\n')\n",
    "helix_instance.status()\n",
    "print(\"-\" * 50 + '\\n')\n",
    "helix_instance.delete()\n",
    "print(\"-\" * 50 + '\\n')\n",
    "helix_instance.status()\n",
    "print(\"-\" * 50 + '\\n')"
   ]
  },
  {
   "cell_type": "markdown",
   "id": "3d7508b3",
   "metadata": {},
   "source": [
    "## Create RAG Query"
   ]
  },
  {
   "cell_type": "code",
   "execution_count": null,
   "id": "1175b864",
   "metadata": {},
   "outputs": [],
   "source": []
  }
 ],
 "metadata": {
  "kernelspec": {
   "display_name": ".venv",
   "language": "python",
   "name": "python3"
  },
  "language_info": {
   "codemirror_mode": {
    "name": "ipython",
    "version": 3
   },
   "file_extension": ".py",
   "mimetype": "text/x-python",
   "name": "python",
   "nbconvert_exporter": "python",
   "pygments_lexer": "ipython3",
   "version": "3.13.3"
  }
 },
 "nbformat": 4,
 "nbformat_minor": 5
}
