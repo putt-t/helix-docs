{
 "cells": [
  {
   "cell_type": "code",
   "execution_count": 1,
   "id": "aa8cdb81",
   "metadata": {},
   "outputs": [
    {
     "ename": "Exception",
     "evalue": "\u001b[31m[HELIX]\u001b[0m No helix server found at 'http://0.0.0.0:6969'",
     "output_type": "error",
     "traceback": [
      "\u001b[31m---------------------------------------------------------------------------\u001b[39m",
      "\u001b[31mConnectionRefusedError\u001b[39m                    Traceback (most recent call last)",
      "\u001b[36mFile \u001b[39m\u001b[32m~/Documents/Github/helix-docs/.venv/lib/python3.13/site-packages/helix/client.py:105\u001b[39m, in \u001b[36mClient.__init__\u001b[39m\u001b[34m(self, local, port, api_endpoint)\u001b[39m\n\u001b[32m    104\u001b[39m hostname = \u001b[38;5;28mself\u001b[39m.h_server_url.replace(\u001b[33m\"\u001b[39m\u001b[33mhttp://\u001b[39m\u001b[33m\"\u001b[39m, \u001b[33m\"\u001b[39m\u001b[33m\"\u001b[39m).replace(\u001b[33m\"\u001b[39m\u001b[33mhttps://\u001b[39m\u001b[33m\"\u001b[39m, \u001b[33m\"\u001b[39m\u001b[33m\"\u001b[39m).split(\u001b[33m\"\u001b[39m\u001b[33m/\u001b[39m\u001b[33m\"\u001b[39m)[\u001b[32m0\u001b[39m]\n\u001b[32m--> \u001b[39m\u001b[32m105\u001b[39m \u001b[43msocket\u001b[49m\u001b[43m.\u001b[49m\u001b[43mcreate_connection\u001b[49m\u001b[43m(\u001b[49m\u001b[43m(\u001b[49m\u001b[43mhostname\u001b[49m\u001b[43m,\u001b[49m\u001b[43m \u001b[49m\u001b[38;5;28;43mself\u001b[39;49m\u001b[43m.\u001b[49m\u001b[43mh_server_port\u001b[49m\u001b[43m)\u001b[49m\u001b[43m,\u001b[49m\u001b[43m \u001b[49m\u001b[43mtimeout\u001b[49m\u001b[43m=\u001b[49m\u001b[32;43m5\u001b[39;49m\u001b[43m)\u001b[49m\n\u001b[32m    106\u001b[39m \u001b[38;5;28mprint\u001b[39m(\u001b[33mf\u001b[39m\u001b[33m\"\u001b[39m\u001b[38;5;132;01m{\u001b[39;00mGHELIX\u001b[38;5;132;01m}\u001b[39;00m\u001b[33m Helix instance found at \u001b[39m\u001b[33m'\u001b[39m\u001b[38;5;132;01m{\u001b[39;00m\u001b[38;5;28mself\u001b[39m.h_server_url\u001b[38;5;132;01m}\u001b[39;00m\u001b[33m:\u001b[39m\u001b[38;5;132;01m{\u001b[39;00m\u001b[38;5;28mself\u001b[39m.h_server_port\u001b[38;5;132;01m}\u001b[39;00m\u001b[33m'\u001b[39m\u001b[33m\"\u001b[39m)\n",
      "\u001b[36mFile \u001b[39m\u001b[32m/opt/homebrew/Cellar/python@3.13/3.13.3/Frameworks/Python.framework/Versions/3.13/lib/python3.13/socket.py:864\u001b[39m, in \u001b[36mcreate_connection\u001b[39m\u001b[34m(address, timeout, source_address, all_errors)\u001b[39m\n\u001b[32m    863\u001b[39m \u001b[38;5;28;01mif\u001b[39;00m \u001b[38;5;129;01mnot\u001b[39;00m all_errors:\n\u001b[32m--> \u001b[39m\u001b[32m864\u001b[39m     \u001b[38;5;28;01mraise\u001b[39;00m exceptions[\u001b[32m0\u001b[39m]\n\u001b[32m    865\u001b[39m \u001b[38;5;28;01mraise\u001b[39;00m ExceptionGroup(\u001b[33m\"\u001b[39m\u001b[33mcreate_connection failed\u001b[39m\u001b[33m\"\u001b[39m, exceptions)\n",
      "\u001b[36mFile \u001b[39m\u001b[32m/opt/homebrew/Cellar/python@3.13/3.13.3/Frameworks/Python.framework/Versions/3.13/lib/python3.13/socket.py:849\u001b[39m, in \u001b[36mcreate_connection\u001b[39m\u001b[34m(address, timeout, source_address, all_errors)\u001b[39m\n\u001b[32m    848\u001b[39m     sock.bind(source_address)\n\u001b[32m--> \u001b[39m\u001b[32m849\u001b[39m \u001b[43msock\u001b[49m\u001b[43m.\u001b[49m\u001b[43mconnect\u001b[49m\u001b[43m(\u001b[49m\u001b[43msa\u001b[49m\u001b[43m)\u001b[49m\n\u001b[32m    850\u001b[39m \u001b[38;5;66;03m# Break explicitly a reference cycle\u001b[39;00m\n",
      "\u001b[31mConnectionRefusedError\u001b[39m: [Errno 61] Connection refused",
      "\nDuring handling of the above exception, another exception occurred:\n",
      "\u001b[31mException\u001b[39m                                 Traceback (most recent call last)",
      "\u001b[36mCell\u001b[39m\u001b[36m \u001b[39m\u001b[32mIn[1]\u001b[39m\u001b[32m, line 6\u001b[39m\n\u001b[32m      3\u001b[39m \u001b[38;5;28;01mfrom\u001b[39;00m\u001b[38;5;250m \u001b[39m\u001b[34;01mhelix\u001b[39;00m\u001b[34;01m.\u001b[39;00m\u001b[34;01mtypes\u001b[39;00m\u001b[38;5;250m \u001b[39m\u001b[38;5;28;01mimport\u001b[39;00m Payload\n\u001b[32m      4\u001b[39m \u001b[38;5;28;01mfrom\u001b[39;00m\u001b[38;5;250m \u001b[39m\u001b[34;01mtyping\u001b[39;00m\u001b[38;5;250m \u001b[39m\u001b[38;5;28;01mimport\u001b[39;00m List\n\u001b[32m----> \u001b[39m\u001b[32m6\u001b[39m db = \u001b[43mhelix\u001b[49m\u001b[43m.\u001b[49m\u001b[43mClient\u001b[49m\u001b[43m(\u001b[49m\u001b[43mlocal\u001b[49m\u001b[43m=\u001b[49m\u001b[38;5;28;43;01mTrue\u001b[39;49;00m\u001b[43m,\u001b[49m\u001b[43m \u001b[49m\u001b[43mport\u001b[49m\u001b[43m=\u001b[49m\u001b[32;43m6969\u001b[39;49m\u001b[43m)\u001b[49m\n",
      "\u001b[36mFile \u001b[39m\u001b[32m~/Documents/Github/helix-docs/.venv/lib/python3.13/site-packages/helix/client.py:108\u001b[39m, in \u001b[36mClient.__init__\u001b[39m\u001b[34m(self, local, port, api_endpoint)\u001b[39m\n\u001b[32m    106\u001b[39m     \u001b[38;5;28mprint\u001b[39m(\u001b[33mf\u001b[39m\u001b[33m\"\u001b[39m\u001b[38;5;132;01m{\u001b[39;00mGHELIX\u001b[38;5;132;01m}\u001b[39;00m\u001b[33m Helix instance found at \u001b[39m\u001b[33m'\u001b[39m\u001b[38;5;132;01m{\u001b[39;00m\u001b[38;5;28mself\u001b[39m.h_server_url\u001b[38;5;132;01m}\u001b[39;00m\u001b[33m:\u001b[39m\u001b[38;5;132;01m{\u001b[39;00m\u001b[38;5;28mself\u001b[39m.h_server_port\u001b[38;5;132;01m}\u001b[39;00m\u001b[33m'\u001b[39m\u001b[33m\"\u001b[39m)\n\u001b[32m    107\u001b[39m \u001b[38;5;28;01mexcept\u001b[39;00m socket.error:\n\u001b[32m--> \u001b[39m\u001b[32m108\u001b[39m     \u001b[38;5;28;01mraise\u001b[39;00m \u001b[38;5;167;01mException\u001b[39;00m(\u001b[33mf\u001b[39m\u001b[33m\"\u001b[39m\u001b[38;5;132;01m{\u001b[39;00mRHELIX\u001b[38;5;132;01m}\u001b[39;00m\u001b[33m No helix server found at \u001b[39m\u001b[33m'\u001b[39m\u001b[38;5;132;01m{\u001b[39;00m\u001b[38;5;28mself\u001b[39m.h_server_url\u001b[38;5;132;01m}\u001b[39;00m\u001b[33m:\u001b[39m\u001b[38;5;132;01m{\u001b[39;00m\u001b[38;5;28mself\u001b[39m.h_server_port\u001b[38;5;132;01m}\u001b[39;00m\u001b[33m'\u001b[39m\u001b[33m\"\u001b[39m)\n",
      "\u001b[31mException\u001b[39m: \u001b[31m[HELIX]\u001b[0m No helix server found at 'http://0.0.0.0:6969'"
     ]
    }
   ],
   "source": [
    "import helix\n",
    "from helix.client import Query\n",
    "from helix.types import Payload\n",
    "from typing import List\n",
    "\n",
    "db = helix.Client(local=True, port=6969)"
   ]
  },
  {
   "cell_type": "markdown",
   "id": "30e1cadb",
   "metadata": {},
   "source": [
    "## Check Configs"
   ]
  },
  {
   "cell_type": "code",
   "execution_count": 37,
   "id": "cb09f7d3",
   "metadata": {},
   "outputs": [
    {
     "name": "stdout",
     "output_type": "stream",
     "text": [
      "Config file created\n"
     ]
    }
   ],
   "source": [
    "import json\n",
    "import os\n",
    "from pathlib import Path\n",
    "\n",
    "CONFIG_PATH = \"helixdb-cfg\"\n",
    "CONFIG_FILE = \"config.hx.json\"\n",
    "QUERIES_FILE = \"queries.hx\"\n",
    "SCHEMA_FILE = \"schema.hx\"\n",
    "DEFAULT_CONFIG = {\n",
    "    \"vector_config\": {\n",
    "        \"m\": 16,\n",
    "        \"ef_construction\": 128,\n",
    "        \"ef_search\": 768\n",
    "    },\n",
    "    \"graph_config\": {\n",
    "        \"secondary_indices\": []\n",
    "    },\n",
    "    \"db_max_size_gb\": 10\n",
    "}\n",
    "\n",
    "helix_dir = Path(os.path.dirname(os.path.curdir)).resolve()\n",
    "os.makedirs(os.path.join(helix_dir, CONFIG_PATH), exist_ok=True)\n",
    "\n",
    "if not Path(os.path.join(helix_dir, CONFIG_PATH, CONFIG_FILE)).exists():\n",
    "    configs = DEFAULT_CONFIG\n",
    "    path = os.path.join(helix_dir, CONFIG_PATH, CONFIG_FILE)\n",
    "    with open(path, \"w\") as f:\n",
    "        json.dump(configs, f, indent=4)\n",
    "    print(\"Config file created\")\n",
    "else:\n",
    "    path = os.path.join(helix_dir, CONFIG_PATH, CONFIG_FILE)\n",
    "    with open(path, \"r\") as f:\n",
    "        configs = json.load(f)\n",
    "    print(\"Config file loaded\")"
   ]
  },
  {
   "cell_type": "markdown",
   "id": "0b422f18",
   "metadata": {},
   "source": [
    "## Create Schema"
   ]
  },
  {
   "cell_type": "code",
   "execution_count": null,
   "id": "81ca6a13",
   "metadata": {},
   "outputs": [
    {
     "name": "stdout",
     "output_type": "stream",
     "text": [
      "N::User {\n",
      "    name: String\n",
      "    age: U32\n",
      "}\n",
      "\n"
     ]
    }
   ],
   "source": [
    "def create_node(node_type:str, properties:dict = {}) -> str:\n",
    "    output = \"\"\n",
    "    output += \"N::\" + node_type + \" {\\n\"\n",
    "    for key, value in properties.items():\n",
    "        output += \"    \" + str(key) + \": \" + str(value) + \"\\n\"\n",
    "    output += \"}\\n\"\n",
    "    return output\n",
    "\n",
    "print(create_node(\"User\", {\"name\": \"String\", \"age\": \"U32\"}))"
   ]
  },
  {
   "cell_type": "code",
   "execution_count": 61,
   "id": "c33f0178",
   "metadata": {},
   "outputs": [
    {
     "name": "stdout",
     "output_type": "stream",
     "text": [
      "E::Follows {\n",
      "    From: User\n",
      "    To: User\n",
      "    Properties: {\n",
      "        since: I32\n",
      "    }\n",
      "}\n",
      "\n"
     ]
    }
   ],
   "source": [
    "def create_edge(edge_type:str, from_node:str, to_node:str, properties:dict = {}) -> str:\n",
    "    output = \"\"\n",
    "    output += \"E::\" + edge_type + \" {\\n\"\n",
    "    output += \"    From: \" + from_node + \"\\n\"\n",
    "    output += \"    To: \" + to_node + \"\\n\"\n",
    "    output += \"    Properties: {\\n\"\n",
    "    for key, value in properties.items():\n",
    "        output += \"        \" + str(key) + \": \" + str(value) + \"\\n\"\n",
    "    output += \"    }\\n\"\n",
    "    output += \"}\\n\"\n",
    "    return output\n",
    "\n",
    "print(create_edge(\"Follows\", \"User\", \"User\", {\"since\": \"I32\"}))"
   ]
  },
  {
   "cell_type": "code",
   "execution_count": 62,
   "id": "e4de326e",
   "metadata": {},
   "outputs": [
    {
     "name": "stdout",
     "output_type": "stream",
     "text": [
      "V::User {\n",
      "    name: String\n",
      "    age: U32\n",
      "}\n",
      "\n"
     ]
    }
   ],
   "source": [
    "def create_vector(vector_type:str, properties:dict = {}) -> str:\n",
    "    output = \"\"\n",
    "    output += \"V::\" + vector_type + \" {\\n\"\n",
    "    for key, value in properties.items():\n",
    "        output += \"    \" + str(key) + \": \" + str(value) + \"\\n\"\n",
    "    output += \"}\\n\"\n",
    "    return output\n",
    "\n",
    "print(create_vector(\"User\", {\"name\": \"String\", \"age\": \"U32\"}))"
   ]
  },
  {
   "cell_type": "markdown",
   "id": "4f9376c1",
   "metadata": {},
   "source": [
    "## Helix CLI"
   ]
  },
  {
   "cell_type": "markdown",
   "id": "5eb30239",
   "metadata": {},
   "source": [
    "### Deploy"
   ]
  },
  {
   "cell_type": "code",
   "execution_count": 2,
   "id": "a4150a26",
   "metadata": {},
   "outputs": [
    {
     "name": "stderr",
     "output_type": "stream",
     "text": [
      "\u001b[1m\u001b[32mSuccessfully compiled\u001b[0m\u001b[0m 2 \u001b[1m\u001b[32mquery files\u001b[0m\u001b[0m\n",
      "\u001b[1m\u001b[32mSuccessfully built Helix\u001b[0m\u001b[0m\n",
      "⢹ Starting Helix instance"
     ]
    },
    {
     "name": "stdout",
     "output_type": "stream",
     "text": [
      "Port 6969 is in use, using port 6970 instead\n",
      "Successfully transpiled queries\n",
      "Successfully wrote queries file\n",
      "Instance ID: dd795160-0899-4c6b-bd41-cc6657178f10 (running)\n",
      "└── Label:\n",
      "└── Port: 6970\n",
      "└── Available endpoints:\n",
      "└── /create_user\n",
      "└── /get_users\n",
      "└── /create_post\n",
      "└── /get_followed_users_posts\n",
      "└── /create_follow\n",
      "└── /get_posts\n",
      "└── /get_posts_by_user\n",
      "└── /get_followed_users\n",
      "Instance ID: dd795160-0899-4c6b-bd41-cc6657178f10\n"
     ]
    },
    {
     "name": "stderr",
     "output_type": "stream",
     "text": [
      "\u001b[1m\u001b[32mSuccessfully started Helix instance\u001b[0m\u001b[0m\n"
     ]
    }
   ],
   "source": [
    "import subprocess\n",
    "import re\n",
    "import pexpect\n",
    "\n",
    "# Run command in background\n",
    "deploy_db = subprocess.Popen(\n",
    "    ['helix', 'deploy', '--path', 'helixdb-cfg', '--port', '6969'],\n",
    "    stdout=subprocess.PIPE,\n",
    "    text=True\n",
    ")\n",
    "\n",
    "output = []\n",
    "\n",
    "# Read output line by line\n",
    "for line in deploy_db.stdout:\n",
    "    process_line = re.compile(r'\\x1B(?:[@-Z\\\\-_]|\\[[0-?]*[ -/]*[@-~])')\n",
    "    line = process_line.sub('', line)\n",
    "    output.append(line.strip())\n",
    "\n",
    "# Wait for process to complete\n",
    "deploy_db.wait()\n",
    "\n",
    "instance_id = [out for out in output if out.startswith(\"Instance ID:\")][0].split(\"Instance ID: \")[1].split(\" (running)\")[0]\n",
    "print('\\n'.join(output))\n",
    "print(f\"Instance ID: {instance_id}\")"
   ]
  },
  {
   "cell_type": "markdown",
   "id": "b47d8792",
   "metadata": {},
   "source": [
    "### Stop"
   ]
  },
  {
   "cell_type": "code",
   "execution_count": null,
   "id": "0afdf81a",
   "metadata": {},
   "outputs": [
    {
     "ename": "AttributeError",
     "evalue": "'NoneType' object has no attribute 'decode'",
     "output_type": "error",
     "traceback": [
      "\u001b[31m---------------------------------------------------------------------------\u001b[39m",
      "\u001b[31mAttributeError\u001b[39m                            Traceback (most recent call last)",
      "\u001b[36mCell\u001b[39m\u001b[36m \u001b[39m\u001b[32mIn[4]\u001b[39m\u001b[32m, line 6\u001b[39m\n\u001b[32m      1\u001b[39m stop_db = pexpect.spawn(\n\u001b[32m      2\u001b[39m     \u001b[33m'\u001b[39m\u001b[33m \u001b[39m\u001b[33m'\u001b[39m.join([\u001b[33m'\u001b[39m\u001b[33mhelix\u001b[39m\u001b[33m'\u001b[39m, \u001b[33m'\u001b[39m\u001b[33mstop\u001b[39m\u001b[33m'\u001b[39m, instance_id]),\n\u001b[32m      3\u001b[39m )\n\u001b[32m----> \u001b[39m\u001b[32m6\u001b[39m stop_out = \u001b[43mstop_db\u001b[49m\u001b[43m.\u001b[49m\u001b[43mbefore\u001b[49m\u001b[43m.\u001b[49m\u001b[43mdecode\u001b[49m(\u001b[33m'\u001b[39m\u001b[33mutf-8\u001b[39m\u001b[33m'\u001b[39m).split(\u001b[33m'\u001b[39m\u001b[38;5;130;01m\\n\u001b[39;00m\u001b[33m'\u001b[39m)\n\u001b[32m      8\u001b[39m \u001b[38;5;28;01mfor\u001b[39;00m line \u001b[38;5;129;01min\u001b[39;00m stop_out:\n\u001b[32m      9\u001b[39m     process_line = re.compile(\u001b[33mr\u001b[39m\u001b[33m'\u001b[39m\u001b[33m\\\u001b[39m\u001b[33mx1B(?:[@-Z\u001b[39m\u001b[38;5;130;01m\\\\\u001b[39;00m\u001b[33m-_]|\u001b[39m\u001b[33m\\\u001b[39m\u001b[33m[[0-?]*[ -/]*[@-~])\u001b[39m\u001b[33m'\u001b[39m)\n",
      "\u001b[31mAttributeError\u001b[39m: 'NoneType' object has no attribute 'decode'"
     ]
    }
   ],
   "source": [
    "stop_db = pexpect.spawn(\n",
    "    ' '.join(['helix', 'stop', instance_id]),\n",
    ")\n",
    "\n",
    "stop_out = stop_db.before.decode('utf-8').split('\\n')\n",
    "\n",
    "print(stop_out)\n",
    "\n",
    "for line in stop_out:\n",
    "    process_line = re.compile(r'\\x1B(?:[@-Z\\\\-_]|\\[[0-?]*[ -/]*[@-~])')\n",
    "    line = process_line.sub('', line)\n",
    "    print(line)"
   ]
  },
  {
   "cell_type": "markdown",
   "id": "263e2cbd",
   "metadata": {},
   "source": [
    "### Delete"
   ]
  },
  {
   "cell_type": "code",
   "execution_count": 122,
   "id": "59719a17",
   "metadata": {},
   "outputs": [
    {
     "name": "stdout",
     "output_type": "stream",
     "text": [
      " the instance and its data? (y/n): y\n",
      "Deleted Helix instance\n",
      "Deleted Helix instance data\n",
      "\n"
     ]
    }
   ],
   "source": [
    "delete_db = pexpect.spawn(\n",
    "    ' '.join(['helix', 'delete', instance_id]),\n",
    ")\n",
    "\n",
    "delete_db.expect(\"Are you sure you want to delete\")\n",
    "delete_db.sendline(\"y\")\n",
    "delete_db.expect(pexpect.EOF)\n",
    "\n",
    "del_out = delete_db.before.decode('utf-8').split('\\n')\n",
    "\n",
    "for line in del_out:\n",
    "    process_line = re.compile(r'\\x1B(?:[@-Z\\\\-_]|\\[[0-?]*[ -/]*[@-~])')\n",
    "    line = process_line.sub('', line)\n",
    "    print(line)"
   ]
  },
  {
   "cell_type": "markdown",
   "id": "3d7508b3",
   "metadata": {},
   "source": [
    "## Create RAG Query"
   ]
  },
  {
   "cell_type": "code",
   "execution_count": null,
   "id": "1175b864",
   "metadata": {},
   "outputs": [],
   "source": []
  }
 ],
 "metadata": {
  "kernelspec": {
   "display_name": ".venv",
   "language": "python",
   "name": "python3"
  },
  "language_info": {
   "codemirror_mode": {
    "name": "ipython",
    "version": 3
   },
   "file_extension": ".py",
   "mimetype": "text/x-python",
   "name": "python",
   "nbconvert_exporter": "python",
   "pygments_lexer": "ipython3",
   "version": "3.13.3"
  }
 },
 "nbformat": 4,
 "nbformat_minor": 5
}
