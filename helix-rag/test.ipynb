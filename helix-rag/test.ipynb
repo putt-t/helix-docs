{
 "cells": [
  {
   "cell_type": "code",
   "execution_count": null,
   "id": "aa8cdb81",
   "metadata": {},
   "outputs": [],
   "source": [
    "import helix\n",
    "from helix.client import Query\n",
    "from helix.types import Payload\n",
    "from typing import List\n",
    "\n",
    "db = helix.Client(local=True, port=6969)"
   ]
  },
  {
   "cell_type": "markdown",
   "id": "30e1cadb",
   "metadata": {},
   "source": [
    "## Check Configs"
   ]
  },
  {
   "cell_type": "code",
   "execution_count": 37,
   "id": "cb09f7d3",
   "metadata": {},
   "outputs": [
    {
     "name": "stdout",
     "output_type": "stream",
     "text": [
      "Config file created\n"
     ]
    }
   ],
   "source": [
    "import json\n",
    "import os\n",
    "from pathlib import Path\n",
    "\n",
    "CONFIG_PATH = \"helixdb-cfg\"\n",
    "CONFIG_FILE = \"config.hx.json\"\n",
    "QUERIES_FILE = \"queries.hx\"\n",
    "SCHEMA_FILE = \"schema.hx\"\n",
    "DEFAULT_CONFIG = {\n",
    "    \"vector_config\": {\n",
    "        \"m\": 16,\n",
    "        \"ef_construction\": 128,\n",
    "        \"ef_search\": 768\n",
    "    },\n",
    "    \"graph_config\": {\n",
    "        \"secondary_indices\": []\n",
    "    },\n",
    "    \"db_max_size_gb\": 10\n",
    "}\n",
    "\n",
    "helix_dir = Path(os.path.dirname(os.path.curdir)).resolve()\n",
    "os.makedirs(os.path.join(helix_dir, CONFIG_PATH), exist_ok=True)\n",
    "\n",
    "if not Path(os.path.join(helix_dir, CONFIG_PATH, CONFIG_FILE)).exists():\n",
    "    configs = DEFAULT_CONFIG\n",
    "    path = os.path.join(helix_dir, CONFIG_PATH, CONFIG_FILE)\n",
    "    with open(path, \"w\") as f:\n",
    "        json.dump(configs, f, indent=4)\n",
    "    print(\"Config file created\")\n",
    "else:\n",
    "    path = os.path.join(helix_dir, CONFIG_PATH, CONFIG_FILE)\n",
    "    with open(path, \"r\") as f:\n",
    "        configs = json.load(f)\n",
    "    print(\"Config file loaded\")"
   ]
  },
  {
   "cell_type": "markdown",
   "id": "0b422f18",
   "metadata": {},
   "source": [
    "## Create Schema"
   ]
  },
  {
   "cell_type": "code",
   "execution_count": null,
   "id": "81ca6a13",
   "metadata": {},
   "outputs": [
    {
     "name": "stdout",
     "output_type": "stream",
     "text": [
      "N::User {\n",
      "    name: String\n",
      "    age: U32\n",
      "}\n",
      "\n"
     ]
    }
   ],
   "source": [
    "def create_node(node_type:str, properties:dict = {}) -> str:\n",
    "    output = \"\"\n",
    "    output += \"N::\" + node_type + \" {\\n\"\n",
    "    for key, value in properties.items():\n",
    "        output += \"    \" + str(key) + \": \" + str(value) + \"\\n\"\n",
    "    output += \"}\\n\"\n",
    "    return output\n",
    "\n",
    "print(create_node(\"User\", {\"name\": \"String\", \"age\": \"U32\"}))"
   ]
  },
  {
   "cell_type": "code",
   "execution_count": 61,
   "id": "c33f0178",
   "metadata": {},
   "outputs": [
    {
     "name": "stdout",
     "output_type": "stream",
     "text": [
      "E::Follows {\n",
      "    From: User\n",
      "    To: User\n",
      "    Properties: {\n",
      "        since: I32\n",
      "    }\n",
      "}\n",
      "\n"
     ]
    }
   ],
   "source": [
    "def create_edge(edge_type:str, from_node:str, to_node:str, properties:dict = {}) -> str:\n",
    "    output = \"\"\n",
    "    output += \"E::\" + edge_type + \" {\\n\"\n",
    "    output += \"    From: \" + from_node + \"\\n\"\n",
    "    output += \"    To: \" + to_node + \"\\n\"\n",
    "    output += \"    Properties: {\\n\"\n",
    "    for key, value in properties.items():\n",
    "        output += \"        \" + str(key) + \": \" + str(value) + \"\\n\"\n",
    "    output += \"    }\\n\"\n",
    "    output += \"}\\n\"\n",
    "    return output\n",
    "\n",
    "print(create_edge(\"Follows\", \"User\", \"User\", {\"since\": \"I32\"}))"
   ]
  },
  {
   "cell_type": "code",
   "execution_count": 62,
   "id": "e4de326e",
   "metadata": {},
   "outputs": [
    {
     "name": "stdout",
     "output_type": "stream",
     "text": [
      "V::User {\n",
      "    name: String\n",
      "    age: U32\n",
      "}\n",
      "\n"
     ]
    }
   ],
   "source": [
    "def create_vector(vector_type:str, properties:dict = {}) -> str:\n",
    "    output = \"\"\n",
    "    output += \"V::\" + vector_type + \" {\\n\"\n",
    "    for key, value in properties.items():\n",
    "        output += \"    \" + str(key) + \": \" + str(value) + \"\\n\"\n",
    "    output += \"}\\n\"\n",
    "    return output\n",
    "\n",
    "print(create_vector(\"User\", {\"name\": \"String\", \"age\": \"U32\"}))"
   ]
  },
  {
   "cell_type": "markdown",
   "id": "4f9376c1",
   "metadata": {},
   "source": [
    "## Helix CLI"
   ]
  },
  {
   "cell_type": "code",
   "execution_count": 121,
   "id": "a4150a26",
   "metadata": {},
   "outputs": [
    {
     "name": "stderr",
     "output_type": "stream",
     "text": [
      "\u001b[1m\u001b[32mSuccessfully compiled\u001b[0m\u001b[0m 2 \u001b[1m\u001b[32mquery files\u001b[0m\u001b[0m\n",
      "⡗ Building Helix"
     ]
    },
    {
     "name": "stdout",
     "output_type": "stream",
     "text": [
      "Successfully transpiled queries\n",
      "Successfully wrote queries file\n",
      "Instance ID: ef7c9c1e-135b-4548-a2ab-37431f0952c4 (running)\n",
      "└── Label:\n",
      "└── Port: 6969\n",
      "└── Available endpoints:\n",
      "└── /get_posts\n",
      "└── /get_followed_users_posts\n",
      "└── /create_user\n",
      "└── /create_follow\n",
      "└── /create_post\n",
      "└── /get_followed_users\n",
      "└── /get_posts_by_user\n",
      "└── /get_users\n",
      "Instance ID: ef7c9c1e-135b-4548-a2ab-37431f0952c4\n"
     ]
    },
    {
     "name": "stderr",
     "output_type": "stream",
     "text": [
      "\u001b[1m\u001b[32mSuccessfully built Helix\u001b[0m\u001b[0m\n",
      "\u001b[1m\u001b[32mSuccessfully started Helix instance\u001b[0m\u001b[0m\n"
     ]
    }
   ],
   "source": [
    "import subprocess\n",
    "import re\n",
    "import pexpect\n",
    "\n",
    "# Run command in background\n",
    "start_db = subprocess.Popen(\n",
    "    ['helix', 'deploy', '--path', 'helixdb-cfg', '--port', '6969'],\n",
    "    stdout=subprocess.PIPE,\n",
    "    text=True\n",
    ")\n",
    "\n",
    "output = []\n",
    "\n",
    "# Read output line by line\n",
    "for line in start_db.stdout:\n",
    "    process_line = re.compile(r'\\x1B(?:[@-Z\\\\-_]|\\[[0-?]*[ -/]*[@-~])')\n",
    "    line = process_line.sub('', line)\n",
    "    output.append(line.strip())\n",
    "\n",
    "# Wait for process to complete\n",
    "start_db.wait()\n",
    "\n",
    "instance_id = [out for out in output if out.startswith(\"Instance ID:\")][0].split(\"Instance ID: \")[1].split(\" (running)\")[0]\n",
    "print('\\n'.join(output))\n",
    "print(f\"Instance ID: {instance_id}\")"
   ]
  },
  {
   "cell_type": "code",
   "execution_count": 122,
   "id": "59719a17",
   "metadata": {},
   "outputs": [
    {
     "name": "stdout",
     "output_type": "stream",
     "text": [
      " the instance and its data? (y/n): y\n",
      "Deleted Helix instance\n",
      "Deleted Helix instance data\n",
      "\n"
     ]
    }
   ],
   "source": [
    "delete_db = pexpect.spawn(\n",
    "    ' '.join(['helix', 'delete', instance_id]),\n",
    ")\n",
    "\n",
    "delete_db.expect(\"Are you sure you want to delete\")\n",
    "delete_db.sendline(\"y\")\n",
    "delete_db.expect(pexpect.EOF)\n",
    "\n",
    "del_out = delete_db.before.decode('utf-8').split('\\n')\n",
    "\n",
    "for line in del_out:\n",
    "    process_line = re.compile(r'\\x1B(?:[@-Z\\\\-_]|\\[[0-?]*[ -/]*[@-~])')\n",
    "    line = process_line.sub('', line)\n",
    "    print(line)"
   ]
  },
  {
   "cell_type": "markdown",
   "id": "3d7508b3",
   "metadata": {},
   "source": [
    "## Create RAG Query"
   ]
  },
  {
   "cell_type": "code",
   "execution_count": null,
   "id": "1175b864",
   "metadata": {},
   "outputs": [],
   "source": []
  }
 ],
 "metadata": {
  "kernelspec": {
   "display_name": ".venv",
   "language": "python",
   "name": "python3"
  },
  "language_info": {
   "codemirror_mode": {
    "name": "ipython",
    "version": 3
   },
   "file_extension": ".py",
   "mimetype": "text/x-python",
   "name": "python",
   "nbconvert_exporter": "python",
   "pygments_lexer": "ipython3",
   "version": "3.12.3"
  }
 },
 "nbformat": 4,
 "nbformat_minor": 5
}
