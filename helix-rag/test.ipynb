{
 "cells": [
  {
   "cell_type": "code",
   "execution_count": 1,
   "id": "aa8cdb81",
   "metadata": {},
   "outputs": [],
   "source": [
    "import helix\n",
    "from helix.client import Query\n",
    "from helix.types import Payload\n",
    "from typing import List\n",
    "from instance import Instance"
   ]
  },
  {
   "cell_type": "markdown",
   "id": "30e1cadb",
   "metadata": {},
   "source": [
    "## Check Configs"
   ]
  },
  {
   "cell_type": "code",
   "execution_count": 53,
   "id": "cb09f7d3",
   "metadata": {},
   "outputs": [
    {
     "name": "stdout",
     "output_type": "stream",
     "text": [
      "Config file loaded\n"
     ]
    }
   ],
   "source": [
    "import json\n",
    "import os\n",
    "from pathlib import Path\n",
    "\n",
    "CONFIG_PATH = \"helixdb-cfg\"\n",
    "CONFIG_FILE = \"config.hx.json\"\n",
    "QUERIES_FILE = \"queries.hx\"\n",
    "SCHEMA_FILE = \"schema.hx\"\n",
    "DEFAULT_CONFIG = {\n",
    "    \"vector_config\": {\n",
    "        \"m\": 16,\n",
    "        \"ef_construction\": 128,\n",
    "        \"ef_search\": 768\n",
    "    },\n",
    "    \"graph_config\": {\n",
    "        \"secondary_indices\": []\n",
    "    },\n",
    "    \"db_max_size_gb\": 10\n",
    "}\n",
    "\n",
    "helix_dir = Path(os.path.dirname(os.path.curdir)).resolve()\n",
    "os.makedirs(os.path.join(helix_dir, CONFIG_PATH), exist_ok=True)\n",
    "\n",
    "if not Path(os.path.join(helix_dir, CONFIG_PATH, CONFIG_FILE)).exists():\n",
    "    configs = DEFAULT_CONFIG\n",
    "    path = os.path.join(helix_dir, CONFIG_PATH, CONFIG_FILE)\n",
    "    with open(path, \"w\") as f:\n",
    "        json.dump(configs, f, indent=4)\n",
    "    print(\"Config file created\")\n",
    "else:\n",
    "    path = os.path.join(helix_dir, CONFIG_PATH, CONFIG_FILE)\n",
    "    with open(path, \"r\") as f:\n",
    "        configs = json.load(f)\n",
    "    print(\"Config file loaded\")"
   ]
  },
  {
   "cell_type": "markdown",
   "id": "0b422f18",
   "metadata": {},
   "source": [
    "## Create Schema"
   ]
  },
  {
   "cell_type": "code",
   "execution_count": 43,
   "id": "3aaa135a",
   "metadata": {},
   "outputs": [],
   "source": [
    "from typing import Dict\n",
    "\n",
    "nonnumeric_types = [\n",
    "    \"ID\",\n",
    "    \"Date\",\n",
    "    \"String\",\n",
    "    \"Boolean\"\n",
    "]\n",
    "\n",
    "F_types = [32, 64]\n",
    "I_types = [8, 16, 32, 64]\n",
    "U_types = [8, 16, 32, 64, 128]\n",
    "\n",
    "def check_type(type: str):\n",
    "    if type in nonnumeric_types:\n",
    "        return True\n",
    "\n",
    "    if type[0] == \"[\" and type[-1] == \"]\":\n",
    "        return check_type(type[1:-1])\n",
    "    \n",
    "    if type[0] == \"F\":\n",
    "        bits = int(type[1:])\n",
    "        if bits in F_types:\n",
    "            return True\n",
    "\n",
    "    if type[0] == \"I\":\n",
    "        bits = int(type[1:])\n",
    "        if bits in I_types:\n",
    "            return True\n",
    "\n",
    "    if type[0] == \"U\":\n",
    "        bits = int(type[1:])\n",
    "        if bits in U_types:\n",
    "            return True\n",
    "\n",
    "    return False"
   ]
  },
  {
   "cell_type": "code",
   "execution_count": 51,
   "id": "81ca6a13",
   "metadata": {},
   "outputs": [
    {
     "name": "stdout",
     "output_type": "stream",
     "text": [
      "N::User {\n",
      "    name: String\n",
      "    age: U32\n",
      "}\n",
      "\n",
      "N::test {\n",
      "    test: U16\n",
      "}\n",
      "\n"
     ]
    }
   ],
   "source": [
    "def create_node(node_type:str, properties:Dict[str, str] = {}) -> str:\n",
    "    if not isinstance(node_type, str):\n",
    "        raise TypeError(f\"Node type must be a string, got {type(node_type).__name__}\")\n",
    "    if len(node_type) < 1:\n",
    "        raise ValueError(f\"Node type is empty\")\n",
    "    if not isinstance(properties, dict):\n",
    "        raise TypeError(f\"Properties must be a dictionary, got {type(properties).__name__}\")\n",
    "    if len(properties) < 1:\n",
    "        raise ValueError(f\"Properties dictionary is empty\")\n",
    "    output = \"\"\n",
    "    output += \"N::\" + node_type + \" {\\n\"\n",
    "    for key, value in properties.items():\n",
    "        if not isinstance(key, str):\n",
    "            raise TypeError(f\"Key '{key}' must be a string, got {type(key).__name__}\")\n",
    "        if not isinstance(value, str):\n",
    "            raise TypeError(f\"Value for key '{key}' must be a string, got {type(value).__name__}\")\n",
    "        if not check_type(value):\n",
    "            raise ValueError(f\"Value for key '{key}' must be a valid type, got {value}\")\n",
    "        \n",
    "        output += \"    \" + key + \": \" + value + \"\\n\"\n",
    "    output += \"}\\n\"\n",
    "    return output\n",
    "\n",
    "print(create_node(\"User\", {\"name\": \"String\", \"age\": \"U32\"}))\n",
    "print(create_node(\"test\", {\"test\": \"U16\"}))"
   ]
  },
  {
   "cell_type": "code",
   "execution_count": null,
   "id": "c33f0178",
   "metadata": {},
   "outputs": [
    {
     "name": "stdout",
     "output_type": "stream",
     "text": [
      "E::Follows {\n",
      "    From: User\n",
      "    To: User\n",
      "    Properties: {\n",
      "        since: I32\n",
      "    }\n",
      "}\n",
      "\n"
     ]
    }
   ],
   "source": [
    "def create_edge(edge_type:str, from_node:str, to_node:str, properties:Dict[str, str] = {}) -> str:\n",
    "    if not isinstance(edge_type, str):\n",
    "        raise TypeError(f\"Edge type must be a string, got {type(edge_type).__name__}\")\n",
    "    if not isinstance(from_node, str):\n",
    "        raise TypeError(f\"From node must be a string, got {type(from_node).__name__}\")\n",
    "    if not isinstance(to_node, str):\n",
    "        raise TypeError(f\"To node must be a string, got {type(to_node).__name__}\")\n",
    "    if not isinstance(properties, dict):\n",
    "        raise TypeError(f\"Properties must be a dictionary, got {type(properties).__name__}\")\n",
    "    \n",
    "    output = \"\"\n",
    "    output += \"E::\" + edge_type + \" {\\n\"\n",
    "    output += \"    From: \" + from_node + \"\\n\"\n",
    "    output += \"    To: \" + to_node + \"\\n\"\n",
    "    output += \"    Properties: {\\n\"\n",
    "    for key, value in properties.items():\n",
    "        output += \"        \" + str(key) + \": \" + str(value) + \"\\n\"\n",
    "    output += \"    }\\n\"\n",
    "    output += \"}\\n\"\n",
    "    return output\n",
    "\n",
    "print(create_edge(\"Follows\", \"User\", \"User\", {\"since\": \"I32\"}))"
   ]
  },
  {
   "cell_type": "code",
   "execution_count": 13,
   "id": "e4de326e",
   "metadata": {},
   "outputs": [
    {
     "name": "stdout",
     "output_type": "stream",
     "text": [
      "V::User {\n",
      "    name: String\n",
      "    age: U32\n",
      "}\n",
      "\n"
     ]
    }
   ],
   "source": [
    "def create_vector(vector_type:str, properties:Dict[str, str] = {}) -> str:\n",
    "    output = \"\"\n",
    "    output += \"V::\" + vector_type + \" {\\n\"\n",
    "    for key, value in properties.items():\n",
    "        output += \"    \" + str(key) + \": \" + str(value) + \"\\n\"\n",
    "    output += \"}\\n\"\n",
    "    return output\n",
    "\n",
    "print(create_vector(\"User\", {\"name\": \"String\", \"age\": \"U32\"}))"
   ]
  },
  {
   "cell_type": "code",
   "execution_count": 15,
   "id": "1c9ce167",
   "metadata": {},
   "outputs": [
    {
     "name": "stdout",
     "output_type": "stream",
     "text": [
      "N::User {\n",
      "    name: String\n",
      "    6: U32\n",
      "    email: String\n",
      "    created_at: I32\n",
      "    updated_at: I32\n",
      "}\n",
      "N::Post {\n",
      "    content: String\n",
      "    created_at: I32\n",
      "    updated_at: I32\n",
      "}\n",
      "E::Follows {\n",
      "    From: User\n",
      "    To: User\n",
      "    Properties: {\n",
      "        since: I32\n",
      "    }\n",
      "}\n",
      "E::Created {\n",
      "    From: User\n",
      "    To: Post\n",
      "    Properties: {\n",
      "        created_at: I32\n",
      "    }\n",
      "}\n",
      "\n"
     ]
    }
   ],
   "source": [
    "schema_text = \"\"\n",
    "\n",
    "schema_text += create_node(\"User\", {\"name\":\"String\", \"age\":\"U32\", \"email\":\"String\", \"created_at\":\"I32\", \"updated_at\":\"I32\"})\n",
    "schema_text += create_node(\"Post\", {\"content\":\"String\", \"created_at\":\"I32\", \"updated_at\":\"I32\"})\n",
    "schema_text += create_edge(\"Follows\", \"User\", \"User\", {\"since\":\"I32\"})\n",
    "schema_text += create_edge(\"Created\", \"User\", \"Post\", {\"created_at\":\"I32\"})\n",
    "\n",
    "print(schema_text)"
   ]
  },
  {
   "cell_type": "markdown",
   "id": "b4a5cd5a",
   "metadata": {},
   "source": [
    "### Scan schema"
   ]
  },
  {
   "cell_type": "code",
   "execution_count": 64,
   "id": "183b89e5",
   "metadata": {},
   "outputs": [
    {
     "name": "stdout",
     "output_type": "stream",
     "text": [
      "Schema file loaded\n",
      "N::User {\n",
      "    name: String,\n",
      "    age: U32,\n",
      "    email: String,\n",
      "    created_at: I32,\n",
      "    updated_at: I32,\n",
      "}\n"
     ]
    }
   ],
   "source": [
    "if not Path(os.path.join(helix_dir, CONFIG_PATH, SCHEMA_FILE)).exists():\n",
    "    path = os.path.join(helix_dir, CONFIG_PATH, SCHEMA_FILE)\n",
    "    with open(path, \"w\") as f:\n",
    "        json.dump(\"\", f, indent=4)\n",
    "    print(\"Schema file created\")\n",
    "else:\n",
    "    path = os.path.join(helix_dir, CONFIG_PATH, SCHEMA_FILE)\n",
    "    with open(path, \"r\") as f:\n",
    "        schema = f.read()\n",
    "        schema = schema.split('\\n\\n')\n",
    "    print(\"Schema file loaded\")\n",
    "\n",
    "print(schema[0])"
   ]
  },
  {
   "cell_type": "code",
   "execution_count": 87,
   "id": "c0f5dae9",
   "metadata": {},
   "outputs": [
    {
     "name": "stdout",
     "output_type": "stream",
     "text": [
      "{'name': 'String', 'age': 'U32', 'email': 'String', 'created_at': 'I32', 'updated_at': 'I32'}\n"
     ]
    }
   ],
   "source": [
    "scanned_node = schema[0]\n",
    "scanned_node = scanned_node.replace(\"\\n\", \"\")\n",
    "scanned_node_props = {}\n",
    "for item in scanned_node.split(\"{\")[1].split(\"}\")[0].split(\", \"):\n",
    "    item = item.replace(\",\", \"\").split(\":\")\n",
    "    scanned_node_props[item[0].strip()] = item[1].strip()\n",
    "\n",
    "print(scanned_node_props)"
   ]
  },
  {
   "cell_type": "markdown",
   "id": "1aa4a13d",
   "metadata": {},
   "source": [
    "### Schema class"
   ]
  },
  {
   "cell_type": "code",
   "execution_count": null,
   "id": "10e3f981",
   "metadata": {},
   "outputs": [],
   "source": [
    "class Schema:\n",
    "    nonnumeric_types = [\n",
    "        \"ID\",\n",
    "        \"Date\",\n",
    "        \"String\",\n",
    "        \"Boolean\"\n",
    "    ]\n",
    "\n",
    "    F_types = [32, 64]\n",
    "    I_types = [8, 16, 32, 64]\n",
    "    U_types = [8, 16, 32, 64, 128]\n",
    "\n",
    "    def __init__(self, config_path:str=\"helixdb-cfg\"):\n",
    "        self.config_path = config_path\n",
    "\n",
    "        self.nodes = {}\n",
    "        self.edges = {}\n",
    "        self.vectors = {}\n",
    "        self.output = \"\"\n",
    "\n",
    "        self.helix_dir = Path(os.path.dirname(os.path.curdir)).resolve()\n",
    "        os.makedirs(os.path.join(self.helix_dir, self.config_path), exist_ok=True)\n",
    "\n",
    "    def _check_type(type: str):\n",
    "        if type in Schema.nonnumeric_types:\n",
    "            return True\n",
    "\n",
    "        if type[0] == \"[\" and type[-1] == \"]\":\n",
    "            return Schema._check_type(type[1:-1])\n",
    "        \n",
    "        if type[0] == \"F\":\n",
    "            try:\n",
    "                bits = int(type[1:])\n",
    "            except ValueError:\n",
    "                return False\n",
    "            if bits in Schema.F_types:\n",
    "                return True\n",
    "\n",
    "        if type[0] == \"I\":\n",
    "            try:\n",
    "                bits = int(type[1:])\n",
    "            except ValueError:\n",
    "                return False\n",
    "            if bits in Schema.I_types:\n",
    "                return True\n",
    "\n",
    "        if type[0] == \"U\":\n",
    "            try:\n",
    "                bits = int(type[1:])\n",
    "            except ValueError:\n",
    "                return False\n",
    "            if bits in Schema.U_types:\n",
    "                return True\n",
    "\n",
    "        return False\n",
    "\n",
    "    def create_node(self, node_type:str, properties:Dict[str, str] = {}) -> str:\n",
    "        if not isinstance(node_type, str):\n",
    "            raise TypeError(f\"Node type must be a string, got {type(node_type).__name__}\")\n",
    "        if len(node_type) < 1:\n",
    "            raise ValueError(f\"Node type is empty\")\n",
    "        if not isinstance(properties, dict):\n",
    "            raise TypeError(f\"Properties must be a dictionary, got {type(properties).__name__}\")\n",
    "        if len(properties) < 1:\n",
    "            raise ValueError(f\"Properties dictionary is empty\")\n",
    "\n",
    "        self.nodes[node_type] = {\"properties\": properties}\n",
    "        return output\n",
    "\n",
    "    def _compile_node(self, node_type:str, properties:Dict[str, str] = {}) -> str:\n",
    "        output = \"\"\n",
    "        output += \"N::\" + node_type + \" {\\n\"\n",
    "        for key, value in properties.items():\n",
    "            output += \"    \" + key + \": \" + value + \"\\n\"\n",
    "        output += \"}\\n\"\n",
    "\n",
    "        self.output += output\n",
    "\n",
    "    def create_edge(self, edge_type:str, from_node:str, to_node:str, properties:Dict[str, str] = {}) -> str:\n",
    "        if not isinstance(edge_type, str):\n",
    "            raise TypeError(f\"Edge type must be a string, got {type(edge_type).__name__}\")\n",
    "        if not isinstance(from_node, str):\n",
    "            raise TypeError(f\"From node must be a string, got {type(from_node).__name__}\")\n",
    "        if not isinstance(to_node, str):\n",
    "            raise TypeError(f\"To node must be a string, got {type(to_node).__name__}\")\n",
    "        if not isinstance(properties, dict):\n",
    "            raise TypeError(f\"Properties must be a dictionary, got {type(properties).__name__}\")\n",
    "\n",
    "        self.edges[edge_type] = {\"from\": from_node, \"to\": to_node, \"properties\": properties}\n",
    "        return output\n",
    "\n",
    "    def _compile_edge(self, edge_type:str, from_node:str, to_node:str, properties:Dict[str, str] = {}):\n",
    "        output = \"\"\n",
    "        output += \"E::\" + edge_type + \" {\\n\"\n",
    "        output += \"    From: \" + from_node + \"\\n\"\n",
    "        output += \"    To: \" + to_node + \"\\n\"\n",
    "        output += \"    Properties: {\\n\"\n",
    "        for key, value in properties.items():\n",
    "            output += \"        \" + str(key) + \": \" + str(value) + \"\\n\"\n",
    "        output += \"    }\\n\"\n",
    "        output += \"}\\n\"\n",
    "\n",
    "        self.output += output\n",
    "\n",
    "    def create_vector(vector_type:str, properties:Dict[str, str] = {}) -> str:\n",
    "        self.vectors[vector_type] = {\"properties\": properties}\n",
    "        return output\n",
    "\n",
    "    def _compile_vector(self, vector_type:str, properties:Dict[str, str] = {}):\n",
    "        output = \"\"\n",
    "        output += \"V::\" + vector_type + \" {\\n\"\n",
    "        for key, value in properties.items():\n",
    "            output += \"    \" + str(key) + \": \" + str(value) + \"\\n\"\n",
    "        output += \"}\\n\"\n",
    "    \n",
    "        self.output += output\n",
    "\n",
    "    def _compile(self):\n",
    "        for node in self.nodes:\n",
    "            self._compile_node(node)\n",
    "        for edge in self.edges:\n",
    "            self._compile_edge(edge)\n",
    "        for vector in self.vectors:\n",
    "            self._compile_vector(vector)\n",
    "\n",
    "    def save(self):\n",
    "        with open(self.path, \"w\") as f:\n",
    "            f.write(self.output)"
   ]
  },
  {
   "cell_type": "markdown",
   "id": "4f9376c1",
   "metadata": {},
   "source": [
    "## Helix CLI"
   ]
  },
  {
   "cell_type": "markdown",
   "id": "5eb30239",
   "metadata": {},
   "source": [
    "### Deploy"
   ]
  },
  {
   "cell_type": "code",
   "execution_count": 18,
   "id": "a4150a26",
   "metadata": {},
   "outputs": [
    {
     "name": "stderr",
     "output_type": "stream",
     "text": [
      "\u001b[1m\u001b[32mSuccessfully compiled\u001b[0m\u001b[0m 2 \u001b[1m\u001b[32mquery files\u001b[0m\u001b[0m\n",
      "⢺ Building Helix"
     ]
    },
    {
     "name": "stdout",
     "output_type": "stream",
     "text": [
      "Successfully transpiled queries\n",
      "Successfully wrote queries file\n"
     ]
    },
    {
     "name": "stderr",
     "output_type": "stream",
     "text": [
      "\u001b[1m\u001b[32mSuccessfully built Helix\u001b[0m\u001b[0m\n",
      "⢹ Starting Helix instance"
     ]
    },
    {
     "name": "stdout",
     "output_type": "stream",
     "text": [
      "Instance ID: 091fd66f-c09a-413b-8377-ea0e2f28b3a6 (running)\n",
      "└── Label:\n",
      "└── Port: 6969\n",
      "└── Available endpoints:\n",
      "└── /get_followed_users_posts\n",
      "└── /get_posts_by_user\n",
      "└── /get_followed_users\n",
      "└── /create_follow\n",
      "└── /create_post\n",
      "└── /get_users\n",
      "└── /get_posts\n",
      "└── /create_user\n",
      "Instance ID: 091fd66f-c09a-413b-8377-ea0e2f28b3a6\n"
     ]
    },
    {
     "name": "stderr",
     "output_type": "stream",
     "text": [
      "\u001b[1m\u001b[32mSuccessfully started Helix instance\u001b[0m\u001b[0m\n"
     ]
    }
   ],
   "source": [
    "import subprocess\n",
    "import re\n",
    "import pexpect\n",
    "\n",
    "# Run command in background\n",
    "deploy_db = subprocess.Popen(\n",
    "    ['helix', 'deploy', '--path', 'helixdb-cfg', '--port', '6969'],\n",
    "    stdout=subprocess.PIPE,\n",
    "    text=True\n",
    ")\n",
    "\n",
    "output = []\n",
    "\n",
    "# Read output line by line\n",
    "for line in deploy_db.stdout:\n",
    "    process_line = re.compile(r'\\x1B(?:[@-Z\\\\-_]|\\[[0-?]*[ -/]*[@-~])')\n",
    "    line = process_line.sub('', line)\n",
    "    output.append(line.strip())\n",
    "    print(line.strip())\n",
    "\n",
    "# Wait for process to complete\n",
    "deploy_db.wait()\n",
    "\n",
    "if \"error\" in \"\\n\".join(output).lower():\n",
    "    raise Exception(f\"Failed to deploy Helix instance\")\n",
    "\n",
    "instance_id = [out for out in output if out.startswith(\"Instance ID:\")][0].split(\"Instance ID: \")[1].split(\" (running)\")[0]\n",
    "# print('\\n'.join(output))\n",
    "print(f\"Instance ID: {instance_id}\")"
   ]
  },
  {
   "cell_type": "markdown",
   "id": "43fcdc45",
   "metadata": {},
   "source": [
    "### Redeploy"
   ]
  },
  {
   "cell_type": "code",
   "execution_count": 8,
   "id": "9ab1c9ad",
   "metadata": {},
   "outputs": [
    {
     "name": "stderr",
     "output_type": "stream",
     "text": [
      "\u001b[1m\u001b[32mSuccessfully compiled\u001b[0m\u001b[0m 2 \u001b[1m\u001b[32mquery files\u001b[0m\u001b[0m\n",
      "⢺ Building Helix"
     ]
    },
    {
     "name": "stdout",
     "output_type": "stream",
     "text": [
      "Helix instance found!\n",
      "Successfully wrote queries file\n"
     ]
    },
    {
     "name": "stderr",
     "output_type": "stream",
     "text": [
      "⢹ Building Helix"
     ]
    },
    {
     "name": "stdout",
     "output_type": "stream",
     "text": [
      "Instance ID: 9198b99e-c28d-4bb1-ad27-1c739f78e8f2 (running)\n",
      "└── Label:\n",
      "└── Port: 6969\n",
      "└── Available endpoints:\n",
      "└── /get_followed_users\n",
      "└── /get_posts\n",
      "└── /get_posts_by_user\n",
      "└── /get_users\n",
      "└── /create_follow\n",
      "└── /create_post\n",
      "└── /get_followed_users_posts\n",
      "└── /create_user\n"
     ]
    },
    {
     "name": "stderr",
     "output_type": "stream",
     "text": [
      "\u001b[1m\u001b[32mSuccessfully built Helix\u001b[0m\u001b[0m\n",
      "\u001b[1m\u001b[32mSuccessfully started Helix instance\u001b[0m\u001b[0m\n"
     ]
    }
   ],
   "source": [
    "redeploy_db = subprocess.Popen(\n",
    "    ['helix', 'redeploy', '--path', 'helixdb-cfg', instance_id],\n",
    "    stdout=subprocess.PIPE,\n",
    "    text=True\n",
    ")\n",
    "\n",
    "output = []\n",
    "\n",
    "# Read output line by line\n",
    "for line in redeploy_db.stdout:\n",
    "    process_line = re.compile(r'\\x1B(?:[@-Z\\\\-_]|\\[[0-?]*[ -/]*[@-~])')\n",
    "    line = process_line.sub('', line)\n",
    "    output.append(line.strip())\n",
    "    print(line.strip())\n",
    "\n",
    "# Wait for process to complete\n",
    "redeploy_db.wait()\n",
    "\n",
    "if \"error\" in \"\\n\".join(output).lower():\n",
    "    print('\\n'.join(output))\n",
    "    raise Exception(f\"Failed to redeploy Helix instance\")\n",
    "\n",
    "# instance_id = [out for out in output if out.startswith(\"Instance ID:\")][0].split(\"Instance ID: \")[1].split(\" (running)\")[0]\n",
    "# print('\\n'.join(output))\n",
    "# print(f\"Instance ID: {instance_id}\")"
   ]
  },
  {
   "cell_type": "markdown",
   "id": "b47d8792",
   "metadata": {},
   "source": [
    "### Stop"
   ]
  },
  {
   "cell_type": "code",
   "execution_count": 9,
   "id": "0afdf81a",
   "metadata": {},
   "outputs": [
    {
     "name": "stdout",
     "output_type": "stream",
     "text": [
      "Stopped instance 9a642d47-7c00-435c-bfda-c800380e7c94\n"
     ]
    }
   ],
   "source": [
    "stop_db = subprocess.Popen(\n",
    "    ['helix', 'stop', instance_id],\n",
    "    stdout=subprocess.PIPE,\n",
    "    text=True\n",
    ")\n",
    "\n",
    "output = []\n",
    "\n",
    "for line in stop_db.stdout:\n",
    "    process_line = re.compile(r'\\x1B(?:[@-Z\\\\-_]|\\[[0-?]*[ -/]*[@-~])')\n",
    "    line = process_line.sub('', line)\n",
    "    output.append(line.strip())\n",
    "\n",
    "stop_db.wait()\n",
    "\n",
    "print('\\n'.join(output))"
   ]
  },
  {
   "cell_type": "markdown",
   "id": "7a669e67",
   "metadata": {},
   "source": [
    "### Start"
   ]
  },
  {
   "cell_type": "code",
   "execution_count": 12,
   "id": "69e59dfc",
   "metadata": {},
   "outputs": [
    {
     "name": "stdout",
     "output_type": "stream",
     "text": [
      "Instance ID: 9a642d47-7c00-435c-bfda-c800380e7c94 (running)\n",
      "└── Label:\n",
      "└── Port: 6969\n",
      "└── Available endpoints:\n",
      "└── /create_user\n",
      "└── /create_post\n",
      "└── /get_users\n",
      "└── /get_followed_users\n",
      "└── /get_followed_users_posts\n",
      "└── /create_follow\n",
      "└── /get_posts_by_user\n",
      "└── /get_posts\n"
     ]
    },
    {
     "name": "stderr",
     "output_type": "stream",
     "text": [
      "\u001b[1m\u001b[32mSuccessfully started Helix instance\u001b[0m\u001b[0m\n"
     ]
    }
   ],
   "source": [
    "start_db = subprocess.Popen(\n",
    "    ['helix', 'start', instance_id],\n",
    "    stdout=subprocess.PIPE,\n",
    "    text=True\n",
    ")\n",
    "\n",
    "output = []\n",
    "\n",
    "# Read output line by line\n",
    "for line in start_db.stdout:\n",
    "    process_line = re.compile(r'\\x1B(?:[@-Z\\\\-_]|\\[[0-?]*[ -/]*[@-~])')\n",
    "    line = process_line.sub('', line)\n",
    "    output.append(line.strip())\n",
    "\n",
    "# Wait for process to complete\n",
    "start_db.wait()\n",
    "\n",
    "print('\\n'.join(output))"
   ]
  },
  {
   "cell_type": "markdown",
   "id": "263e2cbd",
   "metadata": {},
   "source": [
    "### Delete"
   ]
  },
  {
   "cell_type": "code",
   "execution_count": 20,
   "id": "3d0f9a8e",
   "metadata": {},
   "outputs": [
    {
     "name": "stdout",
     "output_type": "stream",
     "text": [
      "Helix instance found!\n",
      "Stopped instance 091fd66f-c09a-413b-8377-ea0e2f28b3a6\n",
      "Deleted Helix instance data\n",
      "\n"
     ]
    }
   ],
   "source": [
    "import subprocess\n",
    "import re\n",
    "\n",
    "# Run the command and capture the output\n",
    "result = subprocess.run(\n",
    "    ['helix', 'delete', instance_id],\n",
    "    input=\"y\\n\",  # Send 'y' and newline as input\n",
    "    text=True,\n",
    "    capture_output=True\n",
    ")\n",
    "\n",
    "output = result.stdout.split('\\n')\n",
    "\n",
    "output = [line for line in output if not line.startswith(\"Are you sure you want to delete\")]\n",
    "\n",
    "# Process and print the output\n",
    "for line in output:\n",
    "    # Remove ANSI escape sequences\n",
    "    line = re.sub(r'\\x1B(?:[@-Z\\\\-_]|\\[[0-?]*[ -/]*[@-~])', '', line)\n",
    "    print(line)\n",
    "\n",
    "# Print any errors if they occurred\n",
    "if result.stderr:\n",
    "    print(\"Errors:\", result.stderr)"
   ]
  },
  {
   "cell_type": "code",
   "execution_count": 7,
   "id": "59719a17",
   "metadata": {},
   "outputs": [],
   "source": [
    "# delete_db = pexpect.spawn(\n",
    "#     ' '.join(['helix', 'delete', instance_id]),\n",
    "# )\n",
    "\n",
    "# delete_db.expect(\"Are you sure you want to delete\", timeout=10)\n",
    "# delete_db.sendline(\"y\")\n",
    "# delete_db.expect(pexpect.EOF, timeout=10)\n",
    "\n",
    "# del_out = delete_db.before.decode('utf-8').split('\\n')\n",
    "\n",
    "# for line in del_out:\n",
    "#     process_line = re.compile(r'\\x1B(?:[@-Z\\\\-_]|\\[[0-?]*[ -/]*[@-~])')\n",
    "#     line = process_line.sub('', line)\n",
    "#     print(line)"
   ]
  },
  {
   "cell_type": "markdown",
   "id": "d36bb5cb",
   "metadata": {},
   "source": [
    "### View Instances"
   ]
  },
  {
   "cell_type": "code",
   "execution_count": 19,
   "id": "1081ebd0",
   "metadata": {},
   "outputs": [
    {
     "name": "stdout",
     "output_type": "stream",
     "text": [
      "Instance ID: 091fd66f-c09a-413b-8377-ea0e2f28b3a6 (running)\n",
      "└── Label:\n",
      "└── Port: 6969\n",
      "└── Available endpoints:\n",
      "└── /get_followed_users_posts\n",
      "└── /get_posts_by_user\n",
      "└── /get_followed_users\n",
      "└── /create_follow\n",
      "└── /create_post\n",
      "└── /get_users\n",
      "└── /get_posts\n",
      "└── /create_user\n",
      "\n"
     ]
    }
   ],
   "source": [
    "status_db = subprocess.Popen(\n",
    "    ['helix', 'instances'],\n",
    "    stdout=subprocess.PIPE,\n",
    "    text=True\n",
    ")\n",
    "\n",
    "output = []\n",
    "\n",
    "# Read output line by line\n",
    "for line in status_db.stdout:\n",
    "    process_line = re.compile(r'\\x1B(?:[@-Z\\\\-_]|\\[[0-?]*[ -/]*[@-~])')\n",
    "    line = process_line.sub('', line)\n",
    "    output.append(line.strip())\n",
    "\n",
    "# Wait for process to complete\n",
    "status_db.wait()\n",
    "\n",
    "print('\\n'.join(output))"
   ]
  },
  {
   "cell_type": "markdown",
   "id": "5ce0cb04",
   "metadata": {},
   "source": [
    "### Check Instances"
   ]
  },
  {
   "cell_type": "code",
   "execution_count": 1,
   "id": "20d478a9",
   "metadata": {},
   "outputs": [
    {
     "name": "stderr",
     "output_type": "stream",
     "text": [
      "\u001b[1m\u001b[32mSuccessfully compiled\u001b[0m\u001b[0m 2 \u001b[1m\u001b[32mquery files\u001b[0m\u001b[0m\n",
      "⣸ Building Helix"
     ]
    },
    {
     "name": "stdout",
     "output_type": "stream",
     "text": [
      "Successfully transpiled queries\n",
      "Successfully wrote queries file\n",
      "Instance ID: 7462e524-ce82-4181-80c3-5b23f02dbe7b (running)\n",
      "└── Label:\n",
      "└── Port: 6969\n",
      "└── Available endpoints:\n",
      "└── /create_post\n",
      "└── /get_posts\n",
      "└── /get_followed_users\n",
      "└── /get_users\n",
      "└── /get_followed_users_posts\n",
      "└── /get_posts_by_user\n",
      "└── /create_user\n",
      "└── /create_follow\n"
     ]
    },
    {
     "name": "stderr",
     "output_type": "stream",
     "text": [
      "\u001b[1m\u001b[32mSuccessfully built Helix\u001b[0m\u001b[0m\n",
      "\u001b[1m\u001b[32mSuccessfully started Helix instance\u001b[0m\u001b[0m\n"
     ]
    }
   ],
   "source": [
    "from instance import Instance\n",
    "h_instance1 = Instance(\"helixdb-cfg\", \"6969\")\n",
    "print(h_instance1.deploy())"
   ]
  },
  {
   "cell_type": "code",
   "execution_count": 2,
   "id": "c1a04eeb",
   "metadata": {},
   "outputs": [
    {
     "name": "stdout",
     "output_type": "stream",
     "text": [
      "Instance ID: 7462e524-ce82-4181-80c3-5b23f02dbe7b (running)\n",
      "└── Label:\n",
      "└── Port: 6969\n",
      "└── Available endpoints:\n",
      "└── /create_post\n",
      "└── /get_posts\n",
      "└── /get_followed_users\n",
      "└── /get_users\n",
      "└── /get_followed_users_posts\n",
      "└── /get_posts_by_user\n",
      "└── /create_user\n",
      "└── /create_follow\n",
      "\n"
     ]
    }
   ],
   "source": [
    "print(h_instance1.status())"
   ]
  },
  {
   "cell_type": "code",
   "execution_count": 4,
   "id": "c71357c0",
   "metadata": {},
   "outputs": [
    {
     "name": "stdout",
     "output_type": "stream",
     "text": [
      "['Instance ID: 7462e524-ce82-4181-80c3-5b23f02dbe7b (running)', '└── Label:', '└── Port: 6969', '└── Available endpoints:', '└── /create_post', '└── /get_posts', '└── /get_followed_users', '└── /get_users', '└── /get_followed_users_posts', '└── /get_posts_by_user', '└── /create_user', '└── /create_follow', '']\n"
     ]
    }
   ],
   "source": [
    "import subprocess\n",
    "import re\n",
    "process_line = re.compile(r'\\x1B(?:[@-Z\\\\-_]|\\[[0-?]*[ -/]*[@-~])')\n",
    "\n",
    "\n",
    "cmd = ['helix', 'instances']\n",
    "process = subprocess.Popen(\n",
    "    cmd,\n",
    "    stdout=subprocess.PIPE,\n",
    "    text=True\n",
    ")\n",
    "\n",
    "output = []\n",
    "\n",
    "for line in process.stdout:\n",
    "    line = process_line.sub('', line)\n",
    "    output.append(line.strip())\n",
    "\n",
    "process.wait()\n",
    "\n",
    "print(output)"
   ]
  },
  {
   "cell_type": "code",
   "execution_count": 11,
   "id": "467cd550",
   "metadata": {},
   "outputs": [
    {
     "name": "stdout",
     "output_type": "stream",
     "text": [
      "True\n",
      "7462e524-ce82-4181-80c3-5b23f02dbe7b\n",
      "(running)\n"
     ]
    }
   ],
   "source": [
    "print(len(output) > 1 and output[0].startswith(\"Instance ID\"))\n",
    "print(output[0].removeprefix(\"Instance ID: \").removesuffix(\" (running)\").removesuffix(\" (not running)\"))\n",
    "print(output[0].split(\" \")[-1])"
   ]
  },
  {
   "cell_type": "code",
   "execution_count": 26,
   "id": "d6171989",
   "metadata": {},
   "outputs": [
    {
     "name": "stdout",
     "output_type": "stream",
     "text": [
      "{'6969': '7462e524-ce82-4181-80c3-5b23f02dbe7b'}\n",
      "{'7462e524-ce82-4181-80c3-5b23f02dbe7b': True}\n"
     ]
    }
   ],
   "source": [
    "ports = []\n",
    "ids = []\n",
    "running = []\n",
    "\n",
    "for line in output:\n",
    "    if line.startswith(\"Instance ID: \"):\n",
    "        ids.append(line.removeprefix(\"Instance ID: \").removesuffix(\" (running)\").removesuffix(\" (not running)\"))\n",
    "        running.append(line.split(\" \")[-1] == \"(running)\")\n",
    "    elif line.startswith(\"└── Port: \"):\n",
    "        ports.append(line.removeprefix(\"└── Port: \"))\n",
    "\n",
    "port_ids = dict(zip(ports, ids))\n",
    "ids_running = dict(zip(ids, running))\n",
    "print(port_ids)\n",
    "print(ids_running)"
   ]
  },
  {
   "cell_type": "markdown",
   "id": "fbcee5a5",
   "metadata": {},
   "source": [
    "### Instance class"
   ]
  },
  {
   "cell_type": "code",
   "execution_count": 2,
   "id": "7dedde09",
   "metadata": {},
   "outputs": [
    {
     "name": "stderr",
     "output_type": "stream",
     "text": [
      "\u001b[32m[HELIX]\u001b[0m Helix instances status:\n",
      "No running Helix instances\n",
      "\u001b[32m[HELIX]\u001b[0m Ports: {}\n",
      "\u001b[32m[HELIX]\u001b[0m Instances Running: {}\n"
     ]
    },
    {
     "data": {
      "text/plain": [
       "'No running Helix instances'"
      ]
     },
     "execution_count": 2,
     "metadata": {},
     "output_type": "execute_result"
    }
   ],
   "source": [
    "from instance import Instance\n",
    "helix_instance = Instance(\"helixdb-cfg\", \"6969\", verbose=True)\n",
    "helix_instance.status()"
   ]
  },
  {
   "cell_type": "code",
   "execution_count": 9,
   "id": "0f214dd5",
   "metadata": {},
   "outputs": [
    {
     "name": "stderr",
     "output_type": "stream",
     "text": [
      "\u001b[32m[HELIX]\u001b[0m Instance is running - redeploying\n",
      "\u001b[32m[HELIX]\u001b[0m Redeploying Helix instance: c51fb4ec-5f5a-4460-8c49-88ead12e230e\n",
      "Helix instance found!\n",
      "\u001b[1m\u001b[32mSuccessfully compiled\u001b[0m\u001b[0m 2 \u001b[1m\u001b[32mquery files\u001b[0m\u001b[0m\n",
      "Successfully wrote queries file\n",
      "\u001b[1m\u001b[32mSuccessfully built Helix\u001b[0m\u001b[0m\n",
      "⢺ Starting Helix instanceInstance ID: c51fb4ec-5f5a-4460-8c49-88ead12e230e (running)\n",
      "└── Label:\n",
      "└── Port: 6969\n",
      "└── Available endpoints:\n",
      "└── /get_users\n",
      "└── /get_followed_users\n",
      "└── /create_user\n",
      "└── /create_post\n",
      "└── /get_posts\n",
      "└── /create_follow\n",
      "└── /get_followed_users_posts\n",
      "└── /get_posts_by_user\n",
      "\u001b[1m\u001b[32mSuccessfully started Helix instance\u001b[0m\u001b[0m\n"
     ]
    },
    {
     "data": {
      "text/plain": [
       "'Helix instance found!\\nSuccessfully wrote queries file\\nInstance ID: c51fb4ec-5f5a-4460-8c49-88ead12e230e (running)\\n└── Label:\\n└── Port: 6969\\n└── Available endpoints:\\n└── /get_users\\n└── /get_followed_users\\n└── /create_user\\n└── /create_post\\n└── /get_posts\\n└── /create_follow\\n└── /get_followed_users_posts\\n└── /get_posts_by_user'"
      ]
     },
     "execution_count": 9,
     "metadata": {},
     "output_type": "execute_result"
    }
   ],
   "source": [
    "helix_instance.deploy()"
   ]
  },
  {
   "cell_type": "markdown",
   "id": "3d7508b3",
   "metadata": {},
   "source": [
    "## Create RAG Query"
   ]
  },
  {
   "cell_type": "code",
   "execution_count": null,
   "id": "1175b864",
   "metadata": {},
   "outputs": [],
   "source": []
  }
 ],
 "metadata": {
  "kernelspec": {
   "display_name": ".venv",
   "language": "python",
   "name": "python3"
  },
  "language_info": {
   "codemirror_mode": {
    "name": "ipython",
    "version": 3
   },
   "file_extension": ".py",
   "mimetype": "text/x-python",
   "name": "python",
   "nbconvert_exporter": "python",
   "pygments_lexer": "ipython3",
   "version": "3.12.3"
  }
 },
 "nbformat": 4,
 "nbformat_minor": 5
}
