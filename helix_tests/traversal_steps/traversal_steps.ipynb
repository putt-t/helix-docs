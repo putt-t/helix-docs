{
 "cells": [
  {
   "cell_type": "code",
   "execution_count": 1,
   "metadata": {},
   "outputs": [
    {
     "name": "stdout",
     "output_type": "stream",
     "text": [
      "\u001b[32m[HELIX]\u001b[0m Helix instance found at 'http://0.0.0.0:6969'\n"
     ]
    }
   ],
   "source": [
    "import helix\n",
    "from helix.client import Query\n",
    "from helix.types import Payload\n",
    "from typing import List\n",
    "\n",
    "db = helix.Client(local=True, port=6969)\n",
    "\n",
    "class create_user(Query):\n",
    "    def __init__(self, name:str, age:int, email:str, now:int):\n",
    "        super().__init__()\n",
    "        self.name = name\n",
    "        self.age = age\n",
    "        self.email = email\n",
    "        self.now = now\n",
    "    \n",
    "    def query(self) -> List[Payload]:\n",
    "        return [{\"name\": self.name, \"age\": self.age, \"email\": self.email, \"now\": self.now}]\n",
    "            \n",
    "    def response(self, response):\n",
    "        return response\n",
    "\n",
    "class get_users(Query):\n",
    "    def __init__(self):\n",
    "        super().__init__()\n",
    "    \n",
    "    def query(self) -> List[Payload]:\n",
    "        return [{}]\n",
    "    \n",
    "    def response(self, response):\n",
    "        return response\n",
    "    \n",
    "class create_follow(Query):\n",
    "    def __init__(self, follower_id: str, followed_id: str, now: int):\n",
    "        super().__init__()\n",
    "        self.follower_id = follower_id\n",
    "        self.followed_id = followed_id\n",
    "        self.now = now\n",
    "    \n",
    "    def query(self):\n",
    "        return [{\"follower_id\": self.follower_id, \"followed_id\": self.followed_id, \"now\": self.now}]\n",
    "            \n",
    "    \n",
    "    def response(self, response):\n",
    "        return response\n",
    "    \n",
    "class create_post(Query):\n",
    "    def __init__(self, user_id: str, content: str, now: int):\n",
    "        super().__init__()\n",
    "        self.user_id = user_id\n",
    "        self.content = content\n",
    "        self.now = now\n",
    "    \n",
    "    def query(self):\n",
    "        return [{\"user_id\": self.user_id, \"content\": self.content, \"now\": self.now}]\n",
    "            \n",
    "    \n",
    "    def response(self, response):\n",
    "        return response\n",
    "    \n",
    "class get_posts(Query):\n",
    "    def __init__(self):\n",
    "        super().__init__()\n",
    "    \n",
    "    def query(self) -> List[Payload]:\n",
    "        return [{}]\n",
    "    \n",
    "    def response(self, response):\n",
    "        return response\n",
    "    "
   ]
  },
  {
   "cell_type": "markdown",
   "metadata": {},
   "source": [
    "## Traversal From Nodes"
   ]
  },
  {
   "cell_type": "code",
   "execution_count": 2,
   "metadata": {},
   "outputs": [],
   "source": [
    "class get_user_following(Query):\n",
    "    def __init__(self, userID: str):\n",
    "        super().__init__()\n",
    "        self.userID = userID\n",
    "    \n",
    "    def query(self) -> List[Payload]:\n",
    "        return [{\"userID\": self.userID}]\n",
    "    \n",
    "    def response(self, response):\n",
    "        return response\n",
    "    \n",
    "class get_user_followers(Query):\n",
    "    def __init__(self, userID: str):\n",
    "        super().__init__()\n",
    "        self.userID = userID\n",
    "    \n",
    "    def query(self) -> List[Payload]:\n",
    "        return [{\"userID\": self.userID}]\n",
    "    \n",
    "    def response(self, response):\n",
    "        return response\n",
    "    \n",
    "class get_following_details(Query):\n",
    "    def __init__(self, userID: str):\n",
    "        super().__init__()\n",
    "        self.userID = userID\n",
    "    \n",
    "    def query(self) -> List[Payload]:\n",
    "        return [{\"userID\": self.userID}]\n",
    "    \n",
    "    def response(self, response):\n",
    "        return response\n",
    "    \n",
    "class get_followers_details(Query):\n",
    "    def __init__(self, userID: str):\n",
    "        super().__init__()\n",
    "        self.userID = userID\n",
    "    \n",
    "    def query(self) -> List[Payload]:\n",
    "        return [{\"userID\": self.userID}]\n",
    "    \n",
    "    def response(self, response):\n",
    "        return response"
   ]
  },
  {
   "cell_type": "code",
   "execution_count": 3,
   "metadata": {},
   "outputs": [
    {
     "name": "stderr",
     "output_type": "stream",
     "text": [
      "\u001b[32m[HELIX]\u001b[0m Querying 'http://0.0.0.0:6969/create_user': 100%|██████████| 1/1 [00:00<00:00, 92.99it/s]\n",
      "\u001b[32m[HELIX]\u001b[0m Querying 'http://0.0.0.0:6969/create_user': 100%|██████████| 1/1 [00:00<00:00, 193.05it/s]\n",
      "\u001b[32m[HELIX]\u001b[0m Querying 'http://0.0.0.0:6969/create_user': 100%|██████████| 1/1 [00:00<00:00, 196.31it/s]\n",
      "\u001b[32m[HELIX]\u001b[0m Querying 'http://0.0.0.0:6969/create_user': 100%|██████████| 1/1 [00:00<00:00, 189.83it/s]\n"
     ]
    }
   ],
   "source": [
    "\n",
    "john = db.query(create_user(\"John\", 30, \"john@example.com\", 1722222222))\n",
    "jane = db.query(create_user(\"Jane\", 25, \"jane@example.com\", 1722222222))\n",
    "bob = db.query(create_user(\"Bob\", 35, \"bob@example.com\", 1722222222))\n",
    "james = db.query(create_user(\"James\", 21, \"james@example.com\", 1722222222))\n"
   ]
  },
  {
   "cell_type": "code",
   "execution_count": 4,
   "metadata": {},
   "outputs": [
    {
     "name": "stderr",
     "output_type": "stream",
     "text": [
      "\u001b[32m[HELIX]\u001b[0m Querying 'http://0.0.0.0:6969/create_follow': 100%|██████████| 1/1 [00:00<00:00, 168.72it/s]\n"
     ]
    },
    {
     "data": {
      "text/plain": [
       "[{'success': 'success'}]"
      ]
     },
     "execution_count": 4,
     "metadata": {},
     "output_type": "execute_result"
    }
   ],
   "source": [
    "db.query(create_follow(john[0]['user'][0]['id'], james[0]['user'][0]['id'], 1892222222))"
   ]
  },
  {
   "cell_type": "code",
   "execution_count": 16,
   "metadata": {},
   "outputs": [
    {
     "name": "stderr",
     "output_type": "stream",
     "text": [
      "\u001b[32m[HELIX]\u001b[0m Querying 'http://0.0.0.0:6969/create_follow': 100%|██████████| 1/1 [00:00<00:00, 158.53it/s]\n"
     ]
    },
    {
     "data": {
      "text/plain": [
       "[{'success': 'success'}]"
      ]
     },
     "execution_count": 16,
     "metadata": {},
     "output_type": "execute_result"
    }
   ],
   "source": [
    "db.query(create_follow(bob[0]['user'][0]['id'], james[0]['user'][0]['id'], 1892222222))"
   ]
  },
  {
   "cell_type": "code",
   "execution_count": 17,
   "metadata": {},
   "outputs": [
    {
     "name": "stderr",
     "output_type": "stream",
     "text": [
      "\u001b[32m[HELIX]\u001b[0m Querying 'http://0.0.0.0:6969/get_user_following': 100%|██████████| 1/1 [00:00<00:00, 1315.65it/s]\n"
     ]
    },
    {
     "data": {
      "text/plain": [
       "[{'following': [{'age': 21,\n",
       "    'id': '1f045ab0-8a02-675c-993c-010203040506',\n",
       "    'created_at': 1722222222,\n",
       "    'email': 'james@example.com',\n",
       "    'updated_at': 1722222222,\n",
       "    'name': 'James',\n",
       "    'label': 'User'}]}]"
      ]
     },
     "execution_count": 17,
     "metadata": {},
     "output_type": "execute_result"
    }
   ],
   "source": [
    "db.query(get_user_following(john[0]['user'][0]['id']))"
   ]
  },
  {
   "cell_type": "code",
   "execution_count": 18,
   "metadata": {},
   "outputs": [
    {
     "name": "stderr",
     "output_type": "stream",
     "text": [
      "\u001b[32m[HELIX]\u001b[0m Querying 'http://0.0.0.0:6969/get_user_followers': 100%|██████████| 1/1 [00:00<00:00, 1428.58it/s]\n"
     ]
    },
    {
     "data": {
      "text/plain": [
       "[{'followers': [{'updated_at': 1722222222,\n",
       "    'label': 'User',\n",
       "    'age': 30,\n",
       "    'name': 'John',\n",
       "    'email': 'john@example.com',\n",
       "    'created_at': 1722222222,\n",
       "    'id': '1f045ab0-89d7-6c0a-9939-010203040506'},\n",
       "   {'id': '1f045ab0-89f4-63be-993b-010203040506',\n",
       "    'label': 'User',\n",
       "    'email': 'bob@example.com',\n",
       "    'name': 'Bob',\n",
       "    'created_at': 1722222222,\n",
       "    'updated_at': 1722222222,\n",
       "    'age': 35}]}]"
      ]
     },
     "execution_count": 18,
     "metadata": {},
     "output_type": "execute_result"
    }
   ],
   "source": [
    "db.query(get_user_followers(james[0]['user'][0]['id']))"
   ]
  },
  {
   "cell_type": "code",
   "execution_count": 19,
   "metadata": {},
   "outputs": [
    {
     "name": "stderr",
     "output_type": "stream",
     "text": [
      "\u001b[32m[HELIX]\u001b[0m Querying 'http://0.0.0.0:6969/get_following_details': 100%|██████████| 1/1 [00:00<00:00, 793.77it/s]\n"
     ]
    },
    {
     "data": {
      "text/plain": [
       "[{'following': [{'from_node': '1f045ab0-89d7-6c0a-9939-010203040506',\n",
       "    'since': 1892222222,\n",
       "    'to_node': '1f045ab0-8a02-675c-993c-010203040506',\n",
       "    'label': 'Follows',\n",
       "    'id': '1f045ab0-9985-6eea-993d-010203040506'}]}]"
      ]
     },
     "execution_count": 19,
     "metadata": {},
     "output_type": "execute_result"
    }
   ],
   "source": [
    "db.query(get_following_details(john[0]['user'][0]['id']))"
   ]
  },
  {
   "cell_type": "code",
   "execution_count": 20,
   "metadata": {},
   "outputs": [
    {
     "name": "stderr",
     "output_type": "stream",
     "text": [
      "\u001b[32m[HELIX]\u001b[0m Querying 'http://0.0.0.0:6969/get_followers_details': 100%|██████████| 1/1 [00:00<00:00, 1262.58it/s]\n"
     ]
    },
    {
     "data": {
      "text/plain": [
       "[{'followers': [{'since': 1892222222,\n",
       "    'id': '1f045ab0-9985-6eea-993d-010203040506',\n",
       "    'label': 'Follows',\n",
       "    'from_node': '1f045ab0-89d7-6c0a-9939-010203040506',\n",
       "    'to_node': '1f045ab0-8a02-675c-993c-010203040506'},\n",
       "   {'from_node': '1f045ab0-89f4-63be-993b-010203040506',\n",
       "    'label': 'Follows',\n",
       "    'to_node': '1f045ab0-8a02-675c-993c-010203040506',\n",
       "    'id': '1f045ab6-fe49-64e8-993e-010203040506',\n",
       "    'since': 1892222222}]}]"
      ]
     },
     "execution_count": 20,
     "metadata": {},
     "output_type": "execute_result"
    }
   ],
   "source": [
    "db.query(get_followers_details(james[0]['user'][0]['id']))"
   ]
  },
  {
   "cell_type": "code",
   "execution_count": null,
   "metadata": {},
   "outputs": [],
   "source": []
  }
 ],
 "metadata": {
  "kernelspec": {
   "display_name": ".venv",
   "language": "python",
   "name": "python3"
  },
  "language_info": {
   "codemirror_mode": {
    "name": "ipython",
    "version": 3
   },
   "file_extension": ".py",
   "mimetype": "text/x-python",
   "name": "python",
   "nbconvert_exporter": "python",
   "pygments_lexer": "ipython3",
   "version": "3.13.3"
  }
 },
 "nbformat": 4,
 "nbformat_minor": 2
}
