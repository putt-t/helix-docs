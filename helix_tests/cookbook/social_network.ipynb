{
 "cells": [
  {
   "cell_type": "code",
   "execution_count": 1,
   "metadata": {},
   "outputs": [
    {
     "name": "stdout",
     "output_type": "stream",
     "text": [
      "\u001b[32m[HELIX]\u001b[0m Helix instance found at 'http://0.0.0.0:6969'\n"
     ]
    }
   ],
   "source": [
    "import helix\n",
    "from helix.client import Query\n",
    "from helix.types import Payload\n",
    "from typing import List\n",
    "\n",
    "db = helix.Client(local=True, port=6969)\n",
    "\n",
    "class create_user(Query):\n",
    "    def __init__(self, name:str, age:int, email:str, now:int):\n",
    "        super().__init__()\n",
    "        self.name = name\n",
    "        self.age = age\n",
    "        self.email = email\n",
    "        self.now = now\n",
    "    \n",
    "    def query(self) -> List[Payload]:\n",
    "        return [{\"name\": self.name, \"age\": self.age, \"email\": self.email, \"now\": self.now}]\n",
    "            \n",
    "    def response(self, response):\n",
    "        return response\n",
    "\n",
    "class get_users(Query):\n",
    "    def __init__(self):\n",
    "        super().__init__()\n",
    "    \n",
    "    def query(self) -> List[Payload]:\n",
    "        return [{}]\n",
    "    \n",
    "    def response(self, response):\n",
    "        return response\n",
    "    \n",
    "class create_follow(Query):\n",
    "    def __init__(self, follower_id: str, followed_id: str, now: int):\n",
    "        super().__init__()\n",
    "        self.follower_id = follower_id\n",
    "        self.followed_id = followed_id\n",
    "        self.now = now\n",
    "    \n",
    "    def query(self):\n",
    "        return [{\"follower_id\": self.follower_id, \"followed_id\": self.followed_id, \"now\": self.now}]\n",
    "            \n",
    "    \n",
    "    def response(self, response):\n",
    "        return response\n",
    "    \n",
    "class create_post(Query):\n",
    "    def __init__(self, user_id: str, content: str, now: int):\n",
    "        super().__init__()\n",
    "        self.user_id = user_id\n",
    "        self.content = content\n",
    "        self.now = now\n",
    "    \n",
    "    def query(self):\n",
    "        return [{\"user_id\": self.user_id, \"content\": self.content, \"now\": self.now}]\n",
    "            \n",
    "    \n",
    "    def response(self, response):\n",
    "        return response\n",
    "    \n",
    "class get_posts(Query):\n",
    "    def __init__(self):\n",
    "        super().__init__()\n",
    "    \n",
    "    def query(self) -> List[Payload]:\n",
    "        return [{}]\n",
    "    \n",
    "    def response(self, response):\n",
    "        return response\n",
    "    \n",
    "class get_posts_by_user(Query):\n",
    "    def __init__(self, user_id: str):\n",
    "        super().__init__()\n",
    "        self.user_id = user_id\n",
    "    \n",
    "    def query(self) -> List[Payload]:\n",
    "        return [{\"user_id\": self.user_id}]\n",
    "    \n",
    "    def response(self, response):\n",
    "        return response\n",
    "    \n",
    "class get_followed_users(Query):\n",
    "    def __init__(self, user_id: str):\n",
    "        super().__init__()\n",
    "        self.user_id = user_id\n",
    "    \n",
    "    def query(self) -> List[Payload]:\n",
    "        return [{\"user_id\": self.user_id}]\n",
    "    \n",
    "    def response(self, response):\n",
    "        return response\n",
    "    \n",
    "\n",
    "class get_followed_users_posts(Query):\n",
    "    def __init__(self, user_id: str):\n",
    "        super().__init__()\n",
    "        self.user_id = user_id\n",
    "    \n",
    "    def query(self) -> List[Payload]:\n",
    "        return [{\"user_id\": self.user_id}]\n",
    "    \n",
    "    def response(self, response):\n",
    "        return response"
   ]
  },
  {
   "cell_type": "markdown",
   "metadata": {},
   "source": [
    "# Create users"
   ]
  },
  {
   "cell_type": "code",
   "execution_count": 2,
   "metadata": {},
   "outputs": [
    {
     "name": "stderr",
     "output_type": "stream",
     "text": [
      "\u001b[32m[HELIX]\u001b[0m Querying 'http://0.0.0.0:6969/create_user': 100%|██████████| 1/1 [00:00<00:00, 27.23it/s]\n",
      "\u001b[32m[HELIX]\u001b[0m Querying 'http://0.0.0.0:6969/create_user': 100%|██████████| 1/1 [00:00<00:00, 86.91it/s]\n"
     ]
    }
   ],
   "source": [
    "user1 = db.query(create_user(\"John\", 30, \"john@example.com\", 1722222222))\n",
    "user2 = db.query(create_user(\"Jane\", 25, \"jane@example.com\", 1722222222))"
   ]
  },
  {
   "cell_type": "code",
   "execution_count": 3,
   "metadata": {},
   "outputs": [
    {
     "data": {
      "text/plain": [
       "[{'user': [{'created_at': 1722222222,\n",
       "    'name': 'John',\n",
       "    'id': '1f041c05-533a-65bb-aead-010203040506',\n",
       "    'age': 30,\n",
       "    'email': 'john@example.com',\n",
       "    'updated_at': 1722222222,\n",
       "    'label': 'User'}]}]"
      ]
     },
     "execution_count": 3,
     "metadata": {},
     "output_type": "execute_result"
    }
   ],
   "source": [
    "user1"
   ]
  },
  {
   "cell_type": "code",
   "execution_count": 4,
   "metadata": {},
   "outputs": [
    {
     "data": {
      "text/plain": [
       "[{'user': [{'id': '1f041c05-53a7-691a-aeae-010203040506',\n",
       "    'created_at': 1722222222,\n",
       "    'name': 'Jane',\n",
       "    'label': 'User',\n",
       "    'email': 'jane@example.com',\n",
       "    'age': 25,\n",
       "    'updated_at': 1722222222}]}]"
      ]
     },
     "execution_count": 4,
     "metadata": {},
     "output_type": "execute_result"
    }
   ],
   "source": [
    "user2"
   ]
  },
  {
   "cell_type": "code",
   "execution_count": 5,
   "metadata": {},
   "outputs": [
    {
     "data": {
      "text/plain": [
       "'1f041c05-533a-65bb-aead-010203040506'"
      ]
     },
     "execution_count": 5,
     "metadata": {},
     "output_type": "execute_result"
    }
   ],
   "source": [
    "user1_id = user1[0]['user'][0]['id']\n",
    "user1_id"
   ]
  },
  {
   "cell_type": "code",
   "execution_count": 6,
   "metadata": {},
   "outputs": [
    {
     "data": {
      "text/plain": [
       "'1f041c05-53a7-691a-aeae-010203040506'"
      ]
     },
     "execution_count": 6,
     "metadata": {},
     "output_type": "execute_result"
    }
   ],
   "source": [
    "user2_id = user2[0]['user'][0]['id']\n",
    "user2_id"
   ]
  },
  {
   "cell_type": "markdown",
   "metadata": {},
   "source": [
    "# Get users"
   ]
  },
  {
   "cell_type": "code",
   "execution_count": 20,
   "metadata": {},
   "outputs": [
    {
     "name": "stderr",
     "output_type": "stream",
     "text": [
      "\u001b[32m[HELIX]\u001b[0m Querying 'http://0.0.0.0:6969/get_users': 100%|██████████| 1/1 [00:00<00:00, 1281.49it/s]\n"
     ]
    },
    {
     "data": {
      "text/plain": [
       "[{'created_at': 1722222222,\n",
       "  'age': 30,\n",
       "  'updated_at': 1722222222,\n",
       "  'name': 'John',\n",
       "  'label': 'User',\n",
       "  'id': '1f041c05-533a-65bb-aead-010203040506',\n",
       "  'email': 'john@example.com'},\n",
       " {'id': '1f041c05-53a7-691a-aeae-010203040506',\n",
       "  'name': 'Jane',\n",
       "  'updated_at': 1722222222,\n",
       "  'email': 'jane@example.com',\n",
       "  'age': 25,\n",
       "  'created_at': 1722222222,\n",
       "  'label': 'User'}]"
      ]
     },
     "execution_count": 20,
     "metadata": {},
     "output_type": "execute_result"
    }
   ],
   "source": [
    "db.query(get_users())[0]['users']"
   ]
  },
  {
   "cell_type": "markdown",
   "metadata": {},
   "source": [
    "# Create follow"
   ]
  },
  {
   "cell_type": "code",
   "execution_count": 21,
   "metadata": {},
   "outputs": [
    {
     "name": "stderr",
     "output_type": "stream",
     "text": [
      "\u001b[32m[HELIX]\u001b[0m Querying 'http://0.0.0.0:6969/create_follow': 100%|██████████| 1/1 [00:00<00:00, 96.33it/s]\n"
     ]
    },
    {
     "data": {
      "text/plain": [
       "[{'success': 'success'}]"
      ]
     },
     "execution_count": 21,
     "metadata": {},
     "output_type": "execute_result"
    }
   ],
   "source": [
    "db.query(create_follow(user1_id, user2_id, 1892222222))"
   ]
  },
  {
   "cell_type": "markdown",
   "metadata": {},
   "source": [
    "# Create"
   ]
  },
  {
   "cell_type": "code",
   "execution_count": 27,
   "metadata": {},
   "outputs": [
    {
     "name": "stderr",
     "output_type": "stream",
     "text": [
      "\u001b[32m[HELIX]\u001b[0m Querying 'http://0.0.0.0:6969/create_post': 100%|██████████| 1/1 [00:00<00:00, 166.73it/s]\n"
     ]
    },
    {
     "data": {
      "text/plain": [
       "{'created_at': 1983333333,\n",
       " 'content': 'Sample Post Content Hello World',\n",
       " 'id': '1f042885-846b-6f37-aeb6-010203040506',\n",
       " 'updated_at': 1983333333,\n",
       " 'label': 'Post'}"
      ]
     },
     "execution_count": 27,
     "metadata": {},
     "output_type": "execute_result"
    }
   ],
   "source": [
    "\n",
    "content = \"Sample Post Content Hello World\"\n",
    "db.query(create_post(user1_id, content, 1983333333))[0]['post'][0]"
   ]
  },
  {
   "cell_type": "markdown",
   "metadata": {},
   "source": [
    "# Get Posts"
   ]
  },
  {
   "cell_type": "code",
   "execution_count": 28,
   "metadata": {},
   "outputs": [
    {
     "name": "stderr",
     "output_type": "stream",
     "text": [
      "\u001b[32m[HELIX]\u001b[0m Querying 'http://0.0.0.0:6969/get_posts': 100%|██████████| 1/1 [00:00<00:00, 962.44it/s]\n"
     ]
    },
    {
     "data": {
      "text/plain": [
       "[{'label': 'Post',\n",
       "  'updated_at': 1983333333,\n",
       "  'id': '1f042883-c982-64c1-aeb0-010203040506',\n",
       "  'content': 'Sample Post Content Hello World',\n",
       "  'created_at': 1983333333},\n",
       " {'label': 'Post',\n",
       "  'created_at': 1983333333,\n",
       "  'updated_at': 1983333333,\n",
       "  'content': 'Sample Post Content Hello World',\n",
       "  'id': '1f042884-7d0f-68c1-aeb2-010203040506'},\n",
       " {'content': 'Sample Post Content Hello World',\n",
       "  'created_at': 1983333333,\n",
       "  'label': 'Post',\n",
       "  'updated_at': 1983333333,\n",
       "  'id': '1f042885-57dd-6037-aeb4-010203040506'},\n",
       " {'label': 'Post',\n",
       "  'created_at': 1983333333,\n",
       "  'id': '1f042885-846b-6f37-aeb6-010203040506',\n",
       "  'content': 'Sample Post Content Hello World',\n",
       "  'updated_at': 1983333333}]"
      ]
     },
     "execution_count": 28,
     "metadata": {},
     "output_type": "execute_result"
    }
   ],
   "source": [
    "db.query(get_posts())[0]['posts']"
   ]
  },
  {
   "cell_type": "markdown",
   "metadata": {},
   "source": [
    "# Get post by user id"
   ]
  },
  {
   "cell_type": "code",
   "execution_count": 29,
   "metadata": {},
   "outputs": [
    {
     "name": "stderr",
     "output_type": "stream",
     "text": [
      "\u001b[32m[HELIX]\u001b[0m Querying 'http://0.0.0.0:6969/get_posts_by_user': 100%|██████████| 1/1 [00:00<00:00, 1264.49it/s]\n"
     ]
    },
    {
     "data": {
      "text/plain": [
       "[{'posts': [{'created_at': 1983333333,\n",
       "    'content': 'Sample Post Content Hello World',\n",
       "    'id': '1f042883-c982-64c1-aeb0-010203040506',\n",
       "    'updated_at': 1983333333,\n",
       "    'label': 'Post'},\n",
       "   {'id': '1f042884-7d0f-68c1-aeb2-010203040506',\n",
       "    'content': 'Sample Post Content Hello World',\n",
       "    'updated_at': 1983333333,\n",
       "    'label': 'Post',\n",
       "    'created_at': 1983333333},\n",
       "   {'label': 'Post',\n",
       "    'content': 'Sample Post Content Hello World',\n",
       "    'updated_at': 1983333333,\n",
       "    'created_at': 1983333333,\n",
       "    'id': '1f042885-57dd-6037-aeb4-010203040506'},\n",
       "   {'label': 'Post',\n",
       "    'updated_at': 1983333333,\n",
       "    'created_at': 1983333333,\n",
       "    'content': 'Sample Post Content Hello World',\n",
       "    'id': '1f042885-846b-6f37-aeb6-010203040506'}]}]"
      ]
     },
     "execution_count": 29,
     "metadata": {},
     "output_type": "execute_result"
    }
   ],
   "source": [
    "db.query(get_posts_by_user(user1_id))"
   ]
  },
  {
   "cell_type": "markdown",
   "metadata": {},
   "source": [
    "# Get followed by user"
   ]
  },
  {
   "cell_type": "code",
   "execution_count": 30,
   "metadata": {},
   "outputs": [
    {
     "name": "stderr",
     "output_type": "stream",
     "text": [
      "\u001b[32m[HELIX]\u001b[0m Querying 'http://0.0.0.0:6969/get_followed_users': 100%|██████████| 1/1 [00:00<00:00, 387.07it/s]\n"
     ]
    },
    {
     "data": {
      "text/plain": [
       "[{'followed': [{'updated_at': 1722222222,\n",
       "    'age': 25,\n",
       "    'email': 'jane@example.com',\n",
       "    'label': 'User',\n",
       "    'id': '1f041c05-53a7-691a-aeae-010203040506',\n",
       "    'name': 'Jane',\n",
       "    'created_at': 1722222222}]}]"
      ]
     },
     "execution_count": 30,
     "metadata": {},
     "output_type": "execute_result"
    }
   ],
   "source": [
    "db.query(get_followed_users(user1_id))"
   ]
  },
  {
   "cell_type": "markdown",
   "metadata": {},
   "source": [
    "# Getting followed users posts"
   ]
  },
  {
   "cell_type": "code",
   "execution_count": 31,
   "metadata": {},
   "outputs": [
    {
     "name": "stderr",
     "output_type": "stream",
     "text": [
      "\u001b[32m[HELIX]\u001b[0m Querying 'http://0.0.0.0:6969/get_followed_users_posts': 100%|██████████| 1/1 [00:00<00:00, 928.15it/s]\n"
     ]
    },
    {
     "data": {
      "text/plain": [
       "[{'posts': []}]"
      ]
     },
     "execution_count": 31,
     "metadata": {},
     "output_type": "execute_result"
    }
   ],
   "source": [
    "db.query(get_followed_users_posts(user1_id))\n",
    "# nothing because user1 is not followed by anyone"
   ]
  }
 ],
 "metadata": {
  "kernelspec": {
   "display_name": ".venv",
   "language": "python",
   "name": "python3"
  },
  "language_info": {
   "codemirror_mode": {
    "name": "ipython",
    "version": 3
   },
   "file_extension": ".py",
   "mimetype": "text/x-python",
   "name": "python",
   "nbconvert_exporter": "python",
   "pygments_lexer": "ipython3",
   "version": "3.12.3"
  }
 },
 "nbformat": 4,
 "nbformat_minor": 2
}
