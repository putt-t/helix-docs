{
 "cells": [
  {
   "cell_type": "code",
   "execution_count": 1,
   "metadata": {},
   "outputs": [
    {
     "name": "stdout",
     "output_type": "stream",
     "text": [
      "\u001b[32m[HELIX]\u001b[0m Helix instance found at 'http://0.0.0.0:6969'\n"
     ]
    }
   ],
   "source": [
    "import helix\n",
    "from helix import Client, Query, Payload\n",
    "from typing import Tuple, List, Any\n",
    "\n",
    "db = Client(local=True)\n",
    "\n",
    "class get_users(helix.Query):\n",
    "    def __init__(self):\n",
    "        super().__init__()\n",
    "    def query(self) -> List[Any]:\n",
    "        return [{}]\n",
    "    def response(self, response):\n",
    "        return response\n",
    "    \n",
    "class create_user(Query):\n",
    "    def __init__(self, name:str, age:int, email:str, now:int):\n",
    "        super().__init__()\n",
    "        self.name = name\n",
    "        self.age = age\n",
    "        self.email = email\n",
    "        self.now = now\n",
    "    \n",
    "    def query(self) -> List[Payload]:\n",
    "        return [{\"name\": self.name, \"age\": self.age, \"email\": self.email, \"now\": self.now}]\n",
    "            \n",
    "    def response(self, response):\n",
    "        return response\n",
    "\n",
    "class create_follow(Query):\n",
    "    def __init__(self, follower_id: str, followed_id: str, now: int):\n",
    "        super().__init__()\n",
    "        self.follower_id = follower_id\n",
    "        self.followed_id = followed_id\n",
    "        self.now = now\n",
    "    \n",
    "    def query(self):\n",
    "        return [{\"follower_id\": self.follower_id, \"followed_id\": self.followed_id, \"now\": self.now}]\n",
    "            \n",
    "    \n",
    "    def response(self, response):\n",
    "        return response\n",
    "\n",
    "\n",
    "class get_shortest_path(helix.Query):\n",
    "    def __init__(self, from_id: str, to_id: str):\n",
    "        super().__init__()\n",
    "        self.from_id = from_id\n",
    "        self.to_id = to_id\n",
    "    \n",
    "    def query(self) -> List[Any]:\n",
    "        return [{\"from_id\": self.from_id, \"to_id\": self.to_id}]\n",
    "    \n",
    "    def response(self, response):\n",
    "        return response\n",
    "\n",
    "class get_followed_users(Query):\n",
    "    def __init__(self, user_id: str):\n",
    "        super().__init__()\n",
    "        self.user_id = user_id\n",
    "    \n",
    "    def query(self) -> List[Payload]:\n",
    "        return [{\"user_id\": self.user_id}]\n",
    "    \n",
    "    def response(self, response):\n",
    "        return response\n",
    "    "
   ]
  },
  {
   "cell_type": "code",
   "execution_count": 2,
   "metadata": {},
   "outputs": [
    {
     "name": "stdout",
     "output_type": "stream",
     "text": [
      "Creating users...\n"
     ]
    },
    {
     "name": "stderr",
     "output_type": "stream",
     "text": [
      "\u001b[32m[HELIX]\u001b[0m Querying 'http://0.0.0.0:6969/create_user':   0%|          | 0/1 [00:00<?, ?it/s]"
     ]
    },
    {
     "name": "stderr",
     "output_type": "stream",
     "text": [
      "\u001b[32m[HELIX]\u001b[0m Querying 'http://0.0.0.0:6969/create_user': 100%|██████████| 1/1 [00:00<00:00, 75.28it/s]\n"
     ]
    },
    {
     "name": "stdout",
     "output_type": "stream",
     "text": [
      "Created user1: [{'user': [{'email': 'john@example.com', 'label': 'User', 'name': 'John', 'updated_at': 1722222222, 'age': 30, 'id': '1f041bd6-5e3c-6ee2-94fe-010203040506', 'created_at': 1722222222}]}]\n"
     ]
    },
    {
     "name": "stderr",
     "output_type": "stream",
     "text": [
      "\u001b[32m[HELIX]\u001b[0m Querying 'http://0.0.0.0:6969/create_user': 100%|██████████| 1/1 [00:00<00:00, 167.89it/s]\n"
     ]
    },
    {
     "name": "stdout",
     "output_type": "stream",
     "text": [
      "Created user2: [{'user': [{'email': 'jane@example.com', 'label': 'User', 'age': 25, 'id': '1f041bd6-5e4c-663a-94ff-010203040506', 'updated_at': 1722222222, 'created_at': 1722222222, 'name': 'Jane'}]}]\n"
     ]
    },
    {
     "name": "stderr",
     "output_type": "stream",
     "text": [
      "\u001b[32m[HELIX]\u001b[0m Querying 'http://0.0.0.0:6969/create_user': 100%|██████████| 1/1 [00:00<00:00, 173.01it/s]\n"
     ]
    },
    {
     "name": "stdout",
     "output_type": "stream",
     "text": [
      "Created user3: [{'user': [{'updated_at': 1722222222, 'email': 'bob@example.com', 'name': 'Bob', 'id': '1f041bd6-5e5e-6128-9500-010203040506', 'label': 'User', 'age': 35, 'created_at': 1722222222}]}]\n"
     ]
    },
    {
     "name": "stderr",
     "output_type": "stream",
     "text": [
      "\u001b[32m[HELIX]\u001b[0m Querying 'http://0.0.0.0:6969/create_user': 100%|██████████| 1/1 [00:00<00:00, 193.49it/s]"
     ]
    },
    {
     "name": "stdout",
     "output_type": "stream",
     "text": [
      "Created user4: [{'user': [{'id': '1f041bd6-5e6e-699c-9501-010203040506', 'updated_at': 1722222222, 'age': 21, 'label': 'User', 'created_at': 1722222222, 'name': 'James', 'email': 'james@example.com'}]}]\n"
     ]
    },
    {
     "name": "stderr",
     "output_type": "stream",
     "text": [
      "\n"
     ]
    }
   ],
   "source": [
    "\n",
    "# add some users in\n",
    "print(\"Creating users...\")\n",
    "john = db.query(create_user(\"John\", 30, \"john@example.com\", 1722222222))\n",
    "\n",
    "print(\"Created user1:\", john)\n",
    "\n",
    "jane = db.query(create_user(\"Jane\", 25, \"jane@example.com\", 1722222222))\n",
    "print(\"Created user2:\", jane)\n",
    "\n",
    "bob = db.query(create_user(\"Bob\", 35, \"bob@example.com\", 1722222222))\n",
    "print(\"Created user3:\", bob)\n",
    "\n",
    "james = db.query(create_user(\"James\", 21, \"james@example.com\", 1722222222))\n",
    "print(\"Created user4:\", james)\n"
   ]
  },
  {
   "cell_type": "code",
   "execution_count": 3,
   "metadata": {},
   "outputs": [
    {
     "data": {
      "text/plain": [
       "[{'user': [{'email': 'john@example.com',\n",
       "    'label': 'User',\n",
       "    'name': 'John',\n",
       "    'updated_at': 1722222222,\n",
       "    'age': 30,\n",
       "    'id': '1f041bd6-5e3c-6ee2-94fe-010203040506',\n",
       "    'created_at': 1722222222}]}]"
      ]
     },
     "execution_count": 3,
     "metadata": {},
     "output_type": "execute_result"
    }
   ],
   "source": [
    "john"
   ]
  },
  {
   "cell_type": "code",
   "execution_count": 4,
   "metadata": {},
   "outputs": [
    {
     "data": {
      "text/plain": [
       "'1f041bd6-5e3c-6ee2-94fe-010203040506'"
      ]
     },
     "execution_count": 4,
     "metadata": {},
     "output_type": "execute_result"
    }
   ],
   "source": [
    "john[0]['user'][0]['id']"
   ]
  },
  {
   "cell_type": "code",
   "execution_count": 5,
   "metadata": {},
   "outputs": [
    {
     "name": "stderr",
     "output_type": "stream",
     "text": [
      "\u001b[32m[HELIX]\u001b[0m Querying 'http://0.0.0.0:6969/get_users': 100%|██████████| 1/1 [00:00<00:00, 1607.63it/s]"
     ]
    },
    {
     "name": "stdout",
     "output_type": "stream",
     "text": [
      "Get users result: [{'users': [{'label': 'User', 'email': 'john@example.com', 'name': 'John', 'age': 30, 'created_at': 1722222222, 'id': '1f041bd6-5e3c-6ee2-94fe-010203040506', 'updated_at': 1722222222}, {'id': '1f041bd6-5e4c-663a-94ff-010203040506', 'age': 25, 'label': 'User', 'created_at': 1722222222, 'name': 'Jane', 'updated_at': 1722222222, 'email': 'jane@example.com'}, {'updated_at': 1722222222, 'age': 35, 'created_at': 1722222222, 'label': 'User', 'email': 'bob@example.com', 'name': 'Bob', 'id': '1f041bd6-5e5e-6128-9500-010203040506'}, {'updated_at': 1722222222, 'name': 'James', 'created_at': 1722222222, 'age': 21, 'id': '1f041bd6-5e6e-699c-9501-010203040506', 'email': 'james@example.com', 'label': 'User'}]}]\n"
     ]
    },
    {
     "name": "stderr",
     "output_type": "stream",
     "text": [
      "\n"
     ]
    }
   ],
   "source": [
    "\n",
    "# get users info\n",
    "users_result = db.query(get_users())\n",
    "print(\"Get users result:\", users_result)\n"
   ]
  },
  {
   "cell_type": "code",
   "execution_count": 6,
   "metadata": {},
   "outputs": [
    {
     "name": "stderr",
     "output_type": "stream",
     "text": [
      "\u001b[32m[HELIX]\u001b[0m Querying 'http://0.0.0.0:6969/create_follow': 100%|██████████| 1/1 [00:00<00:00, 207.63it/s]"
     ]
    },
    {
     "name": "stdout",
     "output_type": "stream",
     "text": [
      "Follow result: [{'success': 'success'}]\n"
     ]
    },
    {
     "name": "stderr",
     "output_type": "stream",
     "text": [
      "\n"
     ]
    }
   ],
   "source": [
    "\n",
    "# Create a follow relationship between John and Bob using actual IDs\n",
    "\n",
    "follow_result = db.query(create_follow(john[0]['user'][0]['id'], bob[0]['user'][0]['id'], 1892222222))\n",
    "print(\"Follow result:\", follow_result)\n"
   ]
  },
  {
   "cell_type": "markdown",
   "metadata": {},
   "source": [
    "# Path"
   ]
  },
  {
   "cell_type": "markdown",
   "metadata": {},
   "source": [
    "Path to try:\n",
    "\n",
    "John -> Bob -> James\n",
    "\n",
    "John -> James\n",
    "\n",
    "Shortest path should be John to James between John and James\n"
   ]
  },
  {
   "cell_type": "code",
   "execution_count": 7,
   "metadata": {},
   "outputs": [
    {
     "name": "stderr",
     "output_type": "stream",
     "text": [
      "\u001b[32m[HELIX]\u001b[0m Querying 'http://0.0.0.0:6969/create_follow': 100%|██████████| 1/1 [00:00<00:00, 241.38it/s]"
     ]
    },
    {
     "name": "stdout",
     "output_type": "stream",
     "text": [
      "Follow result: [{'success': 'success'}]\n"
     ]
    },
    {
     "name": "stderr",
     "output_type": "stream",
     "text": [
      "\n"
     ]
    }
   ],
   "source": [
    "# Bob to James\n",
    "follow_result = db.query(create_follow(bob[0]['user'][0]['id'], james[0]['user'][0]['id'], 1892222222))\n",
    "print(\"Follow result:\", follow_result)\n"
   ]
  },
  {
   "cell_type": "code",
   "execution_count": 8,
   "metadata": {},
   "outputs": [
    {
     "name": "stderr",
     "output_type": "stream",
     "text": [
      "\u001b[32m[HELIX]\u001b[0m Querying 'http://0.0.0.0:6969/create_follow': 100%|██████████| 1/1 [00:00<00:00, 214.08it/s]"
     ]
    },
    {
     "name": "stdout",
     "output_type": "stream",
     "text": [
      "Follow result: [{'success': 'success'}]\n"
     ]
    },
    {
     "name": "stderr",
     "output_type": "stream",
     "text": [
      "\n"
     ]
    }
   ],
   "source": [
    "\n",
    "# John to James\n",
    "follow_result = db.query(create_follow(john[0]['user'][0]['id'], james[0]['user'][0]['id'], 1892222222))\n",
    "print(\"Follow result:\", follow_result)"
   ]
  },
  {
   "cell_type": "code",
   "execution_count": 9,
   "metadata": {},
   "outputs": [
    {
     "name": "stderr",
     "output_type": "stream",
     "text": [
      "\u001b[32m[HELIX]\u001b[0m Querying 'http://0.0.0.0:6969/get_followed_users': 100%|██████████| 1/1 [00:00<00:00, 1848.53it/s]"
     ]
    },
    {
     "name": "stdout",
     "output_type": "stream",
     "text": [
      "Followed users result: [{'followed': [{'created_at': 1722222222, 'email': 'bob@example.com', 'name': 'Bob', 'updated_at': 1722222222, 'age': 35, 'id': '1f041bd6-5e5e-6128-9500-010203040506', 'label': 'User'}, {'label': 'User', 'email': 'james@example.com', 'id': '1f041bd6-5e6e-699c-9501-010203040506', 'age': 21, 'name': 'James', 'updated_at': 1722222222, 'created_at': 1722222222}]}]\n"
     ]
    },
    {
     "name": "stderr",
     "output_type": "stream",
     "text": [
      "\n"
     ]
    }
   ],
   "source": [
    "# incase you want to see followed result\n",
    "followed_users_result = db.query(get_followed_users(john[0]['user'][0]['id']))\n",
    "print(\"Followed users result:\", followed_users_result)"
   ]
  },
  {
   "cell_type": "code",
   "execution_count": 11,
   "metadata": {},
   "outputs": [
    {
     "name": "stderr",
     "output_type": "stream",
     "text": [
      "\u001b[32m[HELIX]\u001b[0m Querying 'http://0.0.0.0:6969/get_shortest_path': 100%|██████████| 1/1 [00:00<00:00, 1538.63it/s]\n"
     ]
    },
    {
     "data": {
      "text/plain": [
       "[{'path_to': [{'edges': [{'to_node': '1f041bd6-5e6e-699c-9501-010203040506',\n",
       "      'id': '1f041bd6-5ecb-68e0-9504-010203040506',\n",
       "      'label': 'Follows',\n",
       "      'since': 1892222222,\n",
       "      'from_node': '1f041bd6-5e3c-6ee2-94fe-010203040506'}],\n",
       "    'nodes': [{'age': 30,\n",
       "      'updated_at': 1722222222,\n",
       "      'email': 'john@example.com',\n",
       "      'created_at': 1722222222,\n",
       "      'label': 'User',\n",
       "      'id': '1f041bd6-5e3c-6ee2-94fe-010203040506',\n",
       "      'name': 'John'},\n",
       "     {'updated_at': 1722222222,\n",
       "      'id': '1f041bd6-5e6e-699c-9501-010203040506',\n",
       "      'created_at': 1722222222,\n",
       "      'email': 'james@example.com',\n",
       "      'label': 'User',\n",
       "      'name': 'James',\n",
       "      'age': 21}]}],\n",
       "  'path_from': []}]"
      ]
     },
     "execution_count": 11,
     "metadata": {},
     "output_type": "execute_result"
    }
   ],
   "source": [
    "# Test shortest path between the same users (John -> Bob)\n",
    "path_result = db.query(get_shortest_path(john[0]['user'][0]['id'], james[0]['user'][0]['id']))\n",
    "path_result"
   ]
  },
  {
   "cell_type": "code",
   "execution_count": null,
   "metadata": {},
   "outputs": [],
   "source": []
  }
 ],
 "metadata": {
  "kernelspec": {
   "display_name": ".venv",
   "language": "python",
   "name": "python3"
  },
  "language_info": {
   "codemirror_mode": {
    "name": "ipython",
    "version": 3
   },
   "file_extension": ".py",
   "mimetype": "text/x-python",
   "name": "python",
   "nbconvert_exporter": "python",
   "pygments_lexer": "ipython3",
   "version": "3.13.3"
  }
 },
 "nbformat": 4,
 "nbformat_minor": 2
}
