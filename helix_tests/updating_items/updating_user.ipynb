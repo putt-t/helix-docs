{
 "cells": [
  {
   "cell_type": "code",
   "execution_count": 35,
   "metadata": {},
   "outputs": [
    {
     "name": "stdout",
     "output_type": "stream",
     "text": [
      "\u001b[32m[HELIX]\u001b[0m Helix instance found at 'http://0.0.0.0:6969'\n"
     ]
    }
   ],
   "source": [
    "import helix\n",
    "from helix import Client, Query, Payload\n",
    "from typing import Tuple, List, Any\n",
    "\n",
    "db = Client(local=True)\n",
    "\n",
    "class update_user(Query):\n",
    "    def __init__(self, userID: str, name: str, age: int):\n",
    "        super().__init__()\n",
    "        self.userID = userID\n",
    "        self.name = name\n",
    "        self.age = age\n",
    "    \n",
    "    def query(self) -> List[Payload]:\n",
    "        return [{\"userID\": self.userID, \"name\": self.name, \"age\": self.age}]\n",
    "    \n",
    "    def response(self, response):\n",
    "        return response\n",
    "\n",
    "class create_user(Query):\n",
    "    def __init__(self, name:str, age:int, email:str, now:int):\n",
    "        super().__init__()\n",
    "        self.name = name\n",
    "        self.age = age\n",
    "        self.email = email\n",
    "        self.now = now\n",
    "    \n",
    "    def query(self) -> List[Payload]:\n",
    "        return [{\"name\": self.name, \"age\": self.age, \"email\": self.email, \"now\": self.now}]\n",
    "            \n",
    "    def response(self, response):\n",
    "        return response\n",
    "\n",
    "class get_users(Query):\n",
    "    def __init__(self):\n",
    "        super().__init__()\n",
    "    \n",
    "    def query(self) -> List[Payload]:\n",
    "        return [{}]\n",
    "    \n",
    "    def response(self, response):\n",
    "        return response\n"
   ]
  },
  {
   "cell_type": "code",
   "execution_count": 25,
   "metadata": {},
   "outputs": [
    {
     "name": "stdout",
     "output_type": "stream",
     "text": [
      "Creating users...\n"
     ]
    },
    {
     "name": "stderr",
     "output_type": "stream",
     "text": [
      "\u001b[32m[HELIX]\u001b[0m Querying 'http://0.0.0.0:6969/create_user': 100%|██████████| 1/1 [00:00<00:00, 150.51it/s]\n"
     ]
    },
    {
     "name": "stdout",
     "output_type": "stream",
     "text": [
      "Created user1: [{'user': [{'label': 'User', 'name': 'John', 'age': 30, 'updated_at': 1722222222, 'created_at': 1722222222, 'id': '1f040c8b-7115-614a-857c-010203040506', 'email': 'john@example.com'}]}]\n"
     ]
    },
    {
     "name": "stderr",
     "output_type": "stream",
     "text": [
      "\u001b[32m[HELIX]\u001b[0m Querying 'http://0.0.0.0:6969/create_user': 100%|██████████| 1/1 [00:00<00:00, 185.85it/s]\n"
     ]
    },
    {
     "name": "stdout",
     "output_type": "stream",
     "text": [
      "Created user2: [{'user': [{'id': '1f040c8b-7128-6b78-857d-010203040506', 'email': 'jane@example.com', 'age': 25, 'label': 'User', 'name': 'Jane', 'updated_at': 1722222222, 'created_at': 1722222222}]}]\n"
     ]
    },
    {
     "name": "stderr",
     "output_type": "stream",
     "text": [
      "\u001b[32m[HELIX]\u001b[0m Querying 'http://0.0.0.0:6969/create_user': 100%|██████████| 1/1 [00:00<00:00, 208.10it/s]\n"
     ]
    },
    {
     "name": "stdout",
     "output_type": "stream",
     "text": [
      "Created user3: [{'user': [{'label': 'User', 'created_at': 1722222222, 'age': 35, 'updated_at': 1722222222, 'id': '1f040c8b-7137-6ec0-857e-010203040506', 'email': 'bob@example.com', 'name': 'Bob'}]}]\n"
     ]
    },
    {
     "name": "stderr",
     "output_type": "stream",
     "text": [
      "\u001b[32m[HELIX]\u001b[0m Querying 'http://0.0.0.0:6969/create_user': 100%|██████████| 1/1 [00:00<00:00, 193.35it/s]"
     ]
    },
    {
     "name": "stdout",
     "output_type": "stream",
     "text": [
      "Created user4: [{'user': [{'updated_at': 1722222222, 'name': 'James', 'age': 21, 'email': 'james@example.com', 'created_at': 1722222222, 'label': 'User', 'id': '1f040c8b-7145-6db8-857f-010203040506'}]}]\n"
     ]
    },
    {
     "name": "stderr",
     "output_type": "stream",
     "text": [
      "\n"
     ]
    }
   ],
   "source": [
    "# add some users in\n",
    "print(\"Creating users...\")\n",
    "user1 = db.query(create_user(\"John\", 30, \"john@example.com\", 1722222222))\n",
    "\n",
    "print(\"Created user1:\", user1)\n",
    "\n",
    "user2 = db.query(create_user(\"Jane\", 25, \"jane@example.com\", 1722222222))\n",
    "print(\"Created user2:\", user2)\n",
    "\n",
    "user3 = db.query(create_user(\"Bob\", 35, \"bob@example.com\", 1722222222))\n",
    "print(\"Created user3:\", user3)\n",
    "\n",
    "user4 = db.query(create_user(\"James\", 21, \"james@example.com\", 1722222222))\n",
    "print(\"Created user4:\", user4)\n"
   ]
  },
  {
   "cell_type": "code",
   "execution_count": 26,
   "metadata": {},
   "outputs": [
    {
     "name": "stderr",
     "output_type": "stream",
     "text": [
      "\u001b[32m[HELIX]\u001b[0m Querying 'http://0.0.0.0:6969/get_users': 100%|██████████| 1/1 [00:00<00:00, 1235.80it/s]\n"
     ]
    },
    {
     "data": {
      "text/plain": [
       "[{'users': [{'name': 'John',\n",
       "    'id': '1f040c8b-7115-614a-857c-010203040506',\n",
       "    'created_at': 1722222222,\n",
       "    'email': 'john@example.com',\n",
       "    'label': 'User',\n",
       "    'age': 30,\n",
       "    'updated_at': 1722222222},\n",
       "   {'name': 'Jane',\n",
       "    'age': 25,\n",
       "    'updated_at': 1722222222,\n",
       "    'label': 'User',\n",
       "    'id': '1f040c8b-7128-6b78-857d-010203040506',\n",
       "    'email': 'jane@example.com',\n",
       "    'created_at': 1722222222},\n",
       "   {'id': '1f040c8b-7137-6ec0-857e-010203040506',\n",
       "    'name': 'Bob',\n",
       "    'email': 'bob@example.com',\n",
       "    'created_at': 1722222222,\n",
       "    'age': 35,\n",
       "    'label': 'User',\n",
       "    'updated_at': 1722222222},\n",
       "   {'updated_at': 1722222222,\n",
       "    'name': 'James',\n",
       "    'id': '1f040c8b-7145-6db8-857f-010203040506',\n",
       "    'age': 21,\n",
       "    'email': 'james@example.com',\n",
       "    'label': 'User',\n",
       "    'created_at': 1722222222}]}]"
      ]
     },
     "execution_count": 26,
     "metadata": {},
     "output_type": "execute_result"
    }
   ],
   "source": [
    "users = db.query(get_users())\n",
    "users"
   ]
  },
  {
   "cell_type": "code",
   "execution_count": 27,
   "metadata": {},
   "outputs": [
    {
     "data": {
      "text/plain": [
       "'1f040c8b-7115-614a-857c-010203040506'"
      ]
     },
     "execution_count": 27,
     "metadata": {},
     "output_type": "execute_result"
    }
   ],
   "source": [
    "user1[0]['user'][0]['id']"
   ]
  },
  {
   "cell_type": "code",
   "execution_count": 39,
   "metadata": {},
   "outputs": [
    {
     "name": "stderr",
     "output_type": "stream",
     "text": [
      "\u001b[32m[HELIX]\u001b[0m Querying 'http://0.0.0.0:6969/update_user': 100%|██████████| 1/1 [00:00<00:00, 146.24it/s]\n"
     ]
    },
    {
     "data": {
      "text/plain": [
       "[{'updatedUsers': [{'id': '1f040c8b-7115-614a-857c-010203040506',\n",
       "    'label': 'User',\n",
       "    'email': 'john@example.com',\n",
       "    'created_at': 1722222222,\n",
       "    'updated_at': 1722222222,\n",
       "    'name': 'LEBRONNNNNN',\n",
       "    'age': 32}]}]"
      ]
     },
     "execution_count": 39,
     "metadata": {},
     "output_type": "execute_result"
    }
   ],
   "source": [
    "test_update = db.query(update_user(user1[0]['user'][0]['id'], \"LEBRONNNNNN\", 32))\n",
    "test_update"
   ]
  },
  {
   "cell_type": "markdown",
   "metadata": {},
   "source": [
    "bug?"
   ]
  },
  {
   "cell_type": "code",
   "execution_count": 40,
   "metadata": {},
   "outputs": [
    {
     "name": "stderr",
     "output_type": "stream",
     "text": [
      "\u001b[32m[HELIX]\u001b[0m Querying 'http://0.0.0.0:6969/get_users': 100%|██████████| 1/1 [00:00<00:00, 1391.15it/s]\n"
     ]
    },
    {
     "data": {
      "text/plain": [
       "[{'users': [{'label': 'User',\n",
       "    'id': '1f040c8b-7115-614a-857c-010203040506',\n",
       "    'email': 'john@example.com',\n",
       "    'updated_at': 1722222222,\n",
       "    'name': 'John',\n",
       "    'age': 30,\n",
       "    'created_at': 1722222222},\n",
       "   {'updated_at': 1722222222,\n",
       "    'age': 25,\n",
       "    'label': 'User',\n",
       "    'name': 'Jane',\n",
       "    'id': '1f040c8b-7128-6b78-857d-010203040506',\n",
       "    'email': 'jane@example.com',\n",
       "    'created_at': 1722222222},\n",
       "   {'created_at': 1722222222,\n",
       "    'updated_at': 1722222222,\n",
       "    'email': 'bob@example.com',\n",
       "    'label': 'User',\n",
       "    'name': 'Bob',\n",
       "    'id': '1f040c8b-7137-6ec0-857e-010203040506',\n",
       "    'age': 35},\n",
       "   {'email': 'james@example.com',\n",
       "    'updated_at': 1722222222,\n",
       "    'age': 21,\n",
       "    'name': 'James',\n",
       "    'id': '1f040c8b-7145-6db8-857f-010203040506',\n",
       "    'created_at': 1722222222,\n",
       "    'label': 'User'}]}]"
      ]
     },
     "execution_count": 40,
     "metadata": {},
     "output_type": "execute_result"
    }
   ],
   "source": [
    "users = db.query(get_users())\n",
    "users"
   ]
  },
  {
   "cell_type": "code",
   "execution_count": null,
   "metadata": {},
   "outputs": [],
   "source": []
  }
 ],
 "metadata": {
  "kernelspec": {
   "display_name": ".venv",
   "language": "python",
   "name": "python3"
  },
  "language_info": {
   "codemirror_mode": {
    "name": "ipython",
    "version": 3
   },
   "file_extension": ".py",
   "mimetype": "text/x-python",
   "name": "python",
   "nbconvert_exporter": "python",
   "pygments_lexer": "ipython3",
   "version": "3.13.3"
  }
 },
 "nbformat": 4,
 "nbformat_minor": 2
}
