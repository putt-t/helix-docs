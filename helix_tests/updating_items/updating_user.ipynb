{
 "cells": [
  {
   "cell_type": "code",
   "execution_count": 1,
   "metadata": {},
   "outputs": [
    {
     "name": "stdout",
     "output_type": "stream",
     "text": [
      "\u001b[32m[HELIX]\u001b[0m Helix instance found at 'http://0.0.0.0:6969'\n"
     ]
    }
   ],
   "source": [
    "import helix\n",
    "from helix import Client, Query, Payload\n",
    "from typing import Tuple, List, Any\n",
    "\n",
    "db = Client(local=True)\n",
    "\n",
    "class update_user(Query):\n",
    "    def __init__(self, userID: str, name: str, age: int):\n",
    "        super().__init__()\n",
    "        self.userID = userID\n",
    "        self.name = name\n",
    "        self.age = age\n",
    "    \n",
    "    def query(self) -> List[Payload]:\n",
    "        return [{\"userID\": self.userID, \"name\": self.name, \"age\": self.age}]\n",
    "    \n",
    "    def response(self, response):\n",
    "        return response\n",
    "\n",
    "class create_user(Query):\n",
    "    def __init__(self, name:str, age:int, email:str, now:int):\n",
    "        super().__init__()\n",
    "        self.name = name\n",
    "        self.age = age\n",
    "        self.email = email\n",
    "        self.now = now\n",
    "    \n",
    "    def query(self) -> List[Payload]:\n",
    "        return [{\"name\": self.name, \"age\": self.age, \"email\": self.email, \"now\": self.now}]\n",
    "            \n",
    "    def response(self, response):\n",
    "        return response\n",
    "\n",
    "class get_users(Query):\n",
    "    def __init__(self):\n",
    "        super().__init__()\n",
    "    \n",
    "    def query(self) -> List[Payload]:\n",
    "        return [{}]\n",
    "    \n",
    "    def response(self, response):\n",
    "        return response\n"
   ]
  },
  {
   "cell_type": "code",
   "execution_count": 2,
   "metadata": {},
   "outputs": [
    {
     "name": "stdout",
     "output_type": "stream",
     "text": [
      "Creating users...\n"
     ]
    },
    {
     "name": "stderr",
     "output_type": "stream",
     "text": [
      "\u001b[32m[HELIX]\u001b[0m Querying 'http://0.0.0.0:6969/create_user': 100%|██████████| 1/1 [00:00<00:00, 78.38it/s]\n"
     ]
    },
    {
     "name": "stdout",
     "output_type": "stream",
     "text": [
      "Created user1: [{'user': [{'id': '1f041874-92c5-6070-81de-010203040506', 'name': 'John', 'created_at': 1722222222, 'age': 30, 'updated_at': 1722222222, 'label': 'User', 'email': 'john@example.com'}]}]\n"
     ]
    },
    {
     "name": "stderr",
     "output_type": "stream",
     "text": [
      "\u001b[32m[HELIX]\u001b[0m Querying 'http://0.0.0.0:6969/create_user': 100%|██████████| 1/1 [00:00<00:00, 151.61it/s]\n"
     ]
    },
    {
     "name": "stdout",
     "output_type": "stream",
     "text": [
      "Created user2: [{'user': [{'id': '1f041874-92d9-6d68-81df-010203040506', 'name': 'Jane', 'updated_at': 1722222222, 'label': 'User', 'email': 'jane@example.com', 'age': 25, 'created_at': 1722222222}]}]\n"
     ]
    },
    {
     "name": "stderr",
     "output_type": "stream",
     "text": [
      "\u001b[32m[HELIX]\u001b[0m Querying 'http://0.0.0.0:6969/create_user': 100%|██████████| 1/1 [00:00<00:00, 160.23it/s]\n"
     ]
    },
    {
     "name": "stdout",
     "output_type": "stream",
     "text": [
      "Created user3: [{'user': [{'updated_at': 1722222222, 'label': 'User', 'id': '1f041874-92eb-6c20-81e0-010203040506', 'name': 'Bob', 'age': 35, 'email': 'bob@example.com', 'created_at': 1722222222}]}]\n"
     ]
    },
    {
     "name": "stderr",
     "output_type": "stream",
     "text": [
      "\u001b[32m[HELIX]\u001b[0m Querying 'http://0.0.0.0:6969/create_user': 100%|██████████| 1/1 [00:00<00:00, 203.95it/s]"
     ]
    },
    {
     "name": "stdout",
     "output_type": "stream",
     "text": [
      "Created user4: [{'user': [{'age': 21, 'updated_at': 1722222222, 'created_at': 1722222222, 'email': 'james@example.com', 'id': '1f041874-92fd-602e-81e1-010203040506', 'name': 'James', 'label': 'User'}]}]\n"
     ]
    },
    {
     "name": "stderr",
     "output_type": "stream",
     "text": [
      "\n"
     ]
    }
   ],
   "source": [
    "# add some users in\n",
    "print(\"Creating users...\")\n",
    "user1 = db.query(create_user(\"John\", 30, \"john@example.com\", 1722222222))\n",
    "\n",
    "print(\"Created user1:\", user1)\n",
    "\n",
    "user2 = db.query(create_user(\"Jane\", 25, \"jane@example.com\", 1722222222))\n",
    "print(\"Created user2:\", user2)\n",
    "\n",
    "user3 = db.query(create_user(\"Bob\", 35, \"bob@example.com\", 1722222222))\n",
    "print(\"Created user3:\", user3)\n",
    "\n",
    "user4 = db.query(create_user(\"James\", 21, \"james@example.com\", 1722222222))\n",
    "print(\"Created user4:\", user4)\n"
   ]
  },
  {
   "cell_type": "code",
   "execution_count": 3,
   "metadata": {},
   "outputs": [
    {
     "name": "stderr",
     "output_type": "stream",
     "text": [
      "\u001b[32m[HELIX]\u001b[0m Querying 'http://0.0.0.0:6969/get_users': 100%|██████████| 1/1 [00:00<00:00, 1949.03it/s]\n"
     ]
    },
    {
     "data": {
      "text/plain": [
       "[{'users': [{'age': 30,\n",
       "    'created_at': 1722222222,\n",
       "    'updated_at': 1722222222,\n",
       "    'email': 'john@example.com',\n",
       "    'id': '1f041874-92c5-6070-81de-010203040506',\n",
       "    'name': 'John',\n",
       "    'label': 'User'},\n",
       "   {'age': 25,\n",
       "    'name': 'Jane',\n",
       "    'label': 'User',\n",
       "    'created_at': 1722222222,\n",
       "    'updated_at': 1722222222,\n",
       "    'email': 'jane@example.com',\n",
       "    'id': '1f041874-92d9-6d68-81df-010203040506'},\n",
       "   {'id': '1f041874-92eb-6c20-81e0-010203040506',\n",
       "    'age': 35,\n",
       "    'updated_at': 1722222222,\n",
       "    'created_at': 1722222222,\n",
       "    'label': 'User',\n",
       "    'name': 'Bob',\n",
       "    'email': 'bob@example.com'},\n",
       "   {'id': '1f041874-92fd-602e-81e1-010203040506',\n",
       "    'label': 'User',\n",
       "    'updated_at': 1722222222,\n",
       "    'email': 'james@example.com',\n",
       "    'age': 21,\n",
       "    'name': 'James',\n",
       "    'created_at': 1722222222}]}]"
      ]
     },
     "execution_count": 3,
     "metadata": {},
     "output_type": "execute_result"
    }
   ],
   "source": [
    "users = db.query(get_users())\n",
    "users"
   ]
  },
  {
   "cell_type": "code",
   "execution_count": 4,
   "metadata": {},
   "outputs": [
    {
     "data": {
      "text/plain": [
       "'1f041874-92c5-6070-81de-010203040506'"
      ]
     },
     "execution_count": 4,
     "metadata": {},
     "output_type": "execute_result"
    }
   ],
   "source": [
    "user1[0]['user'][0]['id']"
   ]
  },
  {
   "cell_type": "code",
   "execution_count": 5,
   "metadata": {},
   "outputs": [
    {
     "name": "stderr",
     "output_type": "stream",
     "text": [
      "\u001b[32m[HELIX]\u001b[0m Querying 'http://0.0.0.0:6969/update_user': 100%|██████████| 1/1 [00:00<00:00, 180.31it/s]\n"
     ]
    },
    {
     "data": {
      "text/plain": [
       "[{'updatedUsers': [{'created_at': 1722222222,\n",
       "    'id': '1f041874-92c5-6070-81de-010203040506',\n",
       "    'label': 'User',\n",
       "    'age': 32,\n",
       "    'name': 'LEBRONNNNNN',\n",
       "    'email': 'john@example.com',\n",
       "    'updated_at': 1722222222}]}]"
      ]
     },
     "execution_count": 5,
     "metadata": {},
     "output_type": "execute_result"
    }
   ],
   "source": [
    "test_update = db.query(update_user(user1[0]['user'][0]['id'], \"LEBRONNNNNN\", 32))\n",
    "test_update"
   ]
  },
  {
   "cell_type": "markdown",
   "metadata": {},
   "source": [
    "bug?"
   ]
  },
  {
   "cell_type": "code",
   "execution_count": 6,
   "metadata": {},
   "outputs": [
    {
     "name": "stderr",
     "output_type": "stream",
     "text": [
      "\u001b[32m[HELIX]\u001b[0m Querying 'http://0.0.0.0:6969/get_users': 100%|██████████| 1/1 [00:00<00:00, 1570.31it/s]\n"
     ]
    },
    {
     "data": {
      "text/plain": [
       "[{'users': [{'name': 'LEBRONNNNNN',\n",
       "    'id': '1f041874-92c5-6070-81de-010203040506',\n",
       "    'label': 'User',\n",
       "    'updated_at': 1722222222,\n",
       "    'age': 32,\n",
       "    'created_at': 1722222222,\n",
       "    'email': 'john@example.com'},\n",
       "   {'created_at': 1722222222,\n",
       "    'email': 'jane@example.com',\n",
       "    'updated_at': 1722222222,\n",
       "    'label': 'User',\n",
       "    'age': 25,\n",
       "    'id': '1f041874-92d9-6d68-81df-010203040506',\n",
       "    'name': 'Jane'},\n",
       "   {'age': 35,\n",
       "    'created_at': 1722222222,\n",
       "    'name': 'Bob',\n",
       "    'id': '1f041874-92eb-6c20-81e0-010203040506',\n",
       "    'label': 'User',\n",
       "    'email': 'bob@example.com',\n",
       "    'updated_at': 1722222222},\n",
       "   {'updated_at': 1722222222,\n",
       "    'created_at': 1722222222,\n",
       "    'age': 21,\n",
       "    'name': 'James',\n",
       "    'email': 'james@example.com',\n",
       "    'id': '1f041874-92fd-602e-81e1-010203040506',\n",
       "    'label': 'User'}]}]"
      ]
     },
     "execution_count": 6,
     "metadata": {},
     "output_type": "execute_result"
    }
   ],
   "source": [
    "users = db.query(get_users())\n",
    "users"
   ]
  },
  {
   "cell_type": "code",
   "execution_count": null,
   "metadata": {},
   "outputs": [],
   "source": []
  }
 ],
 "metadata": {
  "kernelspec": {
   "display_name": ".venv",
   "language": "python",
   "name": "python3"
  },
  "language_info": {
   "codemirror_mode": {
    "name": "ipython",
    "version": 3
   },
   "file_extension": ".py",
   "mimetype": "text/x-python",
   "name": "python",
   "nbconvert_exporter": "python",
   "pygments_lexer": "ipython3",
   "version": "3.13.3"
  }
 },
 "nbformat": 4,
 "nbformat_minor": 2
}
