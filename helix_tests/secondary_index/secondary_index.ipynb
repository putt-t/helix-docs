{
 "cells": [
  {
   "cell_type": "code",
   "execution_count": 8,
   "metadata": {},
   "outputs": [
    {
     "name": "stdout",
     "output_type": "stream",
     "text": [
      "\u001b[32m[HELIX]\u001b[0m Helix instance found at 'http://0.0.0.0:6969'\n"
     ]
    }
   ],
   "source": [
    "import helix\n",
    "from helix import Client, Query, Payload\n",
    "from typing import Tuple, List, Any\n",
    "\n",
    "db = Client(local=True)\n",
    "\n",
    "class get_users(helix.Query):\n",
    "    def __init__(self):\n",
    "        super().__init__()\n",
    "    def query(self) -> List[Any]:\n",
    "        return [{}]\n",
    "    def response(self, response):\n",
    "        return response\n",
    "\n",
    "class create_user(Query):\n",
    "    def __init__(self, name:str, age:int, email:str, now:int):\n",
    "        super().__init__()\n",
    "        self.name = name\n",
    "        self.age = age\n",
    "        self.email = email\n",
    "        self.now = now\n",
    "    \n",
    "    def query(self) -> List[Payload]:\n",
    "        return [{\"name\": self.name, \"age\": self.age, \"email\": self.email, \"now\": self.now}]\n",
    "            \n",
    "    def response(self, response):\n",
    "        return response\n",
    "\n",
    "class get_by_index(Query):\n",
    "    def __init__(self, index_field: str):\n",
    "        super().__init__()\n",
    "        self.index_field = index_field\n",
    "\n",
    "    def query(self) -> List[Payload]:\n",
    "        return [{\"index_field\": self.index_field}]\n",
    "    \n",
    "    def response(self, response):\n",
    "        return response\n"
   ]
  },
  {
   "cell_type": "code",
   "execution_count": 9,
   "metadata": {},
   "outputs": [
    {
     "name": "stdout",
     "output_type": "stream",
     "text": [
      "Creating users...\n"
     ]
    },
    {
     "name": "stderr",
     "output_type": "stream",
     "text": [
      "\u001b[32m[HELIX]\u001b[0m Querying 'http://0.0.0.0:6969/create_user': 100%|██████████| 1/1 [00:00<00:00, 198.29it/s]\n"
     ]
    },
    {
     "name": "stdout",
     "output_type": "stream",
     "text": [
      "Created user1: [{'user': [{'name': 'John', 'updated_at': 1722222222, 'id': '1f041867-5cd2-684e-a4dd-010203040506', 'email': 'john@example.com', 'age': 30, 'created_at': 1722222222, 'label': 'User'}]}]\n"
     ]
    },
    {
     "name": "stderr",
     "output_type": "stream",
     "text": [
      "\u001b[32m[HELIX]\u001b[0m Querying 'http://0.0.0.0:6969/create_user': 100%|██████████| 1/1 [00:00<00:00, 216.08it/s]\n"
     ]
    },
    {
     "name": "stdout",
     "output_type": "stream",
     "text": [
      "Created user2: [{'user': [{'age': 25, 'label': 'User', 'email': 'jane@example.com', 'created_at': 1722222222, 'id': '1f041867-5ce1-6bbe-a4de-010203040506', 'updated_at': 1722222222, 'name': 'Jane'}]}]\n"
     ]
    },
    {
     "name": "stderr",
     "output_type": "stream",
     "text": [
      "\u001b[32m[HELIX]\u001b[0m Querying 'http://0.0.0.0:6969/create_user': 100%|██████████| 1/1 [00:00<00:00, 192.01it/s]\n"
     ]
    },
    {
     "name": "stdout",
     "output_type": "stream",
     "text": [
      "Created user3: [{'user': [{'age': 35, 'email': 'bob@example.com', 'name': 'Bob', 'id': '1f041867-5cef-608e-a4df-010203040506', 'updated_at': 1722222222, 'label': 'User', 'created_at': 1722222222}]}]\n"
     ]
    },
    {
     "name": "stderr",
     "output_type": "stream",
     "text": [
      "\u001b[32m[HELIX]\u001b[0m Querying 'http://0.0.0.0:6969/create_user': 100%|██████████| 1/1 [00:00<00:00, 208.16it/s]"
     ]
    },
    {
     "name": "stdout",
     "output_type": "stream",
     "text": [
      "Created user4: [{'user': [{'label': 'User', 'updated_at': 1722222222, 'id': '1f041867-5cfe-61ce-a4e0-010203040506', 'age': 21, 'name': 'James', 'created_at': 1722222222, 'email': 'james@example.com'}]}]\n"
     ]
    },
    {
     "name": "stderr",
     "output_type": "stream",
     "text": [
      "\n"
     ]
    }
   ],
   "source": [
    "\n",
    "# add some users in\n",
    "print(\"Creating users...\")\n",
    "john = db.query(create_user(\"John\", 30, \"john@example.com\", 1722222222))\n",
    "\n",
    "print(\"Created user1:\", john)\n",
    "\n",
    "jane = db.query(create_user(\"Jane\", 25, \"jane@example.com\", 1722222222))\n",
    "print(\"Created user2:\", jane)\n",
    "\n",
    "bob = db.query(create_user(\"Bob\", 35, \"bob@example.com\", 1722222222))\n",
    "print(\"Created user3:\", bob)\n",
    "\n",
    "james = db.query(create_user(\"James\", 21, \"james@example.com\", 1722222222))\n",
    "print(\"Created user4:\", james)\n"
   ]
  },
  {
   "cell_type": "code",
   "execution_count": 6,
   "metadata": {},
   "outputs": [
    {
     "name": "stderr",
     "output_type": "stream",
     "text": [
      "\u001b[32m[HELIX]\u001b[0m Querying 'http://0.0.0.0:6969/get_users': 100%|██████████| 1/1 [00:00<00:00, 845.28it/s]\n"
     ]
    },
    {
     "data": {
      "text/plain": [
       "[{'users': [{'name': 'John',\n",
       "    'updated_at': 1722222222,\n",
       "    'id': '1f04125b-414b-6628-8f55-010203040506',\n",
       "    'label': 'User',\n",
       "    'age': 30,\n",
       "    'email': 'john@example.com',\n",
       "    'created_at': 1722222222},\n",
       "   {'label': 'User',\n",
       "    'name': 'Jane',\n",
       "    'email': 'jane@example.com',\n",
       "    'updated_at': 1722222222,\n",
       "    'id': '1f04125b-415c-6afe-8f56-010203040506',\n",
       "    'created_at': 1722222222,\n",
       "    'age': 25},\n",
       "   {'email': 'bob@example.com',\n",
       "    'created_at': 1722222222,\n",
       "    'updated_at': 1722222222,\n",
       "    'id': '1f04125b-416e-6ce0-8f57-010203040506',\n",
       "    'label': 'User',\n",
       "    'age': 35,\n",
       "    'name': 'Bob'},\n",
       "   {'updated_at': 1722222222,\n",
       "    'age': 21,\n",
       "    'label': 'User',\n",
       "    'email': 'james@example.com',\n",
       "    'name': 'James',\n",
       "    'id': '1f04125b-417d-6dda-8f58-010203040506',\n",
       "    'created_at': 1722222222}]}]"
      ]
     },
     "execution_count": 6,
     "metadata": {},
     "output_type": "execute_result"
    }
   ],
   "source": [
    "db.query(get_users())"
   ]
  },
  {
   "cell_type": "code",
   "execution_count": 10,
   "metadata": {},
   "outputs": [
    {
     "name": "stderr",
     "output_type": "stream",
     "text": [
      "\u001b[32m[HELIX]\u001b[0m Querying 'http://0.0.0.0:6969/get_by_index': 100%|██████████| 1/1 [00:00<00:00, 1217.86it/s]\n"
     ]
    },
    {
     "data": {
      "text/plain": [
       "[{'node': []}]"
      ]
     },
     "execution_count": 10,
     "metadata": {},
     "output_type": "execute_result"
    }
   ],
   "source": [
    "db.query(get_by_index('john@example.com'))"
   ]
  },
  {
   "cell_type": "code",
   "execution_count": null,
   "metadata": {},
   "outputs": [],
   "source": []
  }
 ],
 "metadata": {
  "kernelspec": {
   "display_name": ".venv",
   "language": "python",
   "name": "python3"
  },
  "language_info": {
   "codemirror_mode": {
    "name": "ipython",
    "version": 3
   },
   "file_extension": ".py",
   "mimetype": "text/x-python",
   "name": "python",
   "nbconvert_exporter": "python",
   "pygments_lexer": "ipython3",
   "version": "3.13.3"
  }
 },
 "nbformat": 4,
 "nbformat_minor": 2
}
