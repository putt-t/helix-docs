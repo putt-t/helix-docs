{
 "cells": [
  {
   "cell_type": "code",
   "execution_count": 1,
   "metadata": {},
   "outputs": [
    {
     "name": "stdout",
     "output_type": "stream",
     "text": [
      "\u001b[32m[HELIX]\u001b[0m Helix instance found at 'http://0.0.0.0:6969'\n"
     ]
    }
   ],
   "source": [
    "import helix\n",
    "from helix import Client, Query, Payload\n",
    "from typing import Tuple, List, Any\n",
    "\n",
    "db = Client(local=True)"
   ]
  },
  {
   "cell_type": "code",
   "execution_count": 3,
   "metadata": {},
   "outputs": [],
   "source": [
    "class create_user(Query):\n",
    "    def __init__(self, name:str, age:int, email:str, now:int):\n",
    "        super().__init__()\n",
    "        self.name = name\n",
    "        self.age = age\n",
    "        self.email = email\n",
    "        self.now = now\n",
    "    \n",
    "    def query(self) -> List[Payload]:\n",
    "        return [{\"name\": self.name, \"age\": self.age, \"email\": self.email, \"now\": self.now}]\n",
    "            \n",
    "    def response(self, response):\n",
    "        return response\n",
    "\n",
    "\n",
    "class get_users(Query):\n",
    "    def __init__(self):\n",
    "        super().__init__()\n",
    "    \n",
    "    def query(self) -> List[Payload]:\n",
    "        return [{}]\n",
    "    \n",
    "    def response(self, response):\n",
    "        return response\n",
    "\n",
    "class user_statistics(Query):\n",
    "    def __init__(self):\n",
    "        super().__init__()\n",
    "    \n",
    "    def query(self) -> List[Payload]:\n",
    "        return [{}]\n",
    "    \n",
    "    def response(self, response):\n",
    "        return response.get('user_count')\n",
    "\n",
    "\n",
    "class get_range(Query):\n",
    "    def __init__(self, start: int, end: int):\n",
    "        super().__init__()\n",
    "        self.start = start\n",
    "        self.end = end\n",
    "    \n",
    "    def query(self) -> List[Payload]:\n",
    "        return [{\"start\": self.start, \"end\": self.end}]\n",
    "    \n",
    "    def response(self, response):\n",
    "        return response\n",
    "    "
   ]
  },
  {
   "cell_type": "code",
   "execution_count": 4,
   "metadata": {},
   "outputs": [
    {
     "name": "stderr",
     "output_type": "stream",
     "text": [
      "\u001b[32m[HELIX]\u001b[0m Querying 'http://0.0.0.0:6969/create_user': 100%|██████████| 1/1 [00:00<00:00, 78.58it/s]\n",
      "\u001b[32m[HELIX]\u001b[0m Querying 'http://0.0.0.0:6969/create_user': 100%|██████████| 1/1 [00:00<00:00, 166.92it/s]\n",
      "\u001b[32m[HELIX]\u001b[0m Querying 'http://0.0.0.0:6969/create_user': 100%|██████████| 1/1 [00:00<00:00, 171.00it/s]\n",
      "\u001b[32m[HELIX]\u001b[0m Querying 'http://0.0.0.0:6969/create_user': 100%|██████████| 1/1 [00:00<00:00, 206.02it/s]\n"
     ]
    }
   ],
   "source": [
    "\n",
    "user1 = db.query(create_user(\"John\", 30, \"john@example.com\", 1722222222))\n",
    "user2 = db.query(create_user(\"Jane\", 25, \"jane@example.com\", 1722222222))\n",
    "user3 = db.query(create_user(\"Bob\", 35, \"bob@example.com\", 1722222222))\n",
    "user4 = db.query(create_user(\"James\", 21, \"james@example.com\", 1722222222))\n"
   ]
  },
  {
   "cell_type": "code",
   "execution_count": 8,
   "metadata": {},
   "outputs": [
    {
     "name": "stderr",
     "output_type": "stream",
     "text": [
      "\u001b[32m[HELIX]\u001b[0m Querying 'http://0.0.0.0:6969/user_statistics': 100%|██████████| 1/1 [00:00<00:00, 1240.55it/s]\n"
     ]
    },
    {
     "data": {
      "text/plain": [
       "[4]"
      ]
     },
     "execution_count": 8,
     "metadata": {},
     "output_type": "execute_result"
    }
   ],
   "source": [
    "user_count = db.query(user_statistics())\n",
    "user_count"
   ]
  },
  {
   "cell_type": "code",
   "execution_count": 6,
   "metadata": {},
   "outputs": [
    {
     "name": "stderr",
     "output_type": "stream",
     "text": [
      "\u001b[32m[HELIX]\u001b[0m Querying 'http://0.0.0.0:6969/get_range': 100%|██████████| 1/1 [00:00<00:00, 1703.62it/s]\n"
     ]
    },
    {
     "data": {
      "text/plain": [
       "[{'range': [{'created_at': 1722222222,\n",
       "    'age': 30,\n",
       "    'name': 'John',\n",
       "    'label': 'User',\n",
       "    'id': '1f045a61-7eed-6136-8b0d-010203040506',\n",
       "    'updated_at': 1722222222,\n",
       "    'email': 'john@example.com'},\n",
       "   {'created_at': 1722222222,\n",
       "    'name': 'Jane',\n",
       "    'id': '1f045a61-7efe-6e4a-8b0e-010203040506',\n",
       "    'label': 'User',\n",
       "    'updated_at': 1722222222,\n",
       "    'email': 'jane@example.com',\n",
       "    'age': 25},\n",
       "   {'name': 'Bob',\n",
       "    'updated_at': 1722222222,\n",
       "    'age': 35,\n",
       "    'label': 'User',\n",
       "    'email': 'bob@example.com',\n",
       "    'id': '1f045a61-7f0f-674a-8b0f-010203040506',\n",
       "    'created_at': 1722222222},\n",
       "   {'id': '1f045a61-7f1f-6c6c-8b10-010203040506',\n",
       "    'updated_at': 1722222222,\n",
       "    'age': 21,\n",
       "    'label': 'User',\n",
       "    'created_at': 1722222222,\n",
       "    'email': 'james@example.com',\n",
       "    'name': 'James'}]}]"
      ]
     },
     "execution_count": 6,
     "metadata": {},
     "output_type": "execute_result"
    }
   ],
   "source": [
    "\n",
    "range = db.query(get_range(1, 3))\n",
    "range"
   ]
  },
  {
   "cell_type": "code",
   "execution_count": null,
   "metadata": {},
   "outputs": [],
   "source": []
  }
 ],
 "metadata": {
  "kernelspec": {
   "display_name": ".venv",
   "language": "python",
   "name": "python3"
  },
  "language_info": {
   "codemirror_mode": {
    "name": "ipython",
    "version": 3
   },
   "file_extension": ".py",
   "mimetype": "text/x-python",
   "name": "python",
   "nbconvert_exporter": "python",
   "pygments_lexer": "ipython3",
   "version": "3.13.3"
  }
 },
 "nbformat": 4,
 "nbformat_minor": 2
}
