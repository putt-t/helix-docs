{
 "cells": [
  {
   "cell_type": "code",
   "execution_count": 18,
   "metadata": {},
   "outputs": [
    {
     "name": "stdout",
     "output_type": "stream",
     "text": [
      "\u001b[32m[HELIX]\u001b[0m Helix instance found at 'http://0.0.0.0:6969'\n"
     ]
    }
   ],
   "source": [
    "import helix\n",
    "from helix import Client, Query, Payload\n",
    "from typing import Tuple, List\n",
    "\n",
    "db = Client(local=True)\n",
    "\n",
    "class create_user(Query):\n",
    "    def __init__(self, name:str, age:int, email:str, now:int):\n",
    "        super().__init__()\n",
    "        self.name = name\n",
    "        self.age = age\n",
    "        self.email = email\n",
    "        self.now = now\n",
    "    \n",
    "    def query(self) -> List[Payload]:\n",
    "        return [{\"name\": self.name, \"age\": self.age, \"email\": self.email, \"now\": self.now}]\n",
    "            \n",
    "    def response(self, response):\n",
    "        return response\n",
    "\n",
    " "
   ]
  },
  {
   "cell_type": "code",
   "execution_count": 13,
   "metadata": {},
   "outputs": [
    {
     "name": "stdout",
     "output_type": "stream",
     "text": [
      "Creating users...\n"
     ]
    },
    {
     "name": "stderr",
     "output_type": "stream",
     "text": [
      "\u001b[32m[HELIX]\u001b[0m Querying 'http://0.0.0.0:6969/create_user': 100%|██████████| 1/1 [00:00<00:00, 191.83it/s]\n",
      "\u001b[32m[HELIX]\u001b[0m Querying 'http://0.0.0.0:6969/create_user': 100%|██████████| 1/1 [00:00<00:00, 201.78it/s]\n"
     ]
    },
    {
     "name": "stdout",
     "output_type": "stream",
     "text": [
      "Created user2: [{'user': [{'updated_at': 1722222222, 'created_at': 1722222222, 'email': 'jane@example.com', 'id': '1f045976-1149-6e5e-b420-010203040506', 'label': 'User', 'age': 25, 'name': 'Jane'}]}]\n"
     ]
    },
    {
     "name": "stderr",
     "output_type": "stream",
     "text": [
      "\u001b[32m[HELIX]\u001b[0m Querying 'http://0.0.0.0:6969/create_user': 100%|██████████| 1/1 [00:00<00:00, 172.00it/s]\n"
     ]
    },
    {
     "name": "stdout",
     "output_type": "stream",
     "text": [
      "Created user3: [{'user': [{'updated_at': 1722222222, 'email': 'bob@example.com', 'id': '1f045976-1158-6436-b421-010203040506', 'label': 'User', 'age': 35, 'created_at': 1722222222, 'name': 'Bob'}]}]\n"
     ]
    },
    {
     "name": "stderr",
     "output_type": "stream",
     "text": [
      "\u001b[32m[HELIX]\u001b[0m Querying 'http://0.0.0.0:6969/create_user': 100%|██████████| 1/1 [00:00<00:00, 191.79it/s]"
     ]
    },
    {
     "name": "stdout",
     "output_type": "stream",
     "text": [
      "Created user4: [{'user': [{'updated_at': 1722222222, 'id': '1f045976-116a-6bc2-b422-010203040506', 'label': 'User', 'email': 'james@example.com', 'created_at': 1722222222, 'age': 21, 'name': 'James'}]}]\n"
     ]
    },
    {
     "name": "stderr",
     "output_type": "stream",
     "text": [
      "\n"
     ]
    }
   ],
   "source": [
    "\n",
    "# add some users in\n",
    "print(\"Creating users...\")\n",
    "john = db.query(create_user(\"John\", 30, \"john@example.com\", 1722222222))\n",
    "\n",
    "jane = db.query(create_user(\"Jane\", 25, \"jane@example.com\", 1722222222))\n",
    "print(\"Created user2:\", jane)\n",
    "\n",
    "bob = db.query(create_user(\"Bob\", 35, \"bob@example.com\", 1722222222))\n",
    "print(\"Created user3:\", bob)\n",
    "\n",
    "james = db.query(create_user(\"James\", 21, \"james@example.com\", 1722222222))\n",
    "print(\"Created user4:\", james)\n"
   ]
  },
  {
   "cell_type": "markdown",
   "metadata": {},
   "source": [
    "## Property Access"
   ]
  },
  {
   "cell_type": "code",
   "execution_count": null,
   "metadata": {},
   "outputs": [],
   "source": [
    "\n",
    "class find_users_access(Query):\n",
    "    def __init__(self):\n",
    "        super().__init__()\n",
    "    \n",
    "    def query(self) -> List[Payload]:\n",
    "        return [{}]\n",
    "    \n",
    "    def response(self, response):\n",
    "        return response"
   ]
  },
  {
   "cell_type": "code",
   "execution_count": 19,
   "metadata": {},
   "outputs": [
    {
     "name": "stderr",
     "output_type": "stream",
     "text": [
      "\u001b[32m[HELIX]\u001b[0m Querying 'http://0.0.0.0:6969/find_users': 100%|██████████| 1/1 [00:00<00:00, 1232.89it/s]\n"
     ]
    },
    {
     "data": {
      "text/plain": [
       "[{'users': [{'age': [30]}, {'age': [25]}, {'age': [35]}, {'age': [21]}]}]"
      ]
     },
     "execution_count": 19,
     "metadata": {},
     "output_type": "execute_result"
    }
   ],
   "source": [
    "db.query(find_users())"
   ]
  },
  {
   "cell_type": "markdown",
   "metadata": {},
   "source": [
    "## Property Additions"
   ]
  },
  {
   "cell_type": "code",
   "execution_count": null,
   "metadata": {},
   "outputs": [],
   "source": [
    "class get_user_details_addition(Query):\n",
    "    def __init__(self):\n",
    "        super().__init__()\n",
    "    \n",
    "    def query(self) -> List[Payload]:\n",
    "        return [{}]\n",
    "    \n",
    "    def response(self, response):\n",
    "        return response"
   ]
  },
  {
   "cell_type": "code",
   "execution_count": null,
   "metadata": {},
   "outputs": [],
   "source": [
    "db.query(get_user_details_addition())"
   ]
  },
  {
   "cell_type": "markdown",
   "metadata": {},
   "source": [
    "### Property Exclusions"
   ]
  },
  {
   "cell_type": "code",
   "execution_count": null,
   "metadata": {},
   "outputs": [],
   "source": [
    "class find_users_exclusion(Query):\n",
    "    def __init__(self):\n",
    "        super().__init__()\n",
    "    \n",
    "    def query(self) -> List[Payload]:\n",
    "        return [{}]\n",
    "    \n",
    "    def response(self, response):\n",
    "        return response"
   ]
  },
  {
   "cell_type": "code",
   "execution_count": null,
   "metadata": {},
   "outputs": [],
   "source": [
    "db.query(find_users_exclusion())"
   ]
  },
  {
   "cell_type": "markdown",
   "metadata": {},
   "source": [
    "### Property Remapping"
   ]
  },
  {
   "cell_type": "markdown",
   "metadata": {},
   "source": [
    "#### Simple Remapping"
   ]
  },
  {
   "cell_type": "code",
   "execution_count": 23,
   "metadata": {},
   "outputs": [],
   "source": [
    "class get_name_remapping_simple(Query):\n",
    "    def __init__(self):\n",
    "        super().__init__()\n",
    "    \n",
    "    def query(self) -> List[Payload]:\n",
    "        return [{}]\n",
    "    \n",
    "    def response(self, response):\n",
    "        return response"
   ]
  },
  {
   "cell_type": "code",
   "execution_count": 24,
   "metadata": {},
   "outputs": [
    {
     "name": "stderr",
     "output_type": "stream",
     "text": [
      "\u001b[32m[HELIX]\u001b[0m Querying 'http://0.0.0.0:6969/get_name_remapping': 100%|██████████| 1/1 [00:00<00:00, 1255.03it/s]\n"
     ]
    },
    {
     "data": {
      "text/plain": [
       "[{'users': [{'givenName': ['John']},\n",
       "   {'givenName': ['Jane']},\n",
       "   {'givenName': ['Bob']},\n",
       "   {'givenName': ['James']}]}]"
      ]
     },
     "execution_count": 24,
     "metadata": {},
     "output_type": "execute_result"
    }
   ],
   "source": [
    "db.query(get_name_remapping_simple())"
   ]
  },
  {
   "cell_type": "code",
   "execution_count": 33,
   "metadata": {},
   "outputs": [],
   "source": [
    "class create_post(Query):\n",
    "    def __init__(self, user_id: str, content: str, now: int):\n",
    "        super().__init__()\n",
    "        self.user_id = user_id\n",
    "        self.content = content\n",
    "        self.now = now\n",
    "    \n",
    "    def query(self):\n",
    "        return [{\"user_id\": self.user_id, \"content\": self.content, \"now\": self.now}]\n",
    "            \n",
    "    \n",
    "    def response(self, response):\n",
    "        return response"
   ]
  },
  {
   "cell_type": "code",
   "execution_count": 34,
   "metadata": {},
   "outputs": [
    {
     "name": "stderr",
     "output_type": "stream",
     "text": [
      "\u001b[32m[HELIX]\u001b[0m Querying 'http://0.0.0.0:6969/create_post': 100%|██████████| 1/1 [00:00<00:00, 161.39it/s]\n"
     ]
    },
    {
     "data": {
      "text/plain": [
       "{'id': '1f045a43-da65-657c-9552-010203040506',\n",
       " 'updated_at': 1983333333,\n",
       " 'created_at': 1983333333,\n",
       " 'label': 'Post',\n",
       " 'content': 'Sample Post Content Hello World'}"
      ]
     },
     "execution_count": 34,
     "metadata": {},
     "output_type": "execute_result"
    }
   ],
   "source": [
    "content = \"Sample Post Content Hello World\"\n",
    "db.query(create_post(james[0][\"user\"][0]['id'], content, 1983333333))[0]['post'][0]"
   ]
  },
  {
   "cell_type": "markdown",
   "metadata": {},
   "source": [
    "#### Nested Mapping"
   ]
  },
  {
   "cell_type": "code",
   "execution_count": 38,
   "metadata": {},
   "outputs": [],
   "source": [
    "class find_user_posts_with_creator_details(Query):\n",
    "    def __init__(self, userID: str):\n",
    "        super().__init__()\n",
    "        self.userID = userID\n",
    "    \n",
    "    def query(self) -> List[Payload]:\n",
    "        return [{\"userID\": self.userID}]\n",
    "    \n",
    "    def response(self, response):\n",
    "        return response"
   ]
  },
  {
   "cell_type": "code",
   "execution_count": 39,
   "metadata": {},
   "outputs": [
    {
     "name": "stderr",
     "output_type": "stream",
     "text": [
      "\u001b[32m[HELIX]\u001b[0m Querying 'http://0.0.0.0:6969/find_user_posts_with_creator_details': 100%|██████████| 1/1 [00:00<00:00, 1266.01it/s]\n"
     ]
    },
    {
     "data": {
      "text/plain": [
       "[{'user': [{'createdPosts': [{'label': 'Post',\n",
       "      'created_at': 1983333333,\n",
       "      'updated_at': 1983333333,\n",
       "      'content': 'Sample Post Content Hello World',\n",
       "      'id': '1f045a43-da65-657c-9552-010203040506'}]}]}]"
      ]
     },
     "execution_count": 39,
     "metadata": {},
     "output_type": "execute_result"
    }
   ],
   "source": [
    "db.query(find_user_posts_with_creator_details(james[0][\"user\"][0]['id']))"
   ]
  }
 ],
 "metadata": {
  "kernelspec": {
   "display_name": ".venv",
   "language": "python",
   "name": "python3"
  },
  "language_info": {
   "codemirror_mode": {
    "name": "ipython",
    "version": 3
   },
   "file_extension": ".py",
   "mimetype": "text/x-python",
   "name": "python",
   "nbconvert_exporter": "python",
   "pygments_lexer": "ipython3",
   "version": "3.13.3"
  }
 },
 "nbformat": 4,
 "nbformat_minor": 2
}
