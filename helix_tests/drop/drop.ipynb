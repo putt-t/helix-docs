{
 "cells": [
  {
   "cell_type": "code",
   "execution_count": 20,
   "metadata": {},
   "outputs": [
    {
     "name": "stdout",
     "output_type": "stream",
     "text": [
      "\u001b[32m[HELIX]\u001b[0m Helix instance found at 'http://0.0.0.0:6969'\n"
     ]
    }
   ],
   "source": [
    "import helix\n",
    "from helix import Client, Query, Payload\n",
    "from typing import Tuple, List\n",
    "\n",
    "db = Client(local=True)\n",
    "\n",
    "class drop_following(helix.Query):\n",
    "    def __init__(self, userID: str):\n",
    "        super().__init__()\n",
    "        self.userID = userID\n",
    "    \n",
    "    def query(self) -> List[Payload]:\n",
    "        return [{\"userID\": self.userID}]\n",
    "    \n",
    "    def response(self, response):\n",
    "        return response\n",
    "    \n",
    "class get_users(helix.Query):\n",
    "    def __init__(self):\n",
    "        super().__init__()\n",
    "    def query(self) -> List[Payload]:\n",
    "        return [{}]\n",
    "    def response(self, response):\n",
    "        return response\n",
    "    \n",
    "class create_user(Query):\n",
    "    def __init__(self, name:str, age:int, email:str, now:int):\n",
    "        super().__init__()\n",
    "        self.name = name\n",
    "        self.age = age\n",
    "        self.email = email\n",
    "        self.now = now\n",
    "    \n",
    "    def query(self) -> List[Payload]:\n",
    "        return [{\"name\": self.name, \"age\": self.age, \"email\": self.email, \"now\": self.now}]\n",
    "            \n",
    "    def response(self, response):\n",
    "        return response\n",
    "\n",
    "class create_follow(Query):\n",
    "    def __init__(self, follower_id: str, followed_id: str, now: int):\n",
    "        super().__init__()\n",
    "        self.follower_id = follower_id\n",
    "        self.followed_id = followed_id\n",
    "        self.now = now\n",
    "    \n",
    "    def query(self) -> List[Payload]:\n",
    "        return [{\"follower_id\": self.follower_id, \"followed_id\": self.followed_id, \"now\": self.now}]\n",
    "            \n",
    "    \n",
    "    def response(self, response):\n",
    "        return response\n",
    "\n",
    "class get_followed_users(Query):\n",
    "    def __init__(self, user_id: str):\n",
    "        super().__init__()\n",
    "        self.user_id = user_id\n",
    "    \n",
    "    def query(self) -> List[Payload]:\n",
    "        return [{\"user_id\": self.user_id}]\n",
    "    \n",
    "    def response(self, response):\n",
    "        return response\n",
    "    "
   ]
  },
  {
   "cell_type": "code",
   "execution_count": 3,
   "metadata": {},
   "outputs": [
    {
     "name": "stdout",
     "output_type": "stream",
     "text": [
      "Creating users...\n"
     ]
    },
    {
     "name": "stderr",
     "output_type": "stream",
     "text": [
      "\u001b[32m[HELIX]\u001b[0m Querying 'http://0.0.0.0:6969/create_user':   0%|          | 0/1 [00:00<?, ?it/s]"
     ]
    },
    {
     "name": "stderr",
     "output_type": "stream",
     "text": [
      "\u001b[32m[HELIX]\u001b[0m Querying 'http://0.0.0.0:6969/create_user': 100%|██████████| 1/1 [00:00<00:00, 77.87it/s]\n",
      "\u001b[32m[HELIX]\u001b[0m Querying 'http://0.0.0.0:6969/create_user': 100%|██████████| 1/1 [00:00<00:00, 213.71it/s]\n"
     ]
    },
    {
     "name": "stdout",
     "output_type": "stream",
     "text": [
      "Created user2: [{'user': [{'email': 'jane@example.com', 'updated_at': 1722222222, 'created_at': 1722222222, 'name': 'Jane', 'age': 25, 'id': '1f040fee-3af0-6360-b9dc-010203040506', 'label': 'User'}]}]\n"
     ]
    },
    {
     "name": "stderr",
     "output_type": "stream",
     "text": [
      "\u001b[32m[HELIX]\u001b[0m Querying 'http://0.0.0.0:6969/create_user': 100%|██████████| 1/1 [00:00<00:00, 197.78it/s]\n"
     ]
    },
    {
     "name": "stdout",
     "output_type": "stream",
     "text": [
      "Created user3: [{'user': [{'updated_at': 1722222222, 'age': 35, 'id': '1f040fee-3afd-640c-b9dd-010203040506', 'label': 'User', 'created_at': 1722222222, 'email': 'bob@example.com', 'name': 'Bob'}]}]\n"
     ]
    },
    {
     "name": "stderr",
     "output_type": "stream",
     "text": [
      "\u001b[32m[HELIX]\u001b[0m Querying 'http://0.0.0.0:6969/create_user': 100%|██████████| 1/1 [00:00<00:00, 203.63it/s]"
     ]
    },
    {
     "name": "stdout",
     "output_type": "stream",
     "text": [
      "Created user4: [{'user': [{'id': '1f040fee-3b0c-6a88-b9de-010203040506', 'email': 'james@example.com', 'updated_at': 1722222222, 'age': 21, 'label': 'User', 'created_at': 1722222222, 'name': 'James'}]}]\n"
     ]
    },
    {
     "name": "stderr",
     "output_type": "stream",
     "text": [
      "\n"
     ]
    }
   ],
   "source": [
    "\n",
    "# add some users in\n",
    "print(\"Creating users...\")\n",
    "john = db.query(create_user(\"John\", 30, \"john@example.com\", 1722222222))\n",
    "\n",
    "jane = db.query(create_user(\"Jane\", 25, \"jane@example.com\", 1722222222))\n",
    "print(\"Created user2:\", jane)\n",
    "\n",
    "bob = db.query(create_user(\"Bob\", 35, \"bob@example.com\", 1722222222))\n",
    "print(\"Created user3:\", bob)\n",
    "\n",
    "james = db.query(create_user(\"James\", 21, \"james@example.com\", 1722222222))\n",
    "print(\"Created user4:\", james)\n"
   ]
  },
  {
   "cell_type": "code",
   "execution_count": 4,
   "metadata": {},
   "outputs": [
    {
     "data": {
      "text/plain": [
       "[{'user': [{'created_at': 1722222222,\n",
       "    'email': 'john@example.com',\n",
       "    'name': 'John',\n",
       "    'id': '1f040fee-3ade-693a-b9db-010203040506',\n",
       "    'updated_at': 1722222222,\n",
       "    'age': 30,\n",
       "    'label': 'User'}]}]"
      ]
     },
     "execution_count": 4,
     "metadata": {},
     "output_type": "execute_result"
    }
   ],
   "source": [
    "john"
   ]
  },
  {
   "cell_type": "code",
   "execution_count": 5,
   "metadata": {},
   "outputs": [
    {
     "data": {
      "text/plain": [
       "'1f040fee-3ade-693a-b9db-010203040506'"
      ]
     },
     "execution_count": 5,
     "metadata": {},
     "output_type": "execute_result"
    }
   ],
   "source": [
    "john[0]['user'][0]['id']"
   ]
  },
  {
   "cell_type": "code",
   "execution_count": 8,
   "metadata": {},
   "outputs": [
    {
     "name": "stderr",
     "output_type": "stream",
     "text": [
      "\u001b[32m[HELIX]\u001b[0m Querying 'http://0.0.0.0:6969/get_users': 100%|██████████| 1/1 [00:00<00:00, 1288.57it/s]\n"
     ]
    },
    {
     "data": {
      "text/plain": [
       "[{'users': [{'created_at': 1722222222,\n",
       "    'email': 'john@example.com',\n",
       "    'id': '1f040fee-3ade-693a-b9db-010203040506',\n",
       "    'label': 'User',\n",
       "    'name': 'John',\n",
       "    'updated_at': 1722222222,\n",
       "    'age': 30},\n",
       "   {'label': 'User',\n",
       "    'name': 'Jane',\n",
       "    'email': 'jane@example.com',\n",
       "    'age': 25,\n",
       "    'updated_at': 1722222222,\n",
       "    'created_at': 1722222222,\n",
       "    'id': '1f040fee-3af0-6360-b9dc-010203040506'},\n",
       "   {'age': 35,\n",
       "    'email': 'bob@example.com',\n",
       "    'created_at': 1722222222,\n",
       "    'label': 'User',\n",
       "    'name': 'Bob',\n",
       "    'id': '1f040fee-3afd-640c-b9dd-010203040506',\n",
       "    'updated_at': 1722222222},\n",
       "   {'age': 21,\n",
       "    'created_at': 1722222222,\n",
       "    'updated_at': 1722222222,\n",
       "    'id': '1f040fee-3b0c-6a88-b9de-010203040506',\n",
       "    'label': 'User',\n",
       "    'email': 'james@example.com',\n",
       "    'name': 'James'}]}]"
      ]
     },
     "execution_count": 8,
     "metadata": {},
     "output_type": "execute_result"
    }
   ],
   "source": [
    "\n",
    "# get users info\n",
    "users_result = db.query(get_users())\n",
    "users_result\n"
   ]
  },
  {
   "cell_type": "code",
   "execution_count": 9,
   "metadata": {},
   "outputs": [
    {
     "name": "stderr",
     "output_type": "stream",
     "text": [
      "\u001b[32m[HELIX]\u001b[0m Querying 'http://0.0.0.0:6969/create_follow': 100%|██████████| 1/1 [00:00<00:00, 147.47it/s]"
     ]
    },
    {
     "name": "stdout",
     "output_type": "stream",
     "text": [
      "Follow result: [{'success': 'success'}]\n"
     ]
    },
    {
     "name": "stderr",
     "output_type": "stream",
     "text": [
      "\n"
     ]
    }
   ],
   "source": [
    "\n",
    "# Create a follow relationship between John and Bob using actual IDs\n",
    "\n",
    "follow_result = db.query(create_follow(john[0]['user'][0]['id'], bob[0]['user'][0]['id'], 1892222222))\n",
    "print(\"Follow result:\", follow_result)\n"
   ]
  },
  {
   "cell_type": "code",
   "execution_count": 13,
   "metadata": {},
   "outputs": [
    {
     "name": "stderr",
     "output_type": "stream",
     "text": [
      "\u001b[32m[HELIX]\u001b[0m Querying 'http://0.0.0.0:6969/get_followed_users': 100%|██████████| 1/1 [00:00<00:00, 1529.09it/s]\n"
     ]
    },
    {
     "data": {
      "text/plain": [
       "[{'followed': [{'updated_at': 1722222222,\n",
       "    'email': 'bob@example.com',\n",
       "    'id': '1f040fee-3afd-640c-b9dd-010203040506',\n",
       "    'name': 'Bob',\n",
       "    'created_at': 1722222222,\n",
       "    'label': 'User',\n",
       "    'age': 35}]}]"
      ]
     },
     "execution_count": 13,
     "metadata": {},
     "output_type": "execute_result"
    }
   ],
   "source": [
    "db.query(get_followed_users(john[0]['user'][0]['id']))"
   ]
  },
  {
   "cell_type": "markdown",
   "metadata": {},
   "source": [
    "# Dropping"
   ]
  },
  {
   "cell_type": "code",
   "execution_count": 21,
   "metadata": {},
   "outputs": [
    {
     "name": "stderr",
     "output_type": "stream",
     "text": [
      "\u001b[32m[HELIX]\u001b[0m Querying 'http://0.0.0.0:6969/drop_following': 100%|██████████| 1/1 [00:00<00:00, 1333.64it/s]\n"
     ]
    },
    {
     "data": {
      "text/plain": [
       "[{}]"
      ]
     },
     "execution_count": 21,
     "metadata": {},
     "output_type": "execute_result"
    }
   ],
   "source": [
    "db.query(drop_following(john[0]['user'][0]['id']))"
   ]
  },
  {
   "cell_type": "code",
   "execution_count": 22,
   "metadata": {},
   "outputs": [
    {
     "name": "stderr",
     "output_type": "stream",
     "text": [
      "\u001b[32m[HELIX]\u001b[0m Querying 'http://0.0.0.0:6969/get_followed_users': 100%|██████████| 1/1 [00:00<00:00, 1261.07it/s]\n"
     ]
    },
    {
     "data": {
      "text/plain": [
       "[{'followed': [{'email': 'bob@example.com',\n",
       "    'age': 35,\n",
       "    'id': '1f040fee-3afd-640c-b9dd-010203040506',\n",
       "    'label': 'User',\n",
       "    'name': 'Bob',\n",
       "    'updated_at': 1722222222,\n",
       "    'created_at': 1722222222}]}]"
      ]
     },
     "execution_count": 22,
     "metadata": {},
     "output_type": "execute_result"
    }
   ],
   "source": [
    "db.query(get_followed_users(john[0]['user'][0]['id']))"
   ]
  },
  {
   "cell_type": "code",
   "execution_count": null,
   "metadata": {},
   "outputs": [],
   "source": []
  }
 ],
 "metadata": {
  "kernelspec": {
   "display_name": ".venv",
   "language": "python",
   "name": "python3"
  },
  "language_info": {
   "codemirror_mode": {
    "name": "ipython",
    "version": 3
   },
   "file_extension": ".py",
   "mimetype": "text/x-python",
   "name": "python",
   "nbconvert_exporter": "python",
   "pygments_lexer": "ipython3",
   "version": "3.13.3"
  }
 },
 "nbformat": 4,
 "nbformat_minor": 2
}
